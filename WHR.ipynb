{
  "nbformat": 4,
  "nbformat_minor": 0,
  "metadata": {
    "colab": {
      "provenance": [],
      "authorship_tag": "ABX9TyMPW8TUoUqjXPEFx9iZWROD",
      "include_colab_link": true
    },
    "kernelspec": {
      "name": "python3",
      "display_name": "Python 3"
    },
    "language_info": {
      "name": "python"
    }
  },
  "cells": [
    {
      "cell_type": "markdown",
      "metadata": {
        "id": "view-in-github",
        "colab_type": "text"
      },
      "source": [
        "<a href=\"https://colab.research.google.com/github/LCaravaggio/ClaseFelicidad_Maestria/blob/main/WHR.ipynb\" target=\"_parent\"><img src=\"https://colab.research.google.com/assets/colab-badge.svg\" alt=\"Open In Colab\"/></a>"
      ]
    },
    {
      "cell_type": "code",
      "source": [
        "!pip install matplotlib==3.1.3"
      ],
      "metadata": {
        "id": "msqJQD5LD9Je",
        "outputId": "9cb7ed86-c156-45ca-88b1-e38b878d27a2",
        "colab": {
          "base_uri": "https://localhost:8080/",
          "height": 419
        }
      },
      "execution_count": 1,
      "outputs": [
        {
          "output_type": "stream",
          "name": "stdout",
          "text": [
            "Looking in indexes: https://pypi.org/simple, https://us-python.pkg.dev/colab-wheels/public/simple/\n",
            "Collecting matplotlib==3.1.3\n",
            "  Downloading matplotlib-3.1.3-cp37-cp37m-manylinux1_x86_64.whl (13.1 MB)\n",
            "\u001b[K     |████████████████████████████████| 13.1 MB 7.2 MB/s \n",
            "\u001b[?25hRequirement already satisfied: cycler>=0.10 in /usr/local/lib/python3.7/dist-packages (from matplotlib==3.1.3) (0.11.0)\n",
            "Requirement already satisfied: kiwisolver>=1.0.1 in /usr/local/lib/python3.7/dist-packages (from matplotlib==3.1.3) (1.4.4)\n",
            "Requirement already satisfied: pyparsing!=2.0.4,!=2.1.2,!=2.1.6,>=2.0.1 in /usr/local/lib/python3.7/dist-packages (from matplotlib==3.1.3) (3.0.9)\n",
            "Requirement already satisfied: numpy>=1.11 in /usr/local/lib/python3.7/dist-packages (from matplotlib==3.1.3) (1.21.6)\n",
            "Requirement already satisfied: python-dateutil>=2.1 in /usr/local/lib/python3.7/dist-packages (from matplotlib==3.1.3) (2.8.2)\n",
            "Requirement already satisfied: typing-extensions in /usr/local/lib/python3.7/dist-packages (from kiwisolver>=1.0.1->matplotlib==3.1.3) (4.1.1)\n",
            "Requirement already satisfied: six>=1.5 in /usr/local/lib/python3.7/dist-packages (from python-dateutil>=2.1->matplotlib==3.1.3) (1.15.0)\n",
            "Installing collected packages: matplotlib\n",
            "  Attempting uninstall: matplotlib\n",
            "    Found existing installation: matplotlib 3.2.2\n",
            "    Uninstalling matplotlib-3.2.2:\n",
            "      Successfully uninstalled matplotlib-3.2.2\n",
            "Successfully installed matplotlib-3.1.3\n"
          ]
        },
        {
          "output_type": "display_data",
          "data": {
            "application/vnd.colab-display-data+json": {
              "pip_warning": {
                "packages": [
                  "matplotlib",
                  "mpl_toolkits"
                ]
              }
            }
          },
          "metadata": {}
        }
      ]
    },
    {
      "cell_type": "code",
      "execution_count": 1,
      "metadata": {
        "id": "52XPnnrvzfNa"
      },
      "outputs": [],
      "source": [
        "import pandas as pd\n",
        "import numpy as np"
      ]
    },
    {
      "cell_type": "code",
      "source": [
        "import json\n",
        "from google.colab import drive\n",
        "\n",
        "!mkdir ~/.kaggle\n",
        "!touch ~/.kaggle/kaggle.json\n",
        "\n",
        "drive.mount('/content/drive', force_remount=True)\n",
        "with open(\"/content/drive/My Drive/kaggle.json\", 'r') as f:\n",
        "    api_token= json.load(f)\n",
        "\n",
        "with open('/root/.kaggle/kaggle.json', 'w') as file:\n",
        "    json.dump(api_token, file)\n",
        "\n",
        "!chmod 600 ~/.kaggle/kaggle.json\n",
        "\n",
        "!kaggle datasets download -d unsdsn/world-happiness"
      ],
      "metadata": {
        "colab": {
          "base_uri": "https://localhost:8080/"
        },
        "id": "GFpV4pj5zxqS",
        "outputId": "58a80466-00d8-4e5f-bc50-ea5a6510c739"
      },
      "execution_count": 2,
      "outputs": [
        {
          "output_type": "stream",
          "name": "stdout",
          "text": [
            "Mounted at /content/drive\n",
            "Downloading world-happiness.zip to /content\n",
            "  0% 0.00/36.8k [00:00<?, ?B/s]\n",
            "100% 36.8k/36.8k [00:00<00:00, 24.1MB/s]\n"
          ]
        }
      ]
    },
    {
      "cell_type": "code",
      "source": [
        "import zipfile\n",
        "import os\n",
        "\n",
        "os.listdir()\n",
        "\n",
        "for file in os.listdir():\n",
        "    if file.endswith('.zip'):\n",
        "      zip_ref = zipfile.ZipFile(file, 'r')\n",
        "      zip_ref.extractall()\n",
        "      zip_ref.close()"
      ],
      "metadata": {
        "id": "NPTRG5MZ0Ful"
      },
      "execution_count": 3,
      "outputs": []
    },
    {
      "cell_type": "code",
      "source": [
        "df = pd.read_csv('/content/2019.csv')"
      ],
      "metadata": {
        "id": "DF9Qb3mt0QdO"
      },
      "execution_count": 4,
      "outputs": []
    },
    {
      "cell_type": "code",
      "source": [
        "df.head(20)"
      ],
      "metadata": {
        "colab": {
          "base_uri": "https://localhost:8080/",
          "height": 773
        },
        "id": "YkMGcZ5d0Y5_",
        "outputId": "341fc255-fefa-43d9-d961-f79eeb30331f"
      },
      "execution_count": 6,
      "outputs": [
        {
          "output_type": "execute_result",
          "data": {
            "text/plain": [
              "    Overall rank Country or region  Score  GDP per capita  Social support  \\\n",
              "0              1           Finland  7.769           1.340           1.587   \n",
              "1              2           Denmark  7.600           1.383           1.573   \n",
              "2              3            Norway  7.554           1.488           1.582   \n",
              "3              4           Iceland  7.494           1.380           1.624   \n",
              "4              5       Netherlands  7.488           1.396           1.522   \n",
              "5              6       Switzerland  7.480           1.452           1.526   \n",
              "6              7            Sweden  7.343           1.387           1.487   \n",
              "7              8       New Zealand  7.307           1.303           1.557   \n",
              "8              9            Canada  7.278           1.365           1.505   \n",
              "9             10           Austria  7.246           1.376           1.475   \n",
              "10            11         Australia  7.228           1.372           1.548   \n",
              "11            12        Costa Rica  7.167           1.034           1.441   \n",
              "12            13            Israel  7.139           1.276           1.455   \n",
              "13            14        Luxembourg  7.090           1.609           1.479   \n",
              "14            15    United Kingdom  7.054           1.333           1.538   \n",
              "15            16           Ireland  7.021           1.499           1.553   \n",
              "16            17           Germany  6.985           1.373           1.454   \n",
              "17            18           Belgium  6.923           1.356           1.504   \n",
              "18            19     United States  6.892           1.433           1.457   \n",
              "19            20    Czech Republic  6.852           1.269           1.487   \n",
              "\n",
              "    Healthy life expectancy  Freedom to make life choices  Generosity  \\\n",
              "0                     0.986                         0.596       0.153   \n",
              "1                     0.996                         0.592       0.252   \n",
              "2                     1.028                         0.603       0.271   \n",
              "3                     1.026                         0.591       0.354   \n",
              "4                     0.999                         0.557       0.322   \n",
              "5                     1.052                         0.572       0.263   \n",
              "6                     1.009                         0.574       0.267   \n",
              "7                     1.026                         0.585       0.330   \n",
              "8                     1.039                         0.584       0.285   \n",
              "9                     1.016                         0.532       0.244   \n",
              "10                    1.036                         0.557       0.332   \n",
              "11                    0.963                         0.558       0.144   \n",
              "12                    1.029                         0.371       0.261   \n",
              "13                    1.012                         0.526       0.194   \n",
              "14                    0.996                         0.450       0.348   \n",
              "15                    0.999                         0.516       0.298   \n",
              "16                    0.987                         0.495       0.261   \n",
              "17                    0.986                         0.473       0.160   \n",
              "18                    0.874                         0.454       0.280   \n",
              "19                    0.920                         0.457       0.046   \n",
              "\n",
              "    Perceptions of corruption  \n",
              "0                       0.393  \n",
              "1                       0.410  \n",
              "2                       0.341  \n",
              "3                       0.118  \n",
              "4                       0.298  \n",
              "5                       0.343  \n",
              "6                       0.373  \n",
              "7                       0.380  \n",
              "8                       0.308  \n",
              "9                       0.226  \n",
              "10                      0.290  \n",
              "11                      0.093  \n",
              "12                      0.082  \n",
              "13                      0.316  \n",
              "14                      0.278  \n",
              "15                      0.310  \n",
              "16                      0.265  \n",
              "17                      0.210  \n",
              "18                      0.128  \n",
              "19                      0.036  "
            ],
            "text/html": [
              "\n",
              "  <div id=\"df-a27cfcb7-83af-4c97-bb08-c2e06f2a3313\">\n",
              "    <div class=\"colab-df-container\">\n",
              "      <div>\n",
              "<style scoped>\n",
              "    .dataframe tbody tr th:only-of-type {\n",
              "        vertical-align: middle;\n",
              "    }\n",
              "\n",
              "    .dataframe tbody tr th {\n",
              "        vertical-align: top;\n",
              "    }\n",
              "\n",
              "    .dataframe thead th {\n",
              "        text-align: right;\n",
              "    }\n",
              "</style>\n",
              "<table border=\"1\" class=\"dataframe\">\n",
              "  <thead>\n",
              "    <tr style=\"text-align: right;\">\n",
              "      <th></th>\n",
              "      <th>Overall rank</th>\n",
              "      <th>Country or region</th>\n",
              "      <th>Score</th>\n",
              "      <th>GDP per capita</th>\n",
              "      <th>Social support</th>\n",
              "      <th>Healthy life expectancy</th>\n",
              "      <th>Freedom to make life choices</th>\n",
              "      <th>Generosity</th>\n",
              "      <th>Perceptions of corruption</th>\n",
              "    </tr>\n",
              "  </thead>\n",
              "  <tbody>\n",
              "    <tr>\n",
              "      <th>0</th>\n",
              "      <td>1</td>\n",
              "      <td>Finland</td>\n",
              "      <td>7.769</td>\n",
              "      <td>1.340</td>\n",
              "      <td>1.587</td>\n",
              "      <td>0.986</td>\n",
              "      <td>0.596</td>\n",
              "      <td>0.153</td>\n",
              "      <td>0.393</td>\n",
              "    </tr>\n",
              "    <tr>\n",
              "      <th>1</th>\n",
              "      <td>2</td>\n",
              "      <td>Denmark</td>\n",
              "      <td>7.600</td>\n",
              "      <td>1.383</td>\n",
              "      <td>1.573</td>\n",
              "      <td>0.996</td>\n",
              "      <td>0.592</td>\n",
              "      <td>0.252</td>\n",
              "      <td>0.410</td>\n",
              "    </tr>\n",
              "    <tr>\n",
              "      <th>2</th>\n",
              "      <td>3</td>\n",
              "      <td>Norway</td>\n",
              "      <td>7.554</td>\n",
              "      <td>1.488</td>\n",
              "      <td>1.582</td>\n",
              "      <td>1.028</td>\n",
              "      <td>0.603</td>\n",
              "      <td>0.271</td>\n",
              "      <td>0.341</td>\n",
              "    </tr>\n",
              "    <tr>\n",
              "      <th>3</th>\n",
              "      <td>4</td>\n",
              "      <td>Iceland</td>\n",
              "      <td>7.494</td>\n",
              "      <td>1.380</td>\n",
              "      <td>1.624</td>\n",
              "      <td>1.026</td>\n",
              "      <td>0.591</td>\n",
              "      <td>0.354</td>\n",
              "      <td>0.118</td>\n",
              "    </tr>\n",
              "    <tr>\n",
              "      <th>4</th>\n",
              "      <td>5</td>\n",
              "      <td>Netherlands</td>\n",
              "      <td>7.488</td>\n",
              "      <td>1.396</td>\n",
              "      <td>1.522</td>\n",
              "      <td>0.999</td>\n",
              "      <td>0.557</td>\n",
              "      <td>0.322</td>\n",
              "      <td>0.298</td>\n",
              "    </tr>\n",
              "    <tr>\n",
              "      <th>5</th>\n",
              "      <td>6</td>\n",
              "      <td>Switzerland</td>\n",
              "      <td>7.480</td>\n",
              "      <td>1.452</td>\n",
              "      <td>1.526</td>\n",
              "      <td>1.052</td>\n",
              "      <td>0.572</td>\n",
              "      <td>0.263</td>\n",
              "      <td>0.343</td>\n",
              "    </tr>\n",
              "    <tr>\n",
              "      <th>6</th>\n",
              "      <td>7</td>\n",
              "      <td>Sweden</td>\n",
              "      <td>7.343</td>\n",
              "      <td>1.387</td>\n",
              "      <td>1.487</td>\n",
              "      <td>1.009</td>\n",
              "      <td>0.574</td>\n",
              "      <td>0.267</td>\n",
              "      <td>0.373</td>\n",
              "    </tr>\n",
              "    <tr>\n",
              "      <th>7</th>\n",
              "      <td>8</td>\n",
              "      <td>New Zealand</td>\n",
              "      <td>7.307</td>\n",
              "      <td>1.303</td>\n",
              "      <td>1.557</td>\n",
              "      <td>1.026</td>\n",
              "      <td>0.585</td>\n",
              "      <td>0.330</td>\n",
              "      <td>0.380</td>\n",
              "    </tr>\n",
              "    <tr>\n",
              "      <th>8</th>\n",
              "      <td>9</td>\n",
              "      <td>Canada</td>\n",
              "      <td>7.278</td>\n",
              "      <td>1.365</td>\n",
              "      <td>1.505</td>\n",
              "      <td>1.039</td>\n",
              "      <td>0.584</td>\n",
              "      <td>0.285</td>\n",
              "      <td>0.308</td>\n",
              "    </tr>\n",
              "    <tr>\n",
              "      <th>9</th>\n",
              "      <td>10</td>\n",
              "      <td>Austria</td>\n",
              "      <td>7.246</td>\n",
              "      <td>1.376</td>\n",
              "      <td>1.475</td>\n",
              "      <td>1.016</td>\n",
              "      <td>0.532</td>\n",
              "      <td>0.244</td>\n",
              "      <td>0.226</td>\n",
              "    </tr>\n",
              "    <tr>\n",
              "      <th>10</th>\n",
              "      <td>11</td>\n",
              "      <td>Australia</td>\n",
              "      <td>7.228</td>\n",
              "      <td>1.372</td>\n",
              "      <td>1.548</td>\n",
              "      <td>1.036</td>\n",
              "      <td>0.557</td>\n",
              "      <td>0.332</td>\n",
              "      <td>0.290</td>\n",
              "    </tr>\n",
              "    <tr>\n",
              "      <th>11</th>\n",
              "      <td>12</td>\n",
              "      <td>Costa Rica</td>\n",
              "      <td>7.167</td>\n",
              "      <td>1.034</td>\n",
              "      <td>1.441</td>\n",
              "      <td>0.963</td>\n",
              "      <td>0.558</td>\n",
              "      <td>0.144</td>\n",
              "      <td>0.093</td>\n",
              "    </tr>\n",
              "    <tr>\n",
              "      <th>12</th>\n",
              "      <td>13</td>\n",
              "      <td>Israel</td>\n",
              "      <td>7.139</td>\n",
              "      <td>1.276</td>\n",
              "      <td>1.455</td>\n",
              "      <td>1.029</td>\n",
              "      <td>0.371</td>\n",
              "      <td>0.261</td>\n",
              "      <td>0.082</td>\n",
              "    </tr>\n",
              "    <tr>\n",
              "      <th>13</th>\n",
              "      <td>14</td>\n",
              "      <td>Luxembourg</td>\n",
              "      <td>7.090</td>\n",
              "      <td>1.609</td>\n",
              "      <td>1.479</td>\n",
              "      <td>1.012</td>\n",
              "      <td>0.526</td>\n",
              "      <td>0.194</td>\n",
              "      <td>0.316</td>\n",
              "    </tr>\n",
              "    <tr>\n",
              "      <th>14</th>\n",
              "      <td>15</td>\n",
              "      <td>United Kingdom</td>\n",
              "      <td>7.054</td>\n",
              "      <td>1.333</td>\n",
              "      <td>1.538</td>\n",
              "      <td>0.996</td>\n",
              "      <td>0.450</td>\n",
              "      <td>0.348</td>\n",
              "      <td>0.278</td>\n",
              "    </tr>\n",
              "    <tr>\n",
              "      <th>15</th>\n",
              "      <td>16</td>\n",
              "      <td>Ireland</td>\n",
              "      <td>7.021</td>\n",
              "      <td>1.499</td>\n",
              "      <td>1.553</td>\n",
              "      <td>0.999</td>\n",
              "      <td>0.516</td>\n",
              "      <td>0.298</td>\n",
              "      <td>0.310</td>\n",
              "    </tr>\n",
              "    <tr>\n",
              "      <th>16</th>\n",
              "      <td>17</td>\n",
              "      <td>Germany</td>\n",
              "      <td>6.985</td>\n",
              "      <td>1.373</td>\n",
              "      <td>1.454</td>\n",
              "      <td>0.987</td>\n",
              "      <td>0.495</td>\n",
              "      <td>0.261</td>\n",
              "      <td>0.265</td>\n",
              "    </tr>\n",
              "    <tr>\n",
              "      <th>17</th>\n",
              "      <td>18</td>\n",
              "      <td>Belgium</td>\n",
              "      <td>6.923</td>\n",
              "      <td>1.356</td>\n",
              "      <td>1.504</td>\n",
              "      <td>0.986</td>\n",
              "      <td>0.473</td>\n",
              "      <td>0.160</td>\n",
              "      <td>0.210</td>\n",
              "    </tr>\n",
              "    <tr>\n",
              "      <th>18</th>\n",
              "      <td>19</td>\n",
              "      <td>United States</td>\n",
              "      <td>6.892</td>\n",
              "      <td>1.433</td>\n",
              "      <td>1.457</td>\n",
              "      <td>0.874</td>\n",
              "      <td>0.454</td>\n",
              "      <td>0.280</td>\n",
              "      <td>0.128</td>\n",
              "    </tr>\n",
              "    <tr>\n",
              "      <th>19</th>\n",
              "      <td>20</td>\n",
              "      <td>Czech Republic</td>\n",
              "      <td>6.852</td>\n",
              "      <td>1.269</td>\n",
              "      <td>1.487</td>\n",
              "      <td>0.920</td>\n",
              "      <td>0.457</td>\n",
              "      <td>0.046</td>\n",
              "      <td>0.036</td>\n",
              "    </tr>\n",
              "  </tbody>\n",
              "</table>\n",
              "</div>\n",
              "      <button class=\"colab-df-convert\" onclick=\"convertToInteractive('df-a27cfcb7-83af-4c97-bb08-c2e06f2a3313')\"\n",
              "              title=\"Convert this dataframe to an interactive table.\"\n",
              "              style=\"display:none;\">\n",
              "        \n",
              "  <svg xmlns=\"http://www.w3.org/2000/svg\" height=\"24px\"viewBox=\"0 0 24 24\"\n",
              "       width=\"24px\">\n",
              "    <path d=\"M0 0h24v24H0V0z\" fill=\"none\"/>\n",
              "    <path d=\"M18.56 5.44l.94 2.06.94-2.06 2.06-.94-2.06-.94-.94-2.06-.94 2.06-2.06.94zm-11 1L8.5 8.5l.94-2.06 2.06-.94-2.06-.94L8.5 2.5l-.94 2.06-2.06.94zm10 10l.94 2.06.94-2.06 2.06-.94-2.06-.94-.94-2.06-.94 2.06-2.06.94z\"/><path d=\"M17.41 7.96l-1.37-1.37c-.4-.4-.92-.59-1.43-.59-.52 0-1.04.2-1.43.59L10.3 9.45l-7.72 7.72c-.78.78-.78 2.05 0 2.83L4 21.41c.39.39.9.59 1.41.59.51 0 1.02-.2 1.41-.59l7.78-7.78 2.81-2.81c.8-.78.8-2.07 0-2.86zM5.41 20L4 18.59l7.72-7.72 1.47 1.35L5.41 20z\"/>\n",
              "  </svg>\n",
              "      </button>\n",
              "      \n",
              "  <style>\n",
              "    .colab-df-container {\n",
              "      display:flex;\n",
              "      flex-wrap:wrap;\n",
              "      gap: 12px;\n",
              "    }\n",
              "\n",
              "    .colab-df-convert {\n",
              "      background-color: #E8F0FE;\n",
              "      border: none;\n",
              "      border-radius: 50%;\n",
              "      cursor: pointer;\n",
              "      display: none;\n",
              "      fill: #1967D2;\n",
              "      height: 32px;\n",
              "      padding: 0 0 0 0;\n",
              "      width: 32px;\n",
              "    }\n",
              "\n",
              "    .colab-df-convert:hover {\n",
              "      background-color: #E2EBFA;\n",
              "      box-shadow: 0px 1px 2px rgba(60, 64, 67, 0.3), 0px 1px 3px 1px rgba(60, 64, 67, 0.15);\n",
              "      fill: #174EA6;\n",
              "    }\n",
              "\n",
              "    [theme=dark] .colab-df-convert {\n",
              "      background-color: #3B4455;\n",
              "      fill: #D2E3FC;\n",
              "    }\n",
              "\n",
              "    [theme=dark] .colab-df-convert:hover {\n",
              "      background-color: #434B5C;\n",
              "      box-shadow: 0px 1px 3px 1px rgba(0, 0, 0, 0.15);\n",
              "      filter: drop-shadow(0px 1px 2px rgba(0, 0, 0, 0.3));\n",
              "      fill: #FFFFFF;\n",
              "    }\n",
              "  </style>\n",
              "\n",
              "      <script>\n",
              "        const buttonEl =\n",
              "          document.querySelector('#df-a27cfcb7-83af-4c97-bb08-c2e06f2a3313 button.colab-df-convert');\n",
              "        buttonEl.style.display =\n",
              "          google.colab.kernel.accessAllowed ? 'block' : 'none';\n",
              "\n",
              "        async function convertToInteractive(key) {\n",
              "          const element = document.querySelector('#df-a27cfcb7-83af-4c97-bb08-c2e06f2a3313');\n",
              "          const dataTable =\n",
              "            await google.colab.kernel.invokeFunction('convertToInteractive',\n",
              "                                                     [key], {});\n",
              "          if (!dataTable) return;\n",
              "\n",
              "          const docLinkHtml = 'Like what you see? Visit the ' +\n",
              "            '<a target=\"_blank\" href=https://colab.research.google.com/notebooks/data_table.ipynb>data table notebook</a>'\n",
              "            + ' to learn more about interactive tables.';\n",
              "          element.innerHTML = '';\n",
              "          dataTable['output_type'] = 'display_data';\n",
              "          await google.colab.output.renderOutput(dataTable, element);\n",
              "          const docLink = document.createElement('div');\n",
              "          docLink.innerHTML = docLinkHtml;\n",
              "          element.appendChild(docLink);\n",
              "        }\n",
              "      </script>\n",
              "    </div>\n",
              "  </div>\n",
              "  "
            ]
          },
          "metadata": {},
          "execution_count": 6
        }
      ]
    },
    {
      "cell_type": "code",
      "source": [
        "df.info()"
      ],
      "metadata": {
        "colab": {
          "base_uri": "https://localhost:8080/"
        },
        "id": "ULatRZCG0WKV",
        "outputId": "eb7eec1c-7e8f-470c-e67c-aa10a889df81"
      },
      "execution_count": 7,
      "outputs": [
        {
          "output_type": "stream",
          "name": "stdout",
          "text": [
            "<class 'pandas.core.frame.DataFrame'>\n",
            "RangeIndex: 156 entries, 0 to 155\n",
            "Data columns (total 9 columns):\n",
            " #   Column                        Non-Null Count  Dtype  \n",
            "---  ------                        --------------  -----  \n",
            " 0   Overall rank                  156 non-null    int64  \n",
            " 1   Country or region             156 non-null    object \n",
            " 2   Score                         156 non-null    float64\n",
            " 3   GDP per capita                156 non-null    float64\n",
            " 4   Social support                156 non-null    float64\n",
            " 5   Healthy life expectancy       156 non-null    float64\n",
            " 6   Freedom to make life choices  156 non-null    float64\n",
            " 7   Generosity                    156 non-null    float64\n",
            " 8   Perceptions of corruption     156 non-null    float64\n",
            "dtypes: float64(7), int64(1), object(1)\n",
            "memory usage: 11.1+ KB\n"
          ]
        }
      ]
    },
    {
      "cell_type": "code",
      "source": [
        "import plotly.express as px\n",
        "\n",
        "fig = px.bar(df.sort_values('Score',ascending=False)[:20].sort_values('Score') ,y='Country or region',\n",
        "             x='Score', title='Los 20 países más felices',orientation='h',height=600)\n",
        "fig.show()"
      ],
      "metadata": {
        "colab": {
          "base_uri": "https://localhost:8080/",
          "height": 617
        },
        "id": "z-eFwhOU2v3R",
        "outputId": "28734ea6-8bfe-462d-e921-146be7d8cd38"
      },
      "execution_count": 8,
      "outputs": [
        {
          "output_type": "display_data",
          "data": {
            "text/html": [
              "<html>\n",
              "<head><meta charset=\"utf-8\" /></head>\n",
              "<body>\n",
              "    <div>            <script src=\"https://cdnjs.cloudflare.com/ajax/libs/mathjax/2.7.5/MathJax.js?config=TeX-AMS-MML_SVG\"></script><script type=\"text/javascript\">if (window.MathJax) {MathJax.Hub.Config({SVG: {font: \"STIX-Web\"}});}</script>                <script type=\"text/javascript\">window.PlotlyConfig = {MathJaxConfig: 'local'};</script>\n",
              "        <script src=\"https://cdn.plot.ly/plotly-2.8.3.min.js\"></script>                <div id=\"3cb390c9-e1da-4a19-9546-22df5f280ffe\" class=\"plotly-graph-div\" style=\"height:600px; width:100%;\"></div>            <script type=\"text/javascript\">                                    window.PLOTLYENV=window.PLOTLYENV || {};                                    if (document.getElementById(\"3cb390c9-e1da-4a19-9546-22df5f280ffe\")) {                    Plotly.newPlot(                        \"3cb390c9-e1da-4a19-9546-22df5f280ffe\",                        [{\"alignmentgroup\":\"True\",\"hovertemplate\":\"Score=%{x}<br>Country or region=%{y}<extra></extra>\",\"legendgroup\":\"\",\"marker\":{\"color\":\"#636efa\",\"pattern\":{\"shape\":\"\"}},\"name\":\"\",\"offsetgroup\":\"\",\"orientation\":\"h\",\"showlegend\":false,\"textposition\":\"auto\",\"x\":[6.852,6.892,6.923,6.985,7.021,7.054,7.09,7.139,7.167,7.228,7.246,7.278,7.307,7.343,7.48,7.488,7.494,7.554,7.6,7.769],\"xaxis\":\"x\",\"y\":[\"Czech Republic\",\"United States\",\"Belgium\",\"Germany\",\"Ireland\",\"United Kingdom\",\"Luxembourg\",\"Israel\",\"Costa Rica\",\"Australia\",\"Austria\",\"Canada\",\"New Zealand\",\"Sweden\",\"Switzerland\",\"Netherlands\",\"Iceland\",\"Norway\",\"Denmark\",\"Finland\"],\"yaxis\":\"y\",\"type\":\"bar\"}],                        {\"template\":{\"data\":{\"bar\":[{\"error_x\":{\"color\":\"#2a3f5f\"},\"error_y\":{\"color\":\"#2a3f5f\"},\"marker\":{\"line\":{\"color\":\"#E5ECF6\",\"width\":0.5},\"pattern\":{\"fillmode\":\"overlay\",\"size\":10,\"solidity\":0.2}},\"type\":\"bar\"}],\"barpolar\":[{\"marker\":{\"line\":{\"color\":\"#E5ECF6\",\"width\":0.5},\"pattern\":{\"fillmode\":\"overlay\",\"size\":10,\"solidity\":0.2}},\"type\":\"barpolar\"}],\"carpet\":[{\"aaxis\":{\"endlinecolor\":\"#2a3f5f\",\"gridcolor\":\"white\",\"linecolor\":\"white\",\"minorgridcolor\":\"white\",\"startlinecolor\":\"#2a3f5f\"},\"baxis\":{\"endlinecolor\":\"#2a3f5f\",\"gridcolor\":\"white\",\"linecolor\":\"white\",\"minorgridcolor\":\"white\",\"startlinecolor\":\"#2a3f5f\"},\"type\":\"carpet\"}],\"choropleth\":[{\"colorbar\":{\"outlinewidth\":0,\"ticks\":\"\"},\"type\":\"choropleth\"}],\"contour\":[{\"colorbar\":{\"outlinewidth\":0,\"ticks\":\"\"},\"colorscale\":[[0.0,\"#0d0887\"],[0.1111111111111111,\"#46039f\"],[0.2222222222222222,\"#7201a8\"],[0.3333333333333333,\"#9c179e\"],[0.4444444444444444,\"#bd3786\"],[0.5555555555555556,\"#d8576b\"],[0.6666666666666666,\"#ed7953\"],[0.7777777777777778,\"#fb9f3a\"],[0.8888888888888888,\"#fdca26\"],[1.0,\"#f0f921\"]],\"type\":\"contour\"}],\"contourcarpet\":[{\"colorbar\":{\"outlinewidth\":0,\"ticks\":\"\"},\"type\":\"contourcarpet\"}],\"heatmap\":[{\"colorbar\":{\"outlinewidth\":0,\"ticks\":\"\"},\"colorscale\":[[0.0,\"#0d0887\"],[0.1111111111111111,\"#46039f\"],[0.2222222222222222,\"#7201a8\"],[0.3333333333333333,\"#9c179e\"],[0.4444444444444444,\"#bd3786\"],[0.5555555555555556,\"#d8576b\"],[0.6666666666666666,\"#ed7953\"],[0.7777777777777778,\"#fb9f3a\"],[0.8888888888888888,\"#fdca26\"],[1.0,\"#f0f921\"]],\"type\":\"heatmap\"}],\"heatmapgl\":[{\"colorbar\":{\"outlinewidth\":0,\"ticks\":\"\"},\"colorscale\":[[0.0,\"#0d0887\"],[0.1111111111111111,\"#46039f\"],[0.2222222222222222,\"#7201a8\"],[0.3333333333333333,\"#9c179e\"],[0.4444444444444444,\"#bd3786\"],[0.5555555555555556,\"#d8576b\"],[0.6666666666666666,\"#ed7953\"],[0.7777777777777778,\"#fb9f3a\"],[0.8888888888888888,\"#fdca26\"],[1.0,\"#f0f921\"]],\"type\":\"heatmapgl\"}],\"histogram\":[{\"marker\":{\"pattern\":{\"fillmode\":\"overlay\",\"size\":10,\"solidity\":0.2}},\"type\":\"histogram\"}],\"histogram2d\":[{\"colorbar\":{\"outlinewidth\":0,\"ticks\":\"\"},\"colorscale\":[[0.0,\"#0d0887\"],[0.1111111111111111,\"#46039f\"],[0.2222222222222222,\"#7201a8\"],[0.3333333333333333,\"#9c179e\"],[0.4444444444444444,\"#bd3786\"],[0.5555555555555556,\"#d8576b\"],[0.6666666666666666,\"#ed7953\"],[0.7777777777777778,\"#fb9f3a\"],[0.8888888888888888,\"#fdca26\"],[1.0,\"#f0f921\"]],\"type\":\"histogram2d\"}],\"histogram2dcontour\":[{\"colorbar\":{\"outlinewidth\":0,\"ticks\":\"\"},\"colorscale\":[[0.0,\"#0d0887\"],[0.1111111111111111,\"#46039f\"],[0.2222222222222222,\"#7201a8\"],[0.3333333333333333,\"#9c179e\"],[0.4444444444444444,\"#bd3786\"],[0.5555555555555556,\"#d8576b\"],[0.6666666666666666,\"#ed7953\"],[0.7777777777777778,\"#fb9f3a\"],[0.8888888888888888,\"#fdca26\"],[1.0,\"#f0f921\"]],\"type\":\"histogram2dcontour\"}],\"mesh3d\":[{\"colorbar\":{\"outlinewidth\":0,\"ticks\":\"\"},\"type\":\"mesh3d\"}],\"parcoords\":[{\"line\":{\"colorbar\":{\"outlinewidth\":0,\"ticks\":\"\"}},\"type\":\"parcoords\"}],\"pie\":[{\"automargin\":true,\"type\":\"pie\"}],\"scatter\":[{\"marker\":{\"colorbar\":{\"outlinewidth\":0,\"ticks\":\"\"}},\"type\":\"scatter\"}],\"scatter3d\":[{\"line\":{\"colorbar\":{\"outlinewidth\":0,\"ticks\":\"\"}},\"marker\":{\"colorbar\":{\"outlinewidth\":0,\"ticks\":\"\"}},\"type\":\"scatter3d\"}],\"scattercarpet\":[{\"marker\":{\"colorbar\":{\"outlinewidth\":0,\"ticks\":\"\"}},\"type\":\"scattercarpet\"}],\"scattergeo\":[{\"marker\":{\"colorbar\":{\"outlinewidth\":0,\"ticks\":\"\"}},\"type\":\"scattergeo\"}],\"scattergl\":[{\"marker\":{\"colorbar\":{\"outlinewidth\":0,\"ticks\":\"\"}},\"type\":\"scattergl\"}],\"scattermapbox\":[{\"marker\":{\"colorbar\":{\"outlinewidth\":0,\"ticks\":\"\"}},\"type\":\"scattermapbox\"}],\"scatterpolar\":[{\"marker\":{\"colorbar\":{\"outlinewidth\":0,\"ticks\":\"\"}},\"type\":\"scatterpolar\"}],\"scatterpolargl\":[{\"marker\":{\"colorbar\":{\"outlinewidth\":0,\"ticks\":\"\"}},\"type\":\"scatterpolargl\"}],\"scatterternary\":[{\"marker\":{\"colorbar\":{\"outlinewidth\":0,\"ticks\":\"\"}},\"type\":\"scatterternary\"}],\"surface\":[{\"colorbar\":{\"outlinewidth\":0,\"ticks\":\"\"},\"colorscale\":[[0.0,\"#0d0887\"],[0.1111111111111111,\"#46039f\"],[0.2222222222222222,\"#7201a8\"],[0.3333333333333333,\"#9c179e\"],[0.4444444444444444,\"#bd3786\"],[0.5555555555555556,\"#d8576b\"],[0.6666666666666666,\"#ed7953\"],[0.7777777777777778,\"#fb9f3a\"],[0.8888888888888888,\"#fdca26\"],[1.0,\"#f0f921\"]],\"type\":\"surface\"}],\"table\":[{\"cells\":{\"fill\":{\"color\":\"#EBF0F8\"},\"line\":{\"color\":\"white\"}},\"header\":{\"fill\":{\"color\":\"#C8D4E3\"},\"line\":{\"color\":\"white\"}},\"type\":\"table\"}]},\"layout\":{\"annotationdefaults\":{\"arrowcolor\":\"#2a3f5f\",\"arrowhead\":0,\"arrowwidth\":1},\"autotypenumbers\":\"strict\",\"coloraxis\":{\"colorbar\":{\"outlinewidth\":0,\"ticks\":\"\"}},\"colorscale\":{\"diverging\":[[0,\"#8e0152\"],[0.1,\"#c51b7d\"],[0.2,\"#de77ae\"],[0.3,\"#f1b6da\"],[0.4,\"#fde0ef\"],[0.5,\"#f7f7f7\"],[0.6,\"#e6f5d0\"],[0.7,\"#b8e186\"],[0.8,\"#7fbc41\"],[0.9,\"#4d9221\"],[1,\"#276419\"]],\"sequential\":[[0.0,\"#0d0887\"],[0.1111111111111111,\"#46039f\"],[0.2222222222222222,\"#7201a8\"],[0.3333333333333333,\"#9c179e\"],[0.4444444444444444,\"#bd3786\"],[0.5555555555555556,\"#d8576b\"],[0.6666666666666666,\"#ed7953\"],[0.7777777777777778,\"#fb9f3a\"],[0.8888888888888888,\"#fdca26\"],[1.0,\"#f0f921\"]],\"sequentialminus\":[[0.0,\"#0d0887\"],[0.1111111111111111,\"#46039f\"],[0.2222222222222222,\"#7201a8\"],[0.3333333333333333,\"#9c179e\"],[0.4444444444444444,\"#bd3786\"],[0.5555555555555556,\"#d8576b\"],[0.6666666666666666,\"#ed7953\"],[0.7777777777777778,\"#fb9f3a\"],[0.8888888888888888,\"#fdca26\"],[1.0,\"#f0f921\"]]},\"colorway\":[\"#636efa\",\"#EF553B\",\"#00cc96\",\"#ab63fa\",\"#FFA15A\",\"#19d3f3\",\"#FF6692\",\"#B6E880\",\"#FF97FF\",\"#FECB52\"],\"font\":{\"color\":\"#2a3f5f\"},\"geo\":{\"bgcolor\":\"white\",\"lakecolor\":\"white\",\"landcolor\":\"#E5ECF6\",\"showlakes\":true,\"showland\":true,\"subunitcolor\":\"white\"},\"hoverlabel\":{\"align\":\"left\"},\"hovermode\":\"closest\",\"mapbox\":{\"style\":\"light\"},\"paper_bgcolor\":\"white\",\"plot_bgcolor\":\"#E5ECF6\",\"polar\":{\"angularaxis\":{\"gridcolor\":\"white\",\"linecolor\":\"white\",\"ticks\":\"\"},\"bgcolor\":\"#E5ECF6\",\"radialaxis\":{\"gridcolor\":\"white\",\"linecolor\":\"white\",\"ticks\":\"\"}},\"scene\":{\"xaxis\":{\"backgroundcolor\":\"#E5ECF6\",\"gridcolor\":\"white\",\"gridwidth\":2,\"linecolor\":\"white\",\"showbackground\":true,\"ticks\":\"\",\"zerolinecolor\":\"white\"},\"yaxis\":{\"backgroundcolor\":\"#E5ECF6\",\"gridcolor\":\"white\",\"gridwidth\":2,\"linecolor\":\"white\",\"showbackground\":true,\"ticks\":\"\",\"zerolinecolor\":\"white\"},\"zaxis\":{\"backgroundcolor\":\"#E5ECF6\",\"gridcolor\":\"white\",\"gridwidth\":2,\"linecolor\":\"white\",\"showbackground\":true,\"ticks\":\"\",\"zerolinecolor\":\"white\"}},\"shapedefaults\":{\"line\":{\"color\":\"#2a3f5f\"}},\"ternary\":{\"aaxis\":{\"gridcolor\":\"white\",\"linecolor\":\"white\",\"ticks\":\"\"},\"baxis\":{\"gridcolor\":\"white\",\"linecolor\":\"white\",\"ticks\":\"\"},\"bgcolor\":\"#E5ECF6\",\"caxis\":{\"gridcolor\":\"white\",\"linecolor\":\"white\",\"ticks\":\"\"}},\"title\":{\"x\":0.05},\"xaxis\":{\"automargin\":true,\"gridcolor\":\"white\",\"linecolor\":\"white\",\"ticks\":\"\",\"title\":{\"standoff\":15},\"zerolinecolor\":\"white\",\"zerolinewidth\":2},\"yaxis\":{\"automargin\":true,\"gridcolor\":\"white\",\"linecolor\":\"white\",\"ticks\":\"\",\"title\":{\"standoff\":15},\"zerolinecolor\":\"white\",\"zerolinewidth\":2}}},\"xaxis\":{\"anchor\":\"y\",\"domain\":[0.0,1.0],\"title\":{\"text\":\"Score\"}},\"yaxis\":{\"anchor\":\"x\",\"domain\":[0.0,1.0],\"title\":{\"text\":\"Country or region\"}},\"legend\":{\"tracegroupgap\":0},\"title\":{\"text\":\"Los 20 pa\\u00edses m\\u00e1s felices\"},\"barmode\":\"relative\",\"height\":600},                        {\"responsive\": true}                    ).then(function(){\n",
              "                            \n",
              "var gd = document.getElementById('3cb390c9-e1da-4a19-9546-22df5f280ffe');\n",
              "var x = new MutationObserver(function (mutations, observer) {{\n",
              "        var display = window.getComputedStyle(gd).display;\n",
              "        if (!display || display === 'none') {{\n",
              "            console.log([gd, 'removed!']);\n",
              "            Plotly.purge(gd);\n",
              "            observer.disconnect();\n",
              "        }}\n",
              "}});\n",
              "\n",
              "// Listen for the removal of the full notebook cells\n",
              "var notebookContainer = gd.closest('#notebook-container');\n",
              "if (notebookContainer) {{\n",
              "    x.observe(notebookContainer, {childList: true});\n",
              "}}\n",
              "\n",
              "// Listen for the clearing of the current output cell\n",
              "var outputEl = gd.closest('.output');\n",
              "if (outputEl) {{\n",
              "    x.observe(outputEl, {childList: true});\n",
              "}}\n",
              "\n",
              "                        })                };                            </script>        </div>\n",
              "</body>\n",
              "</html>"
            ]
          },
          "metadata": {}
        }
      ]
    },
    {
      "cell_type": "code",
      "source": [
        "fig = px.bar(df.sort_values('Score')[:20].sort_values('Score') ,y='Country or region',\n",
        "             x='Score', title='Los 20 países menos felices',orientation='h',height=600)\n",
        "fig.show()"
      ],
      "metadata": {
        "colab": {
          "base_uri": "https://localhost:8080/",
          "height": 617
        },
        "id": "NoZ3Cyoz4Oj_",
        "outputId": "0e7c0910-133e-4264-b89f-d4ca87d7800e"
      },
      "execution_count": 9,
      "outputs": [
        {
          "output_type": "display_data",
          "data": {
            "text/html": [
              "<html>\n",
              "<head><meta charset=\"utf-8\" /></head>\n",
              "<body>\n",
              "    <div>            <script src=\"https://cdnjs.cloudflare.com/ajax/libs/mathjax/2.7.5/MathJax.js?config=TeX-AMS-MML_SVG\"></script><script type=\"text/javascript\">if (window.MathJax) {MathJax.Hub.Config({SVG: {font: \"STIX-Web\"}});}</script>                <script type=\"text/javascript\">window.PlotlyConfig = {MathJaxConfig: 'local'};</script>\n",
              "        <script src=\"https://cdn.plot.ly/plotly-2.8.3.min.js\"></script>                <div id=\"3cdfd2c1-7ba1-46a8-a355-3400ba06c0bb\" class=\"plotly-graph-div\" style=\"height:600px; width:100%;\"></div>            <script type=\"text/javascript\">                                    window.PLOTLYENV=window.PLOTLYENV || {};                                    if (document.getElementById(\"3cdfd2c1-7ba1-46a8-a355-3400ba06c0bb\")) {                    Plotly.newPlot(                        \"3cdfd2c1-7ba1-46a8-a355-3400ba06c0bb\",                        [{\"alignmentgroup\":\"True\",\"hovertemplate\":\"Score=%{x}<br>Country or region=%{y}<extra></extra>\",\"legendgroup\":\"\",\"marker\":{\"color\":\"#636efa\",\"pattern\":{\"shape\":\"\"}},\"name\":\"\",\"offsetgroup\":\"\",\"orientation\":\"h\",\"showlegend\":false,\"textposition\":\"auto\",\"x\":[2.853,3.083,3.203,3.231,3.334,3.38,3.41,3.462,3.488,3.597,3.663,3.775,3.802,3.933,3.973,3.975,4.015,4.085,4.107,4.166],\"xaxis\":\"x\",\"y\":[\"South Sudan\",\"Central African Republic\",\"Afghanistan\",\"Tanzania\",\"Rwanda\",\"Yemen\",\"Malawi\",\"Syria\",\"Botswana\",\"Haiti\",\"Zimbabwe\",\"Burundi\",\"Lesotho\",\"Madagascar\",\"Comoros\",\"Liberia\",\"India\",\"Togo\",\"Zambia\",\"Egypt\"],\"yaxis\":\"y\",\"type\":\"bar\"}],                        {\"template\":{\"data\":{\"bar\":[{\"error_x\":{\"color\":\"#2a3f5f\"},\"error_y\":{\"color\":\"#2a3f5f\"},\"marker\":{\"line\":{\"color\":\"#E5ECF6\",\"width\":0.5},\"pattern\":{\"fillmode\":\"overlay\",\"size\":10,\"solidity\":0.2}},\"type\":\"bar\"}],\"barpolar\":[{\"marker\":{\"line\":{\"color\":\"#E5ECF6\",\"width\":0.5},\"pattern\":{\"fillmode\":\"overlay\",\"size\":10,\"solidity\":0.2}},\"type\":\"barpolar\"}],\"carpet\":[{\"aaxis\":{\"endlinecolor\":\"#2a3f5f\",\"gridcolor\":\"white\",\"linecolor\":\"white\",\"minorgridcolor\":\"white\",\"startlinecolor\":\"#2a3f5f\"},\"baxis\":{\"endlinecolor\":\"#2a3f5f\",\"gridcolor\":\"white\",\"linecolor\":\"white\",\"minorgridcolor\":\"white\",\"startlinecolor\":\"#2a3f5f\"},\"type\":\"carpet\"}],\"choropleth\":[{\"colorbar\":{\"outlinewidth\":0,\"ticks\":\"\"},\"type\":\"choropleth\"}],\"contour\":[{\"colorbar\":{\"outlinewidth\":0,\"ticks\":\"\"},\"colorscale\":[[0.0,\"#0d0887\"],[0.1111111111111111,\"#46039f\"],[0.2222222222222222,\"#7201a8\"],[0.3333333333333333,\"#9c179e\"],[0.4444444444444444,\"#bd3786\"],[0.5555555555555556,\"#d8576b\"],[0.6666666666666666,\"#ed7953\"],[0.7777777777777778,\"#fb9f3a\"],[0.8888888888888888,\"#fdca26\"],[1.0,\"#f0f921\"]],\"type\":\"contour\"}],\"contourcarpet\":[{\"colorbar\":{\"outlinewidth\":0,\"ticks\":\"\"},\"type\":\"contourcarpet\"}],\"heatmap\":[{\"colorbar\":{\"outlinewidth\":0,\"ticks\":\"\"},\"colorscale\":[[0.0,\"#0d0887\"],[0.1111111111111111,\"#46039f\"],[0.2222222222222222,\"#7201a8\"],[0.3333333333333333,\"#9c179e\"],[0.4444444444444444,\"#bd3786\"],[0.5555555555555556,\"#d8576b\"],[0.6666666666666666,\"#ed7953\"],[0.7777777777777778,\"#fb9f3a\"],[0.8888888888888888,\"#fdca26\"],[1.0,\"#f0f921\"]],\"type\":\"heatmap\"}],\"heatmapgl\":[{\"colorbar\":{\"outlinewidth\":0,\"ticks\":\"\"},\"colorscale\":[[0.0,\"#0d0887\"],[0.1111111111111111,\"#46039f\"],[0.2222222222222222,\"#7201a8\"],[0.3333333333333333,\"#9c179e\"],[0.4444444444444444,\"#bd3786\"],[0.5555555555555556,\"#d8576b\"],[0.6666666666666666,\"#ed7953\"],[0.7777777777777778,\"#fb9f3a\"],[0.8888888888888888,\"#fdca26\"],[1.0,\"#f0f921\"]],\"type\":\"heatmapgl\"}],\"histogram\":[{\"marker\":{\"pattern\":{\"fillmode\":\"overlay\",\"size\":10,\"solidity\":0.2}},\"type\":\"histogram\"}],\"histogram2d\":[{\"colorbar\":{\"outlinewidth\":0,\"ticks\":\"\"},\"colorscale\":[[0.0,\"#0d0887\"],[0.1111111111111111,\"#46039f\"],[0.2222222222222222,\"#7201a8\"],[0.3333333333333333,\"#9c179e\"],[0.4444444444444444,\"#bd3786\"],[0.5555555555555556,\"#d8576b\"],[0.6666666666666666,\"#ed7953\"],[0.7777777777777778,\"#fb9f3a\"],[0.8888888888888888,\"#fdca26\"],[1.0,\"#f0f921\"]],\"type\":\"histogram2d\"}],\"histogram2dcontour\":[{\"colorbar\":{\"outlinewidth\":0,\"ticks\":\"\"},\"colorscale\":[[0.0,\"#0d0887\"],[0.1111111111111111,\"#46039f\"],[0.2222222222222222,\"#7201a8\"],[0.3333333333333333,\"#9c179e\"],[0.4444444444444444,\"#bd3786\"],[0.5555555555555556,\"#d8576b\"],[0.6666666666666666,\"#ed7953\"],[0.7777777777777778,\"#fb9f3a\"],[0.8888888888888888,\"#fdca26\"],[1.0,\"#f0f921\"]],\"type\":\"histogram2dcontour\"}],\"mesh3d\":[{\"colorbar\":{\"outlinewidth\":0,\"ticks\":\"\"},\"type\":\"mesh3d\"}],\"parcoords\":[{\"line\":{\"colorbar\":{\"outlinewidth\":0,\"ticks\":\"\"}},\"type\":\"parcoords\"}],\"pie\":[{\"automargin\":true,\"type\":\"pie\"}],\"scatter\":[{\"marker\":{\"colorbar\":{\"outlinewidth\":0,\"ticks\":\"\"}},\"type\":\"scatter\"}],\"scatter3d\":[{\"line\":{\"colorbar\":{\"outlinewidth\":0,\"ticks\":\"\"}},\"marker\":{\"colorbar\":{\"outlinewidth\":0,\"ticks\":\"\"}},\"type\":\"scatter3d\"}],\"scattercarpet\":[{\"marker\":{\"colorbar\":{\"outlinewidth\":0,\"ticks\":\"\"}},\"type\":\"scattercarpet\"}],\"scattergeo\":[{\"marker\":{\"colorbar\":{\"outlinewidth\":0,\"ticks\":\"\"}},\"type\":\"scattergeo\"}],\"scattergl\":[{\"marker\":{\"colorbar\":{\"outlinewidth\":0,\"ticks\":\"\"}},\"type\":\"scattergl\"}],\"scattermapbox\":[{\"marker\":{\"colorbar\":{\"outlinewidth\":0,\"ticks\":\"\"}},\"type\":\"scattermapbox\"}],\"scatterpolar\":[{\"marker\":{\"colorbar\":{\"outlinewidth\":0,\"ticks\":\"\"}},\"type\":\"scatterpolar\"}],\"scatterpolargl\":[{\"marker\":{\"colorbar\":{\"outlinewidth\":0,\"ticks\":\"\"}},\"type\":\"scatterpolargl\"}],\"scatterternary\":[{\"marker\":{\"colorbar\":{\"outlinewidth\":0,\"ticks\":\"\"}},\"type\":\"scatterternary\"}],\"surface\":[{\"colorbar\":{\"outlinewidth\":0,\"ticks\":\"\"},\"colorscale\":[[0.0,\"#0d0887\"],[0.1111111111111111,\"#46039f\"],[0.2222222222222222,\"#7201a8\"],[0.3333333333333333,\"#9c179e\"],[0.4444444444444444,\"#bd3786\"],[0.5555555555555556,\"#d8576b\"],[0.6666666666666666,\"#ed7953\"],[0.7777777777777778,\"#fb9f3a\"],[0.8888888888888888,\"#fdca26\"],[1.0,\"#f0f921\"]],\"type\":\"surface\"}],\"table\":[{\"cells\":{\"fill\":{\"color\":\"#EBF0F8\"},\"line\":{\"color\":\"white\"}},\"header\":{\"fill\":{\"color\":\"#C8D4E3\"},\"line\":{\"color\":\"white\"}},\"type\":\"table\"}]},\"layout\":{\"annotationdefaults\":{\"arrowcolor\":\"#2a3f5f\",\"arrowhead\":0,\"arrowwidth\":1},\"autotypenumbers\":\"strict\",\"coloraxis\":{\"colorbar\":{\"outlinewidth\":0,\"ticks\":\"\"}},\"colorscale\":{\"diverging\":[[0,\"#8e0152\"],[0.1,\"#c51b7d\"],[0.2,\"#de77ae\"],[0.3,\"#f1b6da\"],[0.4,\"#fde0ef\"],[0.5,\"#f7f7f7\"],[0.6,\"#e6f5d0\"],[0.7,\"#b8e186\"],[0.8,\"#7fbc41\"],[0.9,\"#4d9221\"],[1,\"#276419\"]],\"sequential\":[[0.0,\"#0d0887\"],[0.1111111111111111,\"#46039f\"],[0.2222222222222222,\"#7201a8\"],[0.3333333333333333,\"#9c179e\"],[0.4444444444444444,\"#bd3786\"],[0.5555555555555556,\"#d8576b\"],[0.6666666666666666,\"#ed7953\"],[0.7777777777777778,\"#fb9f3a\"],[0.8888888888888888,\"#fdca26\"],[1.0,\"#f0f921\"]],\"sequentialminus\":[[0.0,\"#0d0887\"],[0.1111111111111111,\"#46039f\"],[0.2222222222222222,\"#7201a8\"],[0.3333333333333333,\"#9c179e\"],[0.4444444444444444,\"#bd3786\"],[0.5555555555555556,\"#d8576b\"],[0.6666666666666666,\"#ed7953\"],[0.7777777777777778,\"#fb9f3a\"],[0.8888888888888888,\"#fdca26\"],[1.0,\"#f0f921\"]]},\"colorway\":[\"#636efa\",\"#EF553B\",\"#00cc96\",\"#ab63fa\",\"#FFA15A\",\"#19d3f3\",\"#FF6692\",\"#B6E880\",\"#FF97FF\",\"#FECB52\"],\"font\":{\"color\":\"#2a3f5f\"},\"geo\":{\"bgcolor\":\"white\",\"lakecolor\":\"white\",\"landcolor\":\"#E5ECF6\",\"showlakes\":true,\"showland\":true,\"subunitcolor\":\"white\"},\"hoverlabel\":{\"align\":\"left\"},\"hovermode\":\"closest\",\"mapbox\":{\"style\":\"light\"},\"paper_bgcolor\":\"white\",\"plot_bgcolor\":\"#E5ECF6\",\"polar\":{\"angularaxis\":{\"gridcolor\":\"white\",\"linecolor\":\"white\",\"ticks\":\"\"},\"bgcolor\":\"#E5ECF6\",\"radialaxis\":{\"gridcolor\":\"white\",\"linecolor\":\"white\",\"ticks\":\"\"}},\"scene\":{\"xaxis\":{\"backgroundcolor\":\"#E5ECF6\",\"gridcolor\":\"white\",\"gridwidth\":2,\"linecolor\":\"white\",\"showbackground\":true,\"ticks\":\"\",\"zerolinecolor\":\"white\"},\"yaxis\":{\"backgroundcolor\":\"#E5ECF6\",\"gridcolor\":\"white\",\"gridwidth\":2,\"linecolor\":\"white\",\"showbackground\":true,\"ticks\":\"\",\"zerolinecolor\":\"white\"},\"zaxis\":{\"backgroundcolor\":\"#E5ECF6\",\"gridcolor\":\"white\",\"gridwidth\":2,\"linecolor\":\"white\",\"showbackground\":true,\"ticks\":\"\",\"zerolinecolor\":\"white\"}},\"shapedefaults\":{\"line\":{\"color\":\"#2a3f5f\"}},\"ternary\":{\"aaxis\":{\"gridcolor\":\"white\",\"linecolor\":\"white\",\"ticks\":\"\"},\"baxis\":{\"gridcolor\":\"white\",\"linecolor\":\"white\",\"ticks\":\"\"},\"bgcolor\":\"#E5ECF6\",\"caxis\":{\"gridcolor\":\"white\",\"linecolor\":\"white\",\"ticks\":\"\"}},\"title\":{\"x\":0.05},\"xaxis\":{\"automargin\":true,\"gridcolor\":\"white\",\"linecolor\":\"white\",\"ticks\":\"\",\"title\":{\"standoff\":15},\"zerolinecolor\":\"white\",\"zerolinewidth\":2},\"yaxis\":{\"automargin\":true,\"gridcolor\":\"white\",\"linecolor\":\"white\",\"ticks\":\"\",\"title\":{\"standoff\":15},\"zerolinecolor\":\"white\",\"zerolinewidth\":2}}},\"xaxis\":{\"anchor\":\"y\",\"domain\":[0.0,1.0],\"title\":{\"text\":\"Score\"}},\"yaxis\":{\"anchor\":\"x\",\"domain\":[0.0,1.0],\"title\":{\"text\":\"Country or region\"}},\"legend\":{\"tracegroupgap\":0},\"title\":{\"text\":\"Los 20 pa\\u00edses menos felices\"},\"barmode\":\"relative\",\"height\":600},                        {\"responsive\": true}                    ).then(function(){\n",
              "                            \n",
              "var gd = document.getElementById('3cdfd2c1-7ba1-46a8-a355-3400ba06c0bb');\n",
              "var x = new MutationObserver(function (mutations, observer) {{\n",
              "        var display = window.getComputedStyle(gd).display;\n",
              "        if (!display || display === 'none') {{\n",
              "            console.log([gd, 'removed!']);\n",
              "            Plotly.purge(gd);\n",
              "            observer.disconnect();\n",
              "        }}\n",
              "}});\n",
              "\n",
              "// Listen for the removal of the full notebook cells\n",
              "var notebookContainer = gd.closest('#notebook-container');\n",
              "if (notebookContainer) {{\n",
              "    x.observe(notebookContainer, {childList: true});\n",
              "}}\n",
              "\n",
              "// Listen for the clearing of the current output cell\n",
              "var outputEl = gd.closest('.output');\n",
              "if (outputEl) {{\n",
              "    x.observe(outputEl, {childList: true});\n",
              "}}\n",
              "\n",
              "                        })                };                            </script>        </div>\n",
              "</body>\n",
              "</html>"
            ]
          },
          "metadata": {}
        }
      ]
    },
    {
      "cell_type": "code",
      "source": [
        "import plotly.graph_objects as go\n",
        "from plotly.subplots import make_subplots\n",
        "\n",
        "cols = [\"Perceptions of corruption\", \"Healthy life expectancy\", \"Social support\",\n",
        "       \"GDP per capita\", \"Freedom to make life choices\", \"Generosity\"]                                           \n",
        "nrows = 3 \n",
        "ncols = 2\n",
        "                                                     \n",
        "fig = make_subplots(rows=nrows, cols=ncols,subplot_titles=cols)\n",
        "print('Correlations:')\n",
        "for index,col in enumerate(cols):\n",
        "    fig.add_trace(go.Scatter(x=df[col], y=df['Score'],mode='markers',\n",
        "                            customdata = df['Country or region'],\n",
        "                            hovertemplate=\"<br>\".join([\"Index: %{x}\",\n",
        "                                                       \"Score: %{y}\",\n",
        "                                                       \"Country: %{customdata}\"])),      \n",
        "                  row=index//ncols+1, col=(index%ncols)+1)\n",
        "    corr = df['Score'].corr(df[col])\n",
        "    print('{}: {:.2}'.format(col,corr))\n",
        "    \n",
        "fig.update_layout(height=900, width=800, title_text=\"Felicidad y Otras variables\")\n",
        "\n",
        "fig.show()"
      ],
      "metadata": {
        "colab": {
          "base_uri": "https://localhost:8080/",
          "height": 1000
        },
        "id": "5J78rFhD4Wrh",
        "outputId": "3c544c52-4d1a-449c-9754-0e3e7af1a395"
      },
      "execution_count": 10,
      "outputs": [
        {
          "output_type": "stream",
          "name": "stdout",
          "text": [
            "Correlations:\n",
            "Perceptions of corruption: 0.39\n",
            "Healthy life expectancy: 0.78\n",
            "Social support: 0.78\n",
            "GDP per capita: 0.79\n",
            "Freedom to make life choices: 0.57\n",
            "Generosity: 0.076\n"
          ]
        },
        {
          "output_type": "display_data",
          "data": {
            "text/html": [
              "<html>\n",
              "<head><meta charset=\"utf-8\" /></head>\n",
              "<body>\n",
              "    <div>            <script src=\"https://cdnjs.cloudflare.com/ajax/libs/mathjax/2.7.5/MathJax.js?config=TeX-AMS-MML_SVG\"></script><script type=\"text/javascript\">if (window.MathJax) {MathJax.Hub.Config({SVG: {font: \"STIX-Web\"}});}</script>                <script type=\"text/javascript\">window.PlotlyConfig = {MathJaxConfig: 'local'};</script>\n",
              "        <script src=\"https://cdn.plot.ly/plotly-2.8.3.min.js\"></script>                <div id=\"3387ee23-314a-4194-a9c4-fd377eda43a5\" class=\"plotly-graph-div\" style=\"height:900px; width:800px;\"></div>            <script type=\"text/javascript\">                                    window.PLOTLYENV=window.PLOTLYENV || {};                                    if (document.getElementById(\"3387ee23-314a-4194-a9c4-fd377eda43a5\")) {                    Plotly.newPlot(                        \"3387ee23-314a-4194-a9c4-fd377eda43a5\",                        [{\"customdata\":[\"Finland\",\"Denmark\",\"Norway\",\"Iceland\",\"Netherlands\",\"Switzerland\",\"Sweden\",\"New Zealand\",\"Canada\",\"Austria\",\"Australia\",\"Costa Rica\",\"Israel\",\"Luxembourg\",\"United Kingdom\",\"Ireland\",\"Germany\",\"Belgium\",\"United States\",\"Czech Republic\",\"United Arab Emirates\",\"Malta\",\"Mexico\",\"France\",\"Taiwan\",\"Chile\",\"Guatemala\",\"Saudi Arabia\",\"Qatar\",\"Spain\",\"Panama\",\"Brazil\",\"Uruguay\",\"Singapore\",\"El Salvador\",\"Italy\",\"Bahrain\",\"Slovakia\",\"Trinidad & Tobago\",\"Poland\",\"Uzbekistan\",\"Lithuania\",\"Colombia\",\"Slovenia\",\"Nicaragua\",\"Kosovo\",\"Argentina\",\"Romania\",\"Cyprus\",\"Ecuador\",\"Kuwait\",\"Thailand\",\"Latvia\",\"South Korea\",\"Estonia\",\"Jamaica\",\"Mauritius\",\"Japan\",\"Honduras\",\"Kazakhstan\",\"Bolivia\",\"Hungary\",\"Paraguay\",\"Northern Cyprus\",\"Peru\",\"Portugal\",\"Pakistan\",\"Russia\",\"Philippines\",\"Serbia\",\"Moldova\",\"Libya\",\"Montenegro\",\"Tajikistan\",\"Croatia\",\"Hong Kong\",\"Dominican Republic\",\"Bosnia and Herzegovina\",\"Turkey\",\"Malaysia\",\"Belarus\",\"Greece\",\"Mongolia\",\"North Macedonia\",\"Nigeria\",\"Kyrgyzstan\",\"Turkmenistan\",\"Algeria\",\"Morocco\",\"Azerbaijan\",\"Lebanon\",\"Indonesia\",\"China\",\"Vietnam\",\"Bhutan\",\"Cameroon\",\"Bulgaria\",\"Ghana\",\"Ivory Coast\",\"Nepal\",\"Jordan\",\"Benin\",\"Congo (Brazzaville)\",\"Gabon\",\"Laos\",\"South Africa\",\"Albania\",\"Venezuela\",\"Cambodia\",\"Palestinian Territories\",\"Senegal\",\"Somalia\",\"Namibia\",\"Niger\",\"Burkina Faso\",\"Armenia\",\"Iran\",\"Guinea\",\"Georgia\",\"Gambia\",\"Kenya\",\"Mauritania\",\"Mozambique\",\"Tunisia\",\"Bangladesh\",\"Iraq\",\"Congo (Kinshasa)\",\"Mali\",\"Sierra Leone\",\"Sri Lanka\",\"Myanmar\",\"Chad\",\"Ukraine\",\"Ethiopia\",\"Swaziland\",\"Uganda\",\"Egypt\",\"Zambia\",\"Togo\",\"India\",\"Liberia\",\"Comoros\",\"Madagascar\",\"Lesotho\",\"Burundi\",\"Zimbabwe\",\"Haiti\",\"Botswana\",\"Syria\",\"Malawi\",\"Yemen\",\"Rwanda\",\"Tanzania\",\"Afghanistan\",\"Central African Republic\",\"South Sudan\"],\"hovertemplate\":\"Index: %{x}<br>Score: %{y}<br>Country: %{customdata}\",\"mode\":\"markers\",\"x\":[0.393,0.41,0.341,0.118,0.298,0.343,0.373,0.38,0.308,0.226,0.29,0.093,0.082,0.316,0.278,0.31,0.265,0.21,0.128,0.036,0.182,0.151,0.073,0.183,0.097,0.056,0.078,0.132,0.167,0.079,0.054,0.086,0.15,0.453,0.074,0.03,0.11,0.014,0.016,0.05,0.24,0.042,0.034,0.057,0.127,0.006,0.05,0.005,0.041,0.087,0.097,0.028,0.064,0.056,0.161,0.028,0.06,0.14,0.078,0.096,0.064,0.02,0.08,0.162,0.027,0.025,0.098,0.031,0.107,0.039,0.0,0.152,0.08,0.144,0.022,0.287,0.101,0.006,0.106,0.024,0.142,0.034,0.038,0.034,0.041,0.023,0.028,0.114,0.076,0.182,0.027,0.028,0.1,0.073,0.167,0.037,0.004,0.04,0.09,0.089,0.13,0.082,0.093,0.055,0.164,0.055,0.027,0.047,0.062,0.066,0.072,0.27,0.056,0.102,0.113,0.064,0.125,0.086,0.164,0.167,0.053,0.088,0.138,0.055,0.143,0.089,0.053,0.052,0.045,0.047,0.172,0.078,0.01,0.1,0.135,0.06,0.067,0.087,0.085,0.085,0.033,0.078,0.041,0.093,0.18,0.089,0.11,0.1,0.141,0.089,0.077,0.411,0.147,0.025,0.035,0.091],\"y\":[7.769,7.6,7.554,7.494,7.488,7.48,7.343,7.307,7.278,7.246,7.228,7.167,7.139,7.09,7.054,7.021,6.985,6.923,6.892,6.852,6.825,6.726,6.595,6.592,6.446,6.444,6.436,6.375,6.374,6.354,6.321,6.3,6.293,6.262,6.253,6.223,6.199,6.198,6.192,6.182,6.174,6.149,6.125,6.118,6.105,6.1,6.086,6.07,6.046,6.028,6.021,6.008,5.94,5.895,5.893,5.89,5.888,5.886,5.86,5.809,5.779,5.758,5.743,5.718,5.697,5.693,5.653,5.648,5.631,5.603,5.529,5.525,5.523,5.467,5.432,5.43,5.425,5.386,5.373,5.339,5.323,5.287,5.285,5.274,5.265,5.261,5.247,5.211,5.208,5.208,5.197,5.192,5.191,5.175,5.082,5.044,5.011,4.996,4.944,4.913,4.906,4.883,4.812,4.799,4.796,4.722,4.719,4.707,4.7,4.696,4.681,4.668,4.639,4.628,4.587,4.559,4.548,4.534,4.519,4.516,4.509,4.49,4.466,4.461,4.456,4.437,4.418,4.39,4.374,4.366,4.36,4.35,4.332,4.286,4.212,4.189,4.166,4.107,4.085,4.015,3.975,3.973,3.933,3.802,3.775,3.663,3.597,3.488,3.462,3.41,3.38,3.334,3.231,3.203,3.083,2.853],\"type\":\"scatter\",\"xaxis\":\"x\",\"yaxis\":\"y\"},{\"customdata\":[\"Finland\",\"Denmark\",\"Norway\",\"Iceland\",\"Netherlands\",\"Switzerland\",\"Sweden\",\"New Zealand\",\"Canada\",\"Austria\",\"Australia\",\"Costa Rica\",\"Israel\",\"Luxembourg\",\"United Kingdom\",\"Ireland\",\"Germany\",\"Belgium\",\"United States\",\"Czech Republic\",\"United Arab Emirates\",\"Malta\",\"Mexico\",\"France\",\"Taiwan\",\"Chile\",\"Guatemala\",\"Saudi Arabia\",\"Qatar\",\"Spain\",\"Panama\",\"Brazil\",\"Uruguay\",\"Singapore\",\"El Salvador\",\"Italy\",\"Bahrain\",\"Slovakia\",\"Trinidad & Tobago\",\"Poland\",\"Uzbekistan\",\"Lithuania\",\"Colombia\",\"Slovenia\",\"Nicaragua\",\"Kosovo\",\"Argentina\",\"Romania\",\"Cyprus\",\"Ecuador\",\"Kuwait\",\"Thailand\",\"Latvia\",\"South Korea\",\"Estonia\",\"Jamaica\",\"Mauritius\",\"Japan\",\"Honduras\",\"Kazakhstan\",\"Bolivia\",\"Hungary\",\"Paraguay\",\"Northern Cyprus\",\"Peru\",\"Portugal\",\"Pakistan\",\"Russia\",\"Philippines\",\"Serbia\",\"Moldova\",\"Libya\",\"Montenegro\",\"Tajikistan\",\"Croatia\",\"Hong Kong\",\"Dominican Republic\",\"Bosnia and Herzegovina\",\"Turkey\",\"Malaysia\",\"Belarus\",\"Greece\",\"Mongolia\",\"North Macedonia\",\"Nigeria\",\"Kyrgyzstan\",\"Turkmenistan\",\"Algeria\",\"Morocco\",\"Azerbaijan\",\"Lebanon\",\"Indonesia\",\"China\",\"Vietnam\",\"Bhutan\",\"Cameroon\",\"Bulgaria\",\"Ghana\",\"Ivory Coast\",\"Nepal\",\"Jordan\",\"Benin\",\"Congo (Brazzaville)\",\"Gabon\",\"Laos\",\"South Africa\",\"Albania\",\"Venezuela\",\"Cambodia\",\"Palestinian Territories\",\"Senegal\",\"Somalia\",\"Namibia\",\"Niger\",\"Burkina Faso\",\"Armenia\",\"Iran\",\"Guinea\",\"Georgia\",\"Gambia\",\"Kenya\",\"Mauritania\",\"Mozambique\",\"Tunisia\",\"Bangladesh\",\"Iraq\",\"Congo (Kinshasa)\",\"Mali\",\"Sierra Leone\",\"Sri Lanka\",\"Myanmar\",\"Chad\",\"Ukraine\",\"Ethiopia\",\"Swaziland\",\"Uganda\",\"Egypt\",\"Zambia\",\"Togo\",\"India\",\"Liberia\",\"Comoros\",\"Madagascar\",\"Lesotho\",\"Burundi\",\"Zimbabwe\",\"Haiti\",\"Botswana\",\"Syria\",\"Malawi\",\"Yemen\",\"Rwanda\",\"Tanzania\",\"Afghanistan\",\"Central African Republic\",\"South Sudan\"],\"hovertemplate\":\"Index: %{x}<br>Score: %{y}<br>Country: %{customdata}\",\"mode\":\"markers\",\"x\":[0.986,0.996,1.028,1.026,0.999,1.052,1.009,1.026,1.039,1.016,1.036,0.963,1.029,1.012,0.996,0.999,0.987,0.986,0.874,0.92,0.825,0.999,0.861,1.045,0.914,0.92,0.746,0.795,0.871,1.062,0.91,0.802,0.891,1.141,0.789,1.039,0.871,0.881,0.713,0.884,0.756,0.818,0.841,0.953,0.835,0.758,0.881,0.825,1.042,0.868,0.808,0.828,0.812,1.036,0.874,0.831,0.798,1.088,0.828,0.729,0.706,0.828,0.777,1.042,0.854,0.999,0.535,0.726,0.657,0.854,0.739,0.673,0.871,0.718,0.914,1.122,0.779,0.845,0.808,0.828,0.789,0.999,0.667,0.838,0.245,0.723,0.657,0.785,0.782,0.769,0.815,0.66,0.893,0.851,0.604,0.331,0.815,0.486,0.232,0.677,0.815,0.397,0.508,0.571,0.551,0.469,0.874,0.805,0.637,0.672,0.571,0.268,0.477,0.366,0.38,0.815,0.785,0.375,0.752,0.428,0.581,0.489,0.39,0.815,0.723,0.574,0.357,0.308,0.242,0.831,0.555,0.192,0.739,0.532,0.0,0.443,0.644,0.426,0.41,0.588,0.443,0.505,0.555,0.168,0.38,0.433,0.449,0.538,0.44,0.495,0.463,0.614,0.499,0.361,0.105,0.295],\"y\":[7.769,7.6,7.554,7.494,7.488,7.48,7.343,7.307,7.278,7.246,7.228,7.167,7.139,7.09,7.054,7.021,6.985,6.923,6.892,6.852,6.825,6.726,6.595,6.592,6.446,6.444,6.436,6.375,6.374,6.354,6.321,6.3,6.293,6.262,6.253,6.223,6.199,6.198,6.192,6.182,6.174,6.149,6.125,6.118,6.105,6.1,6.086,6.07,6.046,6.028,6.021,6.008,5.94,5.895,5.893,5.89,5.888,5.886,5.86,5.809,5.779,5.758,5.743,5.718,5.697,5.693,5.653,5.648,5.631,5.603,5.529,5.525,5.523,5.467,5.432,5.43,5.425,5.386,5.373,5.339,5.323,5.287,5.285,5.274,5.265,5.261,5.247,5.211,5.208,5.208,5.197,5.192,5.191,5.175,5.082,5.044,5.011,4.996,4.944,4.913,4.906,4.883,4.812,4.799,4.796,4.722,4.719,4.707,4.7,4.696,4.681,4.668,4.639,4.628,4.587,4.559,4.548,4.534,4.519,4.516,4.509,4.49,4.466,4.461,4.456,4.437,4.418,4.39,4.374,4.366,4.36,4.35,4.332,4.286,4.212,4.189,4.166,4.107,4.085,4.015,3.975,3.973,3.933,3.802,3.775,3.663,3.597,3.488,3.462,3.41,3.38,3.334,3.231,3.203,3.083,2.853],\"type\":\"scatter\",\"xaxis\":\"x2\",\"yaxis\":\"y2\"},{\"customdata\":[\"Finland\",\"Denmark\",\"Norway\",\"Iceland\",\"Netherlands\",\"Switzerland\",\"Sweden\",\"New Zealand\",\"Canada\",\"Austria\",\"Australia\",\"Costa Rica\",\"Israel\",\"Luxembourg\",\"United Kingdom\",\"Ireland\",\"Germany\",\"Belgium\",\"United States\",\"Czech Republic\",\"United Arab Emirates\",\"Malta\",\"Mexico\",\"France\",\"Taiwan\",\"Chile\",\"Guatemala\",\"Saudi Arabia\",\"Qatar\",\"Spain\",\"Panama\",\"Brazil\",\"Uruguay\",\"Singapore\",\"El Salvador\",\"Italy\",\"Bahrain\",\"Slovakia\",\"Trinidad & Tobago\",\"Poland\",\"Uzbekistan\",\"Lithuania\",\"Colombia\",\"Slovenia\",\"Nicaragua\",\"Kosovo\",\"Argentina\",\"Romania\",\"Cyprus\",\"Ecuador\",\"Kuwait\",\"Thailand\",\"Latvia\",\"South Korea\",\"Estonia\",\"Jamaica\",\"Mauritius\",\"Japan\",\"Honduras\",\"Kazakhstan\",\"Bolivia\",\"Hungary\",\"Paraguay\",\"Northern Cyprus\",\"Peru\",\"Portugal\",\"Pakistan\",\"Russia\",\"Philippines\",\"Serbia\",\"Moldova\",\"Libya\",\"Montenegro\",\"Tajikistan\",\"Croatia\",\"Hong Kong\",\"Dominican Republic\",\"Bosnia and Herzegovina\",\"Turkey\",\"Malaysia\",\"Belarus\",\"Greece\",\"Mongolia\",\"North Macedonia\",\"Nigeria\",\"Kyrgyzstan\",\"Turkmenistan\",\"Algeria\",\"Morocco\",\"Azerbaijan\",\"Lebanon\",\"Indonesia\",\"China\",\"Vietnam\",\"Bhutan\",\"Cameroon\",\"Bulgaria\",\"Ghana\",\"Ivory Coast\",\"Nepal\",\"Jordan\",\"Benin\",\"Congo (Brazzaville)\",\"Gabon\",\"Laos\",\"South Africa\",\"Albania\",\"Venezuela\",\"Cambodia\",\"Palestinian Territories\",\"Senegal\",\"Somalia\",\"Namibia\",\"Niger\",\"Burkina Faso\",\"Armenia\",\"Iran\",\"Guinea\",\"Georgia\",\"Gambia\",\"Kenya\",\"Mauritania\",\"Mozambique\",\"Tunisia\",\"Bangladesh\",\"Iraq\",\"Congo (Kinshasa)\",\"Mali\",\"Sierra Leone\",\"Sri Lanka\",\"Myanmar\",\"Chad\",\"Ukraine\",\"Ethiopia\",\"Swaziland\",\"Uganda\",\"Egypt\",\"Zambia\",\"Togo\",\"India\",\"Liberia\",\"Comoros\",\"Madagascar\",\"Lesotho\",\"Burundi\",\"Zimbabwe\",\"Haiti\",\"Botswana\",\"Syria\",\"Malawi\",\"Yemen\",\"Rwanda\",\"Tanzania\",\"Afghanistan\",\"Central African Republic\",\"South Sudan\"],\"hovertemplate\":\"Index: %{x}<br>Score: %{y}<br>Country: %{customdata}\",\"mode\":\"markers\",\"x\":[1.587,1.573,1.582,1.624,1.522,1.526,1.487,1.557,1.505,1.475,1.548,1.441,1.455,1.479,1.538,1.553,1.454,1.504,1.457,1.487,1.31,1.52,1.323,1.472,1.43,1.369,1.269,1.357,1.313,1.484,1.442,1.439,1.465,1.463,1.242,1.488,1.368,1.504,1.477,1.438,1.529,1.515,1.41,1.523,1.325,1.232,1.432,1.232,1.223,1.312,1.319,1.409,1.465,1.219,1.528,1.478,1.402,1.419,1.236,1.508,1.209,1.41,1.475,1.252,1.274,1.431,0.886,1.452,1.293,1.383,1.328,1.303,1.361,1.098,1.266,1.277,1.401,1.212,1.36,1.171,1.465,1.156,1.531,1.294,1.111,1.438,1.538,1.16,0.782,1.147,1.224,1.203,1.125,1.346,1.321,0.91,1.513,0.868,0.808,1.226,1.225,0.437,0.799,1.183,1.03,1.351,0.848,1.427,1.122,1.247,1.134,0.698,1.313,0.774,1.056,1.055,0.842,0.829,0.666,0.939,0.983,1.167,0.986,1.0,0.928,0.98,1.125,1.105,0.841,1.265,1.181,0.766,1.39,1.033,1.149,1.069,1.039,1.058,0.572,0.765,0.922,0.757,0.916,1.169,0.447,1.114,0.688,1.145,0.378,0.56,1.163,0.711,0.885,0.517,0.0,0.575],\"y\":[7.769,7.6,7.554,7.494,7.488,7.48,7.343,7.307,7.278,7.246,7.228,7.167,7.139,7.09,7.054,7.021,6.985,6.923,6.892,6.852,6.825,6.726,6.595,6.592,6.446,6.444,6.436,6.375,6.374,6.354,6.321,6.3,6.293,6.262,6.253,6.223,6.199,6.198,6.192,6.182,6.174,6.149,6.125,6.118,6.105,6.1,6.086,6.07,6.046,6.028,6.021,6.008,5.94,5.895,5.893,5.89,5.888,5.886,5.86,5.809,5.779,5.758,5.743,5.718,5.697,5.693,5.653,5.648,5.631,5.603,5.529,5.525,5.523,5.467,5.432,5.43,5.425,5.386,5.373,5.339,5.323,5.287,5.285,5.274,5.265,5.261,5.247,5.211,5.208,5.208,5.197,5.192,5.191,5.175,5.082,5.044,5.011,4.996,4.944,4.913,4.906,4.883,4.812,4.799,4.796,4.722,4.719,4.707,4.7,4.696,4.681,4.668,4.639,4.628,4.587,4.559,4.548,4.534,4.519,4.516,4.509,4.49,4.466,4.461,4.456,4.437,4.418,4.39,4.374,4.366,4.36,4.35,4.332,4.286,4.212,4.189,4.166,4.107,4.085,4.015,3.975,3.973,3.933,3.802,3.775,3.663,3.597,3.488,3.462,3.41,3.38,3.334,3.231,3.203,3.083,2.853],\"type\":\"scatter\",\"xaxis\":\"x3\",\"yaxis\":\"y3\"},{\"customdata\":[\"Finland\",\"Denmark\",\"Norway\",\"Iceland\",\"Netherlands\",\"Switzerland\",\"Sweden\",\"New Zealand\",\"Canada\",\"Austria\",\"Australia\",\"Costa Rica\",\"Israel\",\"Luxembourg\",\"United Kingdom\",\"Ireland\",\"Germany\",\"Belgium\",\"United States\",\"Czech Republic\",\"United Arab Emirates\",\"Malta\",\"Mexico\",\"France\",\"Taiwan\",\"Chile\",\"Guatemala\",\"Saudi Arabia\",\"Qatar\",\"Spain\",\"Panama\",\"Brazil\",\"Uruguay\",\"Singapore\",\"El Salvador\",\"Italy\",\"Bahrain\",\"Slovakia\",\"Trinidad & Tobago\",\"Poland\",\"Uzbekistan\",\"Lithuania\",\"Colombia\",\"Slovenia\",\"Nicaragua\",\"Kosovo\",\"Argentina\",\"Romania\",\"Cyprus\",\"Ecuador\",\"Kuwait\",\"Thailand\",\"Latvia\",\"South Korea\",\"Estonia\",\"Jamaica\",\"Mauritius\",\"Japan\",\"Honduras\",\"Kazakhstan\",\"Bolivia\",\"Hungary\",\"Paraguay\",\"Northern Cyprus\",\"Peru\",\"Portugal\",\"Pakistan\",\"Russia\",\"Philippines\",\"Serbia\",\"Moldova\",\"Libya\",\"Montenegro\",\"Tajikistan\",\"Croatia\",\"Hong Kong\",\"Dominican Republic\",\"Bosnia and Herzegovina\",\"Turkey\",\"Malaysia\",\"Belarus\",\"Greece\",\"Mongolia\",\"North Macedonia\",\"Nigeria\",\"Kyrgyzstan\",\"Turkmenistan\",\"Algeria\",\"Morocco\",\"Azerbaijan\",\"Lebanon\",\"Indonesia\",\"China\",\"Vietnam\",\"Bhutan\",\"Cameroon\",\"Bulgaria\",\"Ghana\",\"Ivory Coast\",\"Nepal\",\"Jordan\",\"Benin\",\"Congo (Brazzaville)\",\"Gabon\",\"Laos\",\"South Africa\",\"Albania\",\"Venezuela\",\"Cambodia\",\"Palestinian Territories\",\"Senegal\",\"Somalia\",\"Namibia\",\"Niger\",\"Burkina Faso\",\"Armenia\",\"Iran\",\"Guinea\",\"Georgia\",\"Gambia\",\"Kenya\",\"Mauritania\",\"Mozambique\",\"Tunisia\",\"Bangladesh\",\"Iraq\",\"Congo (Kinshasa)\",\"Mali\",\"Sierra Leone\",\"Sri Lanka\",\"Myanmar\",\"Chad\",\"Ukraine\",\"Ethiopia\",\"Swaziland\",\"Uganda\",\"Egypt\",\"Zambia\",\"Togo\",\"India\",\"Liberia\",\"Comoros\",\"Madagascar\",\"Lesotho\",\"Burundi\",\"Zimbabwe\",\"Haiti\",\"Botswana\",\"Syria\",\"Malawi\",\"Yemen\",\"Rwanda\",\"Tanzania\",\"Afghanistan\",\"Central African Republic\",\"South Sudan\"],\"hovertemplate\":\"Index: %{x}<br>Score: %{y}<br>Country: %{customdata}\",\"mode\":\"markers\",\"x\":[1.34,1.383,1.488,1.38,1.396,1.452,1.387,1.303,1.365,1.376,1.372,1.034,1.276,1.609,1.333,1.499,1.373,1.356,1.433,1.269,1.503,1.3,1.07,1.324,1.368,1.159,0.8,1.403,1.684,1.286,1.149,1.004,1.124,1.572,0.794,1.294,1.362,1.246,1.231,1.206,0.745,1.238,0.985,1.258,0.694,0.882,1.092,1.162,1.263,0.912,1.5,1.05,1.187,1.301,1.237,0.831,1.12,1.327,0.642,1.173,0.776,1.201,0.855,1.263,0.96,1.221,0.677,1.183,0.807,1.004,0.685,1.044,1.051,0.493,1.155,1.438,1.015,0.945,1.183,1.221,1.067,1.181,0.948,0.983,0.696,0.551,1.052,1.002,0.801,1.043,0.987,0.931,1.029,0.741,0.813,0.549,1.092,0.611,0.569,0.446,0.837,0.393,0.673,1.057,0.764,0.96,0.947,0.96,0.574,0.657,0.45,0.0,0.879,0.138,0.331,0.85,1.1,0.38,0.886,0.308,0.512,0.57,0.204,0.921,0.562,1.043,0.094,0.385,0.268,0.949,0.71,0.35,0.82,0.336,0.811,0.332,0.913,0.578,0.275,0.755,0.073,0.274,0.274,0.489,0.046,0.366,0.323,1.041,0.619,0.191,0.287,0.359,0.476,0.35,0.026,0.306],\"y\":[7.769,7.6,7.554,7.494,7.488,7.48,7.343,7.307,7.278,7.246,7.228,7.167,7.139,7.09,7.054,7.021,6.985,6.923,6.892,6.852,6.825,6.726,6.595,6.592,6.446,6.444,6.436,6.375,6.374,6.354,6.321,6.3,6.293,6.262,6.253,6.223,6.199,6.198,6.192,6.182,6.174,6.149,6.125,6.118,6.105,6.1,6.086,6.07,6.046,6.028,6.021,6.008,5.94,5.895,5.893,5.89,5.888,5.886,5.86,5.809,5.779,5.758,5.743,5.718,5.697,5.693,5.653,5.648,5.631,5.603,5.529,5.525,5.523,5.467,5.432,5.43,5.425,5.386,5.373,5.339,5.323,5.287,5.285,5.274,5.265,5.261,5.247,5.211,5.208,5.208,5.197,5.192,5.191,5.175,5.082,5.044,5.011,4.996,4.944,4.913,4.906,4.883,4.812,4.799,4.796,4.722,4.719,4.707,4.7,4.696,4.681,4.668,4.639,4.628,4.587,4.559,4.548,4.534,4.519,4.516,4.509,4.49,4.466,4.461,4.456,4.437,4.418,4.39,4.374,4.366,4.36,4.35,4.332,4.286,4.212,4.189,4.166,4.107,4.085,4.015,3.975,3.973,3.933,3.802,3.775,3.663,3.597,3.488,3.462,3.41,3.38,3.334,3.231,3.203,3.083,2.853],\"type\":\"scatter\",\"xaxis\":\"x4\",\"yaxis\":\"y4\"},{\"customdata\":[\"Finland\",\"Denmark\",\"Norway\",\"Iceland\",\"Netherlands\",\"Switzerland\",\"Sweden\",\"New Zealand\",\"Canada\",\"Austria\",\"Australia\",\"Costa Rica\",\"Israel\",\"Luxembourg\",\"United Kingdom\",\"Ireland\",\"Germany\",\"Belgium\",\"United States\",\"Czech Republic\",\"United Arab Emirates\",\"Malta\",\"Mexico\",\"France\",\"Taiwan\",\"Chile\",\"Guatemala\",\"Saudi Arabia\",\"Qatar\",\"Spain\",\"Panama\",\"Brazil\",\"Uruguay\",\"Singapore\",\"El Salvador\",\"Italy\",\"Bahrain\",\"Slovakia\",\"Trinidad & Tobago\",\"Poland\",\"Uzbekistan\",\"Lithuania\",\"Colombia\",\"Slovenia\",\"Nicaragua\",\"Kosovo\",\"Argentina\",\"Romania\",\"Cyprus\",\"Ecuador\",\"Kuwait\",\"Thailand\",\"Latvia\",\"South Korea\",\"Estonia\",\"Jamaica\",\"Mauritius\",\"Japan\",\"Honduras\",\"Kazakhstan\",\"Bolivia\",\"Hungary\",\"Paraguay\",\"Northern Cyprus\",\"Peru\",\"Portugal\",\"Pakistan\",\"Russia\",\"Philippines\",\"Serbia\",\"Moldova\",\"Libya\",\"Montenegro\",\"Tajikistan\",\"Croatia\",\"Hong Kong\",\"Dominican Republic\",\"Bosnia and Herzegovina\",\"Turkey\",\"Malaysia\",\"Belarus\",\"Greece\",\"Mongolia\",\"North Macedonia\",\"Nigeria\",\"Kyrgyzstan\",\"Turkmenistan\",\"Algeria\",\"Morocco\",\"Azerbaijan\",\"Lebanon\",\"Indonesia\",\"China\",\"Vietnam\",\"Bhutan\",\"Cameroon\",\"Bulgaria\",\"Ghana\",\"Ivory Coast\",\"Nepal\",\"Jordan\",\"Benin\",\"Congo (Brazzaville)\",\"Gabon\",\"Laos\",\"South Africa\",\"Albania\",\"Venezuela\",\"Cambodia\",\"Palestinian Territories\",\"Senegal\",\"Somalia\",\"Namibia\",\"Niger\",\"Burkina Faso\",\"Armenia\",\"Iran\",\"Guinea\",\"Georgia\",\"Gambia\",\"Kenya\",\"Mauritania\",\"Mozambique\",\"Tunisia\",\"Bangladesh\",\"Iraq\",\"Congo (Kinshasa)\",\"Mali\",\"Sierra Leone\",\"Sri Lanka\",\"Myanmar\",\"Chad\",\"Ukraine\",\"Ethiopia\",\"Swaziland\",\"Uganda\",\"Egypt\",\"Zambia\",\"Togo\",\"India\",\"Liberia\",\"Comoros\",\"Madagascar\",\"Lesotho\",\"Burundi\",\"Zimbabwe\",\"Haiti\",\"Botswana\",\"Syria\",\"Malawi\",\"Yemen\",\"Rwanda\",\"Tanzania\",\"Afghanistan\",\"Central African Republic\",\"South Sudan\"],\"hovertemplate\":\"Index: %{x}<br>Score: %{y}<br>Country: %{customdata}\",\"mode\":\"markers\",\"x\":[0.596,0.592,0.603,0.591,0.557,0.572,0.574,0.585,0.584,0.532,0.557,0.558,0.371,0.526,0.45,0.516,0.495,0.473,0.454,0.457,0.598,0.564,0.433,0.436,0.351,0.357,0.535,0.439,0.555,0.362,0.516,0.39,0.523,0.556,0.43,0.231,0.536,0.334,0.489,0.483,0.631,0.291,0.47,0.564,0.435,0.489,0.471,0.462,0.406,0.498,0.493,0.557,0.264,0.159,0.495,0.49,0.498,0.445,0.507,0.41,0.511,0.199,0.514,0.417,0.455,0.508,0.313,0.334,0.558,0.282,0.245,0.416,0.197,0.389,0.296,0.44,0.497,0.212,0.195,0.508,0.235,0.067,0.317,0.345,0.426,0.508,0.394,0.086,0.418,0.351,0.216,0.491,0.521,0.543,0.457,0.381,0.311,0.381,0.352,0.439,0.383,0.349,0.372,0.295,0.547,0.389,0.383,0.154,0.609,0.225,0.292,0.559,0.401,0.318,0.255,0.283,0.305,0.332,0.346,0.382,0.431,0.066,0.494,0.167,0.527,0.241,0.269,0.327,0.309,0.47,0.525,0.174,0.178,0.344,0.313,0.356,0.241,0.431,0.293,0.498,0.37,0.142,0.148,0.359,0.22,0.361,0.026,0.455,0.013,0.443,0.143,0.555,0.417,0.0,0.225,0.01],\"y\":[7.769,7.6,7.554,7.494,7.488,7.48,7.343,7.307,7.278,7.246,7.228,7.167,7.139,7.09,7.054,7.021,6.985,6.923,6.892,6.852,6.825,6.726,6.595,6.592,6.446,6.444,6.436,6.375,6.374,6.354,6.321,6.3,6.293,6.262,6.253,6.223,6.199,6.198,6.192,6.182,6.174,6.149,6.125,6.118,6.105,6.1,6.086,6.07,6.046,6.028,6.021,6.008,5.94,5.895,5.893,5.89,5.888,5.886,5.86,5.809,5.779,5.758,5.743,5.718,5.697,5.693,5.653,5.648,5.631,5.603,5.529,5.525,5.523,5.467,5.432,5.43,5.425,5.386,5.373,5.339,5.323,5.287,5.285,5.274,5.265,5.261,5.247,5.211,5.208,5.208,5.197,5.192,5.191,5.175,5.082,5.044,5.011,4.996,4.944,4.913,4.906,4.883,4.812,4.799,4.796,4.722,4.719,4.707,4.7,4.696,4.681,4.668,4.639,4.628,4.587,4.559,4.548,4.534,4.519,4.516,4.509,4.49,4.466,4.461,4.456,4.437,4.418,4.39,4.374,4.366,4.36,4.35,4.332,4.286,4.212,4.189,4.166,4.107,4.085,4.015,3.975,3.973,3.933,3.802,3.775,3.663,3.597,3.488,3.462,3.41,3.38,3.334,3.231,3.203,3.083,2.853],\"type\":\"scatter\",\"xaxis\":\"x5\",\"yaxis\":\"y5\"},{\"customdata\":[\"Finland\",\"Denmark\",\"Norway\",\"Iceland\",\"Netherlands\",\"Switzerland\",\"Sweden\",\"New Zealand\",\"Canada\",\"Austria\",\"Australia\",\"Costa Rica\",\"Israel\",\"Luxembourg\",\"United Kingdom\",\"Ireland\",\"Germany\",\"Belgium\",\"United States\",\"Czech Republic\",\"United Arab Emirates\",\"Malta\",\"Mexico\",\"France\",\"Taiwan\",\"Chile\",\"Guatemala\",\"Saudi Arabia\",\"Qatar\",\"Spain\",\"Panama\",\"Brazil\",\"Uruguay\",\"Singapore\",\"El Salvador\",\"Italy\",\"Bahrain\",\"Slovakia\",\"Trinidad & Tobago\",\"Poland\",\"Uzbekistan\",\"Lithuania\",\"Colombia\",\"Slovenia\",\"Nicaragua\",\"Kosovo\",\"Argentina\",\"Romania\",\"Cyprus\",\"Ecuador\",\"Kuwait\",\"Thailand\",\"Latvia\",\"South Korea\",\"Estonia\",\"Jamaica\",\"Mauritius\",\"Japan\",\"Honduras\",\"Kazakhstan\",\"Bolivia\",\"Hungary\",\"Paraguay\",\"Northern Cyprus\",\"Peru\",\"Portugal\",\"Pakistan\",\"Russia\",\"Philippines\",\"Serbia\",\"Moldova\",\"Libya\",\"Montenegro\",\"Tajikistan\",\"Croatia\",\"Hong Kong\",\"Dominican Republic\",\"Bosnia and Herzegovina\",\"Turkey\",\"Malaysia\",\"Belarus\",\"Greece\",\"Mongolia\",\"North Macedonia\",\"Nigeria\",\"Kyrgyzstan\",\"Turkmenistan\",\"Algeria\",\"Morocco\",\"Azerbaijan\",\"Lebanon\",\"Indonesia\",\"China\",\"Vietnam\",\"Bhutan\",\"Cameroon\",\"Bulgaria\",\"Ghana\",\"Ivory Coast\",\"Nepal\",\"Jordan\",\"Benin\",\"Congo (Brazzaville)\",\"Gabon\",\"Laos\",\"South Africa\",\"Albania\",\"Venezuela\",\"Cambodia\",\"Palestinian Territories\",\"Senegal\",\"Somalia\",\"Namibia\",\"Niger\",\"Burkina Faso\",\"Armenia\",\"Iran\",\"Guinea\",\"Georgia\",\"Gambia\",\"Kenya\",\"Mauritania\",\"Mozambique\",\"Tunisia\",\"Bangladesh\",\"Iraq\",\"Congo (Kinshasa)\",\"Mali\",\"Sierra Leone\",\"Sri Lanka\",\"Myanmar\",\"Chad\",\"Ukraine\",\"Ethiopia\",\"Swaziland\",\"Uganda\",\"Egypt\",\"Zambia\",\"Togo\",\"India\",\"Liberia\",\"Comoros\",\"Madagascar\",\"Lesotho\",\"Burundi\",\"Zimbabwe\",\"Haiti\",\"Botswana\",\"Syria\",\"Malawi\",\"Yemen\",\"Rwanda\",\"Tanzania\",\"Afghanistan\",\"Central African Republic\",\"South Sudan\"],\"hovertemplate\":\"Index: %{x}<br>Score: %{y}<br>Country: %{customdata}\",\"mode\":\"markers\",\"x\":[0.153,0.252,0.271,0.354,0.322,0.263,0.267,0.33,0.285,0.244,0.332,0.144,0.261,0.194,0.348,0.298,0.261,0.16,0.28,0.046,0.262,0.375,0.074,0.111,0.242,0.187,0.175,0.08,0.22,0.153,0.109,0.099,0.127,0.271,0.093,0.158,0.255,0.121,0.185,0.117,0.322,0.043,0.099,0.144,0.2,0.262,0.066,0.083,0.19,0.126,0.142,0.359,0.075,0.175,0.103,0.107,0.215,0.069,0.246,0.146,0.137,0.081,0.184,0.191,0.083,0.047,0.22,0.082,0.117,0.137,0.181,0.133,0.142,0.23,0.119,0.258,0.113,0.263,0.083,0.26,0.094,0.0,0.235,0.185,0.215,0.3,0.244,0.073,0.036,0.035,0.166,0.498,0.058,0.147,0.37,0.187,0.081,0.245,0.154,0.285,0.11,0.175,0.105,0.043,0.266,0.13,0.178,0.064,0.232,0.103,0.153,0.243,0.07,0.188,0.177,0.095,0.27,0.207,0.043,0.269,0.372,0.106,0.197,0.059,0.166,0.148,0.212,0.153,0.252,0.244,0.566,0.198,0.187,0.209,0.074,0.252,0.076,0.247,0.177,0.2,0.233,0.275,0.169,0.107,0.176,0.151,0.419,0.025,0.331,0.218,0.108,0.217,0.276,0.158,0.235,0.202],\"y\":[7.769,7.6,7.554,7.494,7.488,7.48,7.343,7.307,7.278,7.246,7.228,7.167,7.139,7.09,7.054,7.021,6.985,6.923,6.892,6.852,6.825,6.726,6.595,6.592,6.446,6.444,6.436,6.375,6.374,6.354,6.321,6.3,6.293,6.262,6.253,6.223,6.199,6.198,6.192,6.182,6.174,6.149,6.125,6.118,6.105,6.1,6.086,6.07,6.046,6.028,6.021,6.008,5.94,5.895,5.893,5.89,5.888,5.886,5.86,5.809,5.779,5.758,5.743,5.718,5.697,5.693,5.653,5.648,5.631,5.603,5.529,5.525,5.523,5.467,5.432,5.43,5.425,5.386,5.373,5.339,5.323,5.287,5.285,5.274,5.265,5.261,5.247,5.211,5.208,5.208,5.197,5.192,5.191,5.175,5.082,5.044,5.011,4.996,4.944,4.913,4.906,4.883,4.812,4.799,4.796,4.722,4.719,4.707,4.7,4.696,4.681,4.668,4.639,4.628,4.587,4.559,4.548,4.534,4.519,4.516,4.509,4.49,4.466,4.461,4.456,4.437,4.418,4.39,4.374,4.366,4.36,4.35,4.332,4.286,4.212,4.189,4.166,4.107,4.085,4.015,3.975,3.973,3.933,3.802,3.775,3.663,3.597,3.488,3.462,3.41,3.38,3.334,3.231,3.203,3.083,2.853],\"type\":\"scatter\",\"xaxis\":\"x6\",\"yaxis\":\"y6\"}],                        {\"template\":{\"data\":{\"bar\":[{\"error_x\":{\"color\":\"#2a3f5f\"},\"error_y\":{\"color\":\"#2a3f5f\"},\"marker\":{\"line\":{\"color\":\"#E5ECF6\",\"width\":0.5},\"pattern\":{\"fillmode\":\"overlay\",\"size\":10,\"solidity\":0.2}},\"type\":\"bar\"}],\"barpolar\":[{\"marker\":{\"line\":{\"color\":\"#E5ECF6\",\"width\":0.5},\"pattern\":{\"fillmode\":\"overlay\",\"size\":10,\"solidity\":0.2}},\"type\":\"barpolar\"}],\"carpet\":[{\"aaxis\":{\"endlinecolor\":\"#2a3f5f\",\"gridcolor\":\"white\",\"linecolor\":\"white\",\"minorgridcolor\":\"white\",\"startlinecolor\":\"#2a3f5f\"},\"baxis\":{\"endlinecolor\":\"#2a3f5f\",\"gridcolor\":\"white\",\"linecolor\":\"white\",\"minorgridcolor\":\"white\",\"startlinecolor\":\"#2a3f5f\"},\"type\":\"carpet\"}],\"choropleth\":[{\"colorbar\":{\"outlinewidth\":0,\"ticks\":\"\"},\"type\":\"choropleth\"}],\"contour\":[{\"colorbar\":{\"outlinewidth\":0,\"ticks\":\"\"},\"colorscale\":[[0.0,\"#0d0887\"],[0.1111111111111111,\"#46039f\"],[0.2222222222222222,\"#7201a8\"],[0.3333333333333333,\"#9c179e\"],[0.4444444444444444,\"#bd3786\"],[0.5555555555555556,\"#d8576b\"],[0.6666666666666666,\"#ed7953\"],[0.7777777777777778,\"#fb9f3a\"],[0.8888888888888888,\"#fdca26\"],[1.0,\"#f0f921\"]],\"type\":\"contour\"}],\"contourcarpet\":[{\"colorbar\":{\"outlinewidth\":0,\"ticks\":\"\"},\"type\":\"contourcarpet\"}],\"heatmap\":[{\"colorbar\":{\"outlinewidth\":0,\"ticks\":\"\"},\"colorscale\":[[0.0,\"#0d0887\"],[0.1111111111111111,\"#46039f\"],[0.2222222222222222,\"#7201a8\"],[0.3333333333333333,\"#9c179e\"],[0.4444444444444444,\"#bd3786\"],[0.5555555555555556,\"#d8576b\"],[0.6666666666666666,\"#ed7953\"],[0.7777777777777778,\"#fb9f3a\"],[0.8888888888888888,\"#fdca26\"],[1.0,\"#f0f921\"]],\"type\":\"heatmap\"}],\"heatmapgl\":[{\"colorbar\":{\"outlinewidth\":0,\"ticks\":\"\"},\"colorscale\":[[0.0,\"#0d0887\"],[0.1111111111111111,\"#46039f\"],[0.2222222222222222,\"#7201a8\"],[0.3333333333333333,\"#9c179e\"],[0.4444444444444444,\"#bd3786\"],[0.5555555555555556,\"#d8576b\"],[0.6666666666666666,\"#ed7953\"],[0.7777777777777778,\"#fb9f3a\"],[0.8888888888888888,\"#fdca26\"],[1.0,\"#f0f921\"]],\"type\":\"heatmapgl\"}],\"histogram\":[{\"marker\":{\"pattern\":{\"fillmode\":\"overlay\",\"size\":10,\"solidity\":0.2}},\"type\":\"histogram\"}],\"histogram2d\":[{\"colorbar\":{\"outlinewidth\":0,\"ticks\":\"\"},\"colorscale\":[[0.0,\"#0d0887\"],[0.1111111111111111,\"#46039f\"],[0.2222222222222222,\"#7201a8\"],[0.3333333333333333,\"#9c179e\"],[0.4444444444444444,\"#bd3786\"],[0.5555555555555556,\"#d8576b\"],[0.6666666666666666,\"#ed7953\"],[0.7777777777777778,\"#fb9f3a\"],[0.8888888888888888,\"#fdca26\"],[1.0,\"#f0f921\"]],\"type\":\"histogram2d\"}],\"histogram2dcontour\":[{\"colorbar\":{\"outlinewidth\":0,\"ticks\":\"\"},\"colorscale\":[[0.0,\"#0d0887\"],[0.1111111111111111,\"#46039f\"],[0.2222222222222222,\"#7201a8\"],[0.3333333333333333,\"#9c179e\"],[0.4444444444444444,\"#bd3786\"],[0.5555555555555556,\"#d8576b\"],[0.6666666666666666,\"#ed7953\"],[0.7777777777777778,\"#fb9f3a\"],[0.8888888888888888,\"#fdca26\"],[1.0,\"#f0f921\"]],\"type\":\"histogram2dcontour\"}],\"mesh3d\":[{\"colorbar\":{\"outlinewidth\":0,\"ticks\":\"\"},\"type\":\"mesh3d\"}],\"parcoords\":[{\"line\":{\"colorbar\":{\"outlinewidth\":0,\"ticks\":\"\"}},\"type\":\"parcoords\"}],\"pie\":[{\"automargin\":true,\"type\":\"pie\"}],\"scatter\":[{\"marker\":{\"colorbar\":{\"outlinewidth\":0,\"ticks\":\"\"}},\"type\":\"scatter\"}],\"scatter3d\":[{\"line\":{\"colorbar\":{\"outlinewidth\":0,\"ticks\":\"\"}},\"marker\":{\"colorbar\":{\"outlinewidth\":0,\"ticks\":\"\"}},\"type\":\"scatter3d\"}],\"scattercarpet\":[{\"marker\":{\"colorbar\":{\"outlinewidth\":0,\"ticks\":\"\"}},\"type\":\"scattercarpet\"}],\"scattergeo\":[{\"marker\":{\"colorbar\":{\"outlinewidth\":0,\"ticks\":\"\"}},\"type\":\"scattergeo\"}],\"scattergl\":[{\"marker\":{\"colorbar\":{\"outlinewidth\":0,\"ticks\":\"\"}},\"type\":\"scattergl\"}],\"scattermapbox\":[{\"marker\":{\"colorbar\":{\"outlinewidth\":0,\"ticks\":\"\"}},\"type\":\"scattermapbox\"}],\"scatterpolar\":[{\"marker\":{\"colorbar\":{\"outlinewidth\":0,\"ticks\":\"\"}},\"type\":\"scatterpolar\"}],\"scatterpolargl\":[{\"marker\":{\"colorbar\":{\"outlinewidth\":0,\"ticks\":\"\"}},\"type\":\"scatterpolargl\"}],\"scatterternary\":[{\"marker\":{\"colorbar\":{\"outlinewidth\":0,\"ticks\":\"\"}},\"type\":\"scatterternary\"}],\"surface\":[{\"colorbar\":{\"outlinewidth\":0,\"ticks\":\"\"},\"colorscale\":[[0.0,\"#0d0887\"],[0.1111111111111111,\"#46039f\"],[0.2222222222222222,\"#7201a8\"],[0.3333333333333333,\"#9c179e\"],[0.4444444444444444,\"#bd3786\"],[0.5555555555555556,\"#d8576b\"],[0.6666666666666666,\"#ed7953\"],[0.7777777777777778,\"#fb9f3a\"],[0.8888888888888888,\"#fdca26\"],[1.0,\"#f0f921\"]],\"type\":\"surface\"}],\"table\":[{\"cells\":{\"fill\":{\"color\":\"#EBF0F8\"},\"line\":{\"color\":\"white\"}},\"header\":{\"fill\":{\"color\":\"#C8D4E3\"},\"line\":{\"color\":\"white\"}},\"type\":\"table\"}]},\"layout\":{\"annotationdefaults\":{\"arrowcolor\":\"#2a3f5f\",\"arrowhead\":0,\"arrowwidth\":1},\"autotypenumbers\":\"strict\",\"coloraxis\":{\"colorbar\":{\"outlinewidth\":0,\"ticks\":\"\"}},\"colorscale\":{\"diverging\":[[0,\"#8e0152\"],[0.1,\"#c51b7d\"],[0.2,\"#de77ae\"],[0.3,\"#f1b6da\"],[0.4,\"#fde0ef\"],[0.5,\"#f7f7f7\"],[0.6,\"#e6f5d0\"],[0.7,\"#b8e186\"],[0.8,\"#7fbc41\"],[0.9,\"#4d9221\"],[1,\"#276419\"]],\"sequential\":[[0.0,\"#0d0887\"],[0.1111111111111111,\"#46039f\"],[0.2222222222222222,\"#7201a8\"],[0.3333333333333333,\"#9c179e\"],[0.4444444444444444,\"#bd3786\"],[0.5555555555555556,\"#d8576b\"],[0.6666666666666666,\"#ed7953\"],[0.7777777777777778,\"#fb9f3a\"],[0.8888888888888888,\"#fdca26\"],[1.0,\"#f0f921\"]],\"sequentialminus\":[[0.0,\"#0d0887\"],[0.1111111111111111,\"#46039f\"],[0.2222222222222222,\"#7201a8\"],[0.3333333333333333,\"#9c179e\"],[0.4444444444444444,\"#bd3786\"],[0.5555555555555556,\"#d8576b\"],[0.6666666666666666,\"#ed7953\"],[0.7777777777777778,\"#fb9f3a\"],[0.8888888888888888,\"#fdca26\"],[1.0,\"#f0f921\"]]},\"colorway\":[\"#636efa\",\"#EF553B\",\"#00cc96\",\"#ab63fa\",\"#FFA15A\",\"#19d3f3\",\"#FF6692\",\"#B6E880\",\"#FF97FF\",\"#FECB52\"],\"font\":{\"color\":\"#2a3f5f\"},\"geo\":{\"bgcolor\":\"white\",\"lakecolor\":\"white\",\"landcolor\":\"#E5ECF6\",\"showlakes\":true,\"showland\":true,\"subunitcolor\":\"white\"},\"hoverlabel\":{\"align\":\"left\"},\"hovermode\":\"closest\",\"mapbox\":{\"style\":\"light\"},\"paper_bgcolor\":\"white\",\"plot_bgcolor\":\"#E5ECF6\",\"polar\":{\"angularaxis\":{\"gridcolor\":\"white\",\"linecolor\":\"white\",\"ticks\":\"\"},\"bgcolor\":\"#E5ECF6\",\"radialaxis\":{\"gridcolor\":\"white\",\"linecolor\":\"white\",\"ticks\":\"\"}},\"scene\":{\"xaxis\":{\"backgroundcolor\":\"#E5ECF6\",\"gridcolor\":\"white\",\"gridwidth\":2,\"linecolor\":\"white\",\"showbackground\":true,\"ticks\":\"\",\"zerolinecolor\":\"white\"},\"yaxis\":{\"backgroundcolor\":\"#E5ECF6\",\"gridcolor\":\"white\",\"gridwidth\":2,\"linecolor\":\"white\",\"showbackground\":true,\"ticks\":\"\",\"zerolinecolor\":\"white\"},\"zaxis\":{\"backgroundcolor\":\"#E5ECF6\",\"gridcolor\":\"white\",\"gridwidth\":2,\"linecolor\":\"white\",\"showbackground\":true,\"ticks\":\"\",\"zerolinecolor\":\"white\"}},\"shapedefaults\":{\"line\":{\"color\":\"#2a3f5f\"}},\"ternary\":{\"aaxis\":{\"gridcolor\":\"white\",\"linecolor\":\"white\",\"ticks\":\"\"},\"baxis\":{\"gridcolor\":\"white\",\"linecolor\":\"white\",\"ticks\":\"\"},\"bgcolor\":\"#E5ECF6\",\"caxis\":{\"gridcolor\":\"white\",\"linecolor\":\"white\",\"ticks\":\"\"}},\"title\":{\"x\":0.05},\"xaxis\":{\"automargin\":true,\"gridcolor\":\"white\",\"linecolor\":\"white\",\"ticks\":\"\",\"title\":{\"standoff\":15},\"zerolinecolor\":\"white\",\"zerolinewidth\":2},\"yaxis\":{\"automargin\":true,\"gridcolor\":\"white\",\"linecolor\":\"white\",\"ticks\":\"\",\"title\":{\"standoff\":15},\"zerolinecolor\":\"white\",\"zerolinewidth\":2}}},\"xaxis\":{\"anchor\":\"y\",\"domain\":[0.0,0.45]},\"yaxis\":{\"anchor\":\"x\",\"domain\":[0.7777777777777778,1.0]},\"xaxis2\":{\"anchor\":\"y2\",\"domain\":[0.55,1.0]},\"yaxis2\":{\"anchor\":\"x2\",\"domain\":[0.7777777777777778,1.0]},\"xaxis3\":{\"anchor\":\"y3\",\"domain\":[0.0,0.45]},\"yaxis3\":{\"anchor\":\"x3\",\"domain\":[0.3888888888888889,0.6111111111111112]},\"xaxis4\":{\"anchor\":\"y4\",\"domain\":[0.55,1.0]},\"yaxis4\":{\"anchor\":\"x4\",\"domain\":[0.3888888888888889,0.6111111111111112]},\"xaxis5\":{\"anchor\":\"y5\",\"domain\":[0.0,0.45]},\"yaxis5\":{\"anchor\":\"x5\",\"domain\":[0.0,0.22222222222222224]},\"xaxis6\":{\"anchor\":\"y6\",\"domain\":[0.55,1.0]},\"yaxis6\":{\"anchor\":\"x6\",\"domain\":[0.0,0.22222222222222224]},\"annotations\":[{\"font\":{\"size\":16},\"showarrow\":false,\"text\":\"Perceptions of corruption\",\"x\":0.225,\"xanchor\":\"center\",\"xref\":\"paper\",\"y\":1.0,\"yanchor\":\"bottom\",\"yref\":\"paper\"},{\"font\":{\"size\":16},\"showarrow\":false,\"text\":\"Healthy life expectancy\",\"x\":0.775,\"xanchor\":\"center\",\"xref\":\"paper\",\"y\":1.0,\"yanchor\":\"bottom\",\"yref\":\"paper\"},{\"font\":{\"size\":16},\"showarrow\":false,\"text\":\"Social support\",\"x\":0.225,\"xanchor\":\"center\",\"xref\":\"paper\",\"y\":0.6111111111111112,\"yanchor\":\"bottom\",\"yref\":\"paper\"},{\"font\":{\"size\":16},\"showarrow\":false,\"text\":\"GDP per capita\",\"x\":0.775,\"xanchor\":\"center\",\"xref\":\"paper\",\"y\":0.6111111111111112,\"yanchor\":\"bottom\",\"yref\":\"paper\"},{\"font\":{\"size\":16},\"showarrow\":false,\"text\":\"Freedom to make life choices\",\"x\":0.225,\"xanchor\":\"center\",\"xref\":\"paper\",\"y\":0.22222222222222224,\"yanchor\":\"bottom\",\"yref\":\"paper\"},{\"font\":{\"size\":16},\"showarrow\":false,\"text\":\"Generosity\",\"x\":0.775,\"xanchor\":\"center\",\"xref\":\"paper\",\"y\":0.22222222222222224,\"yanchor\":\"bottom\",\"yref\":\"paper\"}],\"title\":{\"text\":\"Felicidad y Otras variables\"},\"height\":900,\"width\":800},                        {\"responsive\": true}                    ).then(function(){\n",
              "                            \n",
              "var gd = document.getElementById('3387ee23-314a-4194-a9c4-fd377eda43a5');\n",
              "var x = new MutationObserver(function (mutations, observer) {{\n",
              "        var display = window.getComputedStyle(gd).display;\n",
              "        if (!display || display === 'none') {{\n",
              "            console.log([gd, 'removed!']);\n",
              "            Plotly.purge(gd);\n",
              "            observer.disconnect();\n",
              "        }}\n",
              "}});\n",
              "\n",
              "// Listen for the removal of the full notebook cells\n",
              "var notebookContainer = gd.closest('#notebook-container');\n",
              "if (notebookContainer) {{\n",
              "    x.observe(notebookContainer, {childList: true});\n",
              "}}\n",
              "\n",
              "// Listen for the clearing of the current output cell\n",
              "var outputEl = gd.closest('.output');\n",
              "if (outputEl) {{\n",
              "    x.observe(outputEl, {childList: true});\n",
              "}}\n",
              "\n",
              "                        })                };                            </script>        </div>\n",
              "</body>\n",
              "</html>"
            ]
          },
          "metadata": {}
        }
      ]
    },
    {
      "cell_type": "code",
      "source": [
        "import matplotlib.pyplot as plt\n",
        "\n",
        "df2019=pd.read_csv(\"/content/2019.csv\")\n",
        "df2018=pd.read_csv(\"/content/2018.csv\")\n",
        "df2017=pd.read_csv(\"/content/2017.csv\")\n",
        "df2016=pd.read_csv(\"/content/2016.csv\")\n",
        "df2015=pd.read_csv(\"/content/2015.csv\")\n",
        "\n",
        "pais=\"Finland\"\n",
        "\n",
        "Score2015=df2015[df2015['Country']==pais][\"Happiness Score\"]\n",
        "Score2016=df2016[df2016['Country']==pais][\"Happiness Score\"]\n",
        "Score2017=df2017[df2017['Country']==pais][\"Happiness.Score\"]\n",
        "Score2018=df2018[df2018['Country or region']==pais][\"Score\"]\n",
        "Score2019=df2019[df2019['Country or region']==pais][\"Score\"]\n",
        "\n",
        "y=np.array([Score2015,Score2016,Score2017,Score2018,Score2019])\n",
        "\n",
        "fig,axes=plt.subplots(figsize=(8,4))\n",
        "\n",
        "years=[2015,2016,2017,2018,2019]\n",
        "x=np.array(years)\n",
        "plt.xticks(x, x)\n",
        "\n",
        "axes.grid(True)\n",
        "axes.set_title(\"Score de felicidad por año - \" + pais)\n",
        "axes.set_ylabel(\"Score\")\n",
        "axes.set_xlabel(\"Año\")\n",
        "axes.plot(x,y,color=\"blue\")"
      ],
      "metadata": {
        "colab": {
          "base_uri": "https://localhost:8080/",
          "height": 312
        },
        "id": "dBVpZVxU6K1W",
        "outputId": "928e8b08-aa40-4efd-ef37-41dc359ff374"
      },
      "execution_count": 13,
      "outputs": [
        {
          "output_type": "execute_result",
          "data": {
            "text/plain": [
              "[<matplotlib.lines.Line2D at 0x7f335c7daed0>]"
            ]
          },
          "metadata": {},
          "execution_count": 13
        },
        {
          "output_type": "display_data",
          "data": {
            "text/plain": [
              "<Figure size 576x288 with 1 Axes>"
            ],
            "image/png": "[encoded data removed]"
          },
          "metadata": {
            "needs_background": "light"
          }
        }
      ]
    },
    {
      "cell_type": "code",
      "source": [
        "import plotly.express as px\n",
        "import seaborn as sns\n",
        "import matplotlib.pyplot as plt\n",
        "\n",
        "fig = px.choropleth(df, locations='Country or region',\n",
        "                    locationmode = \"country names\",\n",
        "                    color=\"Score\",\n",
        "                    hover_name = 'Country or region',\n",
        "                    hover_data={'Country or region':True,\n",
        "                                'Score': True\n",
        "                               }\n",
        "                   )\n",
        "fig.update_layout(width=800, height=400, margin={\"r\":0,\"t\":0,\"l\":0,\"b\":0})\n",
        "fig.show()"
      ],
      "metadata": {
        "id": "p0ZGlJClGNON",
        "outputId": "2b50f1f0-a13a-404a-dfb1-322d6a6fb6c6",
        "colab": {
          "base_uri": "https://localhost:8080/",
          "height": 417
        }
      },
      "execution_count": 14,
      "outputs": [
        {
          "output_type": "display_data",
          "data": {
            "text/html": [
              "<html>\n",
              "<head><meta charset=\"utf-8\" /></head>\n",
              "<body>\n",
              "    <div>            <script src=\"https://cdnjs.cloudflare.com/ajax/libs/mathjax/2.7.5/MathJax.js?config=TeX-AMS-MML_SVG\"></script><script type=\"text/javascript\">if (window.MathJax) {MathJax.Hub.Config({SVG: {font: \"STIX-Web\"}});}</script>                <script type=\"text/javascript\">window.PlotlyConfig = {MathJaxConfig: 'local'};</script>\n",
              "        <script src=\"https://cdn.plot.ly/plotly-2.8.3.min.js\"></script>                <div id=\"92c911ed-89b8-4ca7-9040-a3d4c5dfbbe4\" class=\"plotly-graph-div\" style=\"height:400px; width:800px;\"></div>            <script type=\"text/javascript\">                                    window.PLOTLYENV=window.PLOTLYENV || {};                                    if (document.getElementById(\"92c911ed-89b8-4ca7-9040-a3d4c5dfbbe4\")) {                    Plotly.newPlot(                        \"92c911ed-89b8-4ca7-9040-a3d4c5dfbbe4\",                        [{\"coloraxis\":\"coloraxis\",\"customdata\":[[\"Finland\",7.769],[\"Denmark\",7.6],[\"Norway\",7.554],[\"Iceland\",7.494],[\"Netherlands\",7.488],[\"Switzerland\",7.48],[\"Sweden\",7.343],[\"New Zealand\",7.307],[\"Canada\",7.278],[\"Austria\",7.246],[\"Australia\",7.228],[\"Costa Rica\",7.167],[\"Israel\",7.139],[\"Luxembourg\",7.09],[\"United Kingdom\",7.054],[\"Ireland\",7.021],[\"Germany\",6.985],[\"Belgium\",6.923],[\"United States\",6.892],[\"Czech Republic\",6.852],[\"United Arab Emirates\",6.825],[\"Malta\",6.726],[\"Mexico\",6.595],[\"France\",6.592],[\"Taiwan\",6.446],[\"Chile\",6.444],[\"Guatemala\",6.436],[\"Saudi Arabia\",6.375],[\"Qatar\",6.374],[\"Spain\",6.354],[\"Panama\",6.321],[\"Brazil\",6.3],[\"Uruguay\",6.293],[\"Singapore\",6.262],[\"El Salvador\",6.253],[\"Italy\",6.223],[\"Bahrain\",6.199],[\"Slovakia\",6.198],[\"Trinidad & Tobago\",6.192],[\"Poland\",6.182],[\"Uzbekistan\",6.174],[\"Lithuania\",6.149],[\"Colombia\",6.125],[\"Slovenia\",6.118],[\"Nicaragua\",6.105],[\"Kosovo\",6.1],[\"Argentina\",6.086],[\"Romania\",6.07],[\"Cyprus\",6.046],[\"Ecuador\",6.028],[\"Kuwait\",6.021],[\"Thailand\",6.008],[\"Latvia\",5.94],[\"South Korea\",5.895],[\"Estonia\",5.893],[\"Jamaica\",5.89],[\"Mauritius\",5.888],[\"Japan\",5.886],[\"Honduras\",5.86],[\"Kazakhstan\",5.809],[\"Bolivia\",5.779],[\"Hungary\",5.758],[\"Paraguay\",5.743],[\"Northern Cyprus\",5.718],[\"Peru\",5.697],[\"Portugal\",5.693],[\"Pakistan\",5.653],[\"Russia\",5.648],[\"Philippines\",5.631],[\"Serbia\",5.603],[\"Moldova\",5.529],[\"Libya\",5.525],[\"Montenegro\",5.523],[\"Tajikistan\",5.467],[\"Croatia\",5.432],[\"Hong Kong\",5.43],[\"Dominican Republic\",5.425],[\"Bosnia and Herzegovina\",5.386],[\"Turkey\",5.373],[\"Malaysia\",5.339],[\"Belarus\",5.323],[\"Greece\",5.287],[\"Mongolia\",5.285],[\"North Macedonia\",5.274],[\"Nigeria\",5.265],[\"Kyrgyzstan\",5.261],[\"Turkmenistan\",5.247],[\"Algeria\",5.211],[\"Morocco\",5.208],[\"Azerbaijan\",5.208],[\"Lebanon\",5.197],[\"Indonesia\",5.192],[\"China\",5.191],[\"Vietnam\",5.175],[\"Bhutan\",5.082],[\"Cameroon\",5.044],[\"Bulgaria\",5.011],[\"Ghana\",4.996],[\"Ivory Coast\",4.944],[\"Nepal\",4.913],[\"Jordan\",4.906],[\"Benin\",4.883],[\"Congo (Brazzaville)\",4.812],[\"Gabon\",4.799],[\"Laos\",4.796],[\"South Africa\",4.722],[\"Albania\",4.719],[\"Venezuela\",4.707],[\"Cambodia\",4.7],[\"Palestinian Territories\",4.696],[\"Senegal\",4.681],[\"Somalia\",4.668],[\"Namibia\",4.639],[\"Niger\",4.628],[\"Burkina Faso\",4.587],[\"Armenia\",4.559],[\"Iran\",4.548],[\"Guinea\",4.534],[\"Georgia\",4.519],[\"Gambia\",4.516],[\"Kenya\",4.509],[\"Mauritania\",4.49],[\"Mozambique\",4.466],[\"Tunisia\",4.461],[\"Bangladesh\",4.456],[\"Iraq\",4.437],[\"Congo (Kinshasa)\",4.418],[\"Mali\",4.39],[\"Sierra Leone\",4.374],[\"Sri Lanka\",4.366],[\"Myanmar\",4.36],[\"Chad\",4.35],[\"Ukraine\",4.332],[\"Ethiopia\",4.286],[\"Swaziland\",4.212],[\"Uganda\",4.189],[\"Egypt\",4.166],[\"Zambia\",4.107],[\"Togo\",4.085],[\"India\",4.015],[\"Liberia\",3.975],[\"Comoros\",3.973],[\"Madagascar\",3.933],[\"Lesotho\",3.802],[\"Burundi\",3.775],[\"Zimbabwe\",3.663],[\"Haiti\",3.597],[\"Botswana\",3.488],[\"Syria\",3.462],[\"Malawi\",3.41],[\"Yemen\",3.38],[\"Rwanda\",3.334],[\"Tanzania\",3.231],[\"Afghanistan\",3.203],[\"Central African Republic\",3.083],[\"South Sudan\",2.853]],\"geo\":\"geo\",\"hovertemplate\":\"<b>%{hovertext}</b><br><br>Country or region=%{customdata[0]}<br>Score=%{z}<extra></extra>\",\"hovertext\":[\"Finland\",\"Denmark\",\"Norway\",\"Iceland\",\"Netherlands\",\"Switzerland\",\"Sweden\",\"New Zealand\",\"Canada\",\"Austria\",\"Australia\",\"Costa Rica\",\"Israel\",\"Luxembourg\",\"United Kingdom\",\"Ireland\",\"Germany\",\"Belgium\",\"United States\",\"Czech Republic\",\"United Arab Emirates\",\"Malta\",\"Mexico\",\"France\",\"Taiwan\",\"Chile\",\"Guatemala\",\"Saudi Arabia\",\"Qatar\",\"Spain\",\"Panama\",\"Brazil\",\"Uruguay\",\"Singapore\",\"El Salvador\",\"Italy\",\"Bahrain\",\"Slovakia\",\"Trinidad & Tobago\",\"Poland\",\"Uzbekistan\",\"Lithuania\",\"Colombia\",\"Slovenia\",\"Nicaragua\",\"Kosovo\",\"Argentina\",\"Romania\",\"Cyprus\",\"Ecuador\",\"Kuwait\",\"Thailand\",\"Latvia\",\"South Korea\",\"Estonia\",\"Jamaica\",\"Mauritius\",\"Japan\",\"Honduras\",\"Kazakhstan\",\"Bolivia\",\"Hungary\",\"Paraguay\",\"Northern Cyprus\",\"Peru\",\"Portugal\",\"Pakistan\",\"Russia\",\"Philippines\",\"Serbia\",\"Moldova\",\"Libya\",\"Montenegro\",\"Tajikistan\",\"Croatia\",\"Hong Kong\",\"Dominican Republic\",\"Bosnia and Herzegovina\",\"Turkey\",\"Malaysia\",\"Belarus\",\"Greece\",\"Mongolia\",\"North Macedonia\",\"Nigeria\",\"Kyrgyzstan\",\"Turkmenistan\",\"Algeria\",\"Morocco\",\"Azerbaijan\",\"Lebanon\",\"Indonesia\",\"China\",\"Vietnam\",\"Bhutan\",\"Cameroon\",\"Bulgaria\",\"Ghana\",\"Ivory Coast\",\"Nepal\",\"Jordan\",\"Benin\",\"Congo (Brazzaville)\",\"Gabon\",\"Laos\",\"South Africa\",\"Albania\",\"Venezuela\",\"Cambodia\",\"Palestinian Territories\",\"Senegal\",\"Somalia\",\"Namibia\",\"Niger\",\"Burkina Faso\",\"Armenia\",\"Iran\",\"Guinea\",\"Georgia\",\"Gambia\",\"Kenya\",\"Mauritania\",\"Mozambique\",\"Tunisia\",\"Bangladesh\",\"Iraq\",\"Congo (Kinshasa)\",\"Mali\",\"Sierra Leone\",\"Sri Lanka\",\"Myanmar\",\"Chad\",\"Ukraine\",\"Ethiopia\",\"Swaziland\",\"Uganda\",\"Egypt\",\"Zambia\",\"Togo\",\"India\",\"Liberia\",\"Comoros\",\"Madagascar\",\"Lesotho\",\"Burundi\",\"Zimbabwe\",\"Haiti\",\"Botswana\",\"Syria\",\"Malawi\",\"Yemen\",\"Rwanda\",\"Tanzania\",\"Afghanistan\",\"Central African Republic\",\"South Sudan\"],\"locationmode\":\"country names\",\"locations\":[\"Finland\",\"Denmark\",\"Norway\",\"Iceland\",\"Netherlands\",\"Switzerland\",\"Sweden\",\"New Zealand\",\"Canada\",\"Austria\",\"Australia\",\"Costa Rica\",\"Israel\",\"Luxembourg\",\"United Kingdom\",\"Ireland\",\"Germany\",\"Belgium\",\"United States\",\"Czech Republic\",\"United Arab Emirates\",\"Malta\",\"Mexico\",\"France\",\"Taiwan\",\"Chile\",\"Guatemala\",\"Saudi Arabia\",\"Qatar\",\"Spain\",\"Panama\",\"Brazil\",\"Uruguay\",\"Singapore\",\"El Salvador\",\"Italy\",\"Bahrain\",\"Slovakia\",\"Trinidad & Tobago\",\"Poland\",\"Uzbekistan\",\"Lithuania\",\"Colombia\",\"Slovenia\",\"Nicaragua\",\"Kosovo\",\"Argentina\",\"Romania\",\"Cyprus\",\"Ecuador\",\"Kuwait\",\"Thailand\",\"Latvia\",\"South Korea\",\"Estonia\",\"Jamaica\",\"Mauritius\",\"Japan\",\"Honduras\",\"Kazakhstan\",\"Bolivia\",\"Hungary\",\"Paraguay\",\"Northern Cyprus\",\"Peru\",\"Portugal\",\"Pakistan\",\"Russia\",\"Philippines\",\"Serbia\",\"Moldova\",\"Libya\",\"Montenegro\",\"Tajikistan\",\"Croatia\",\"Hong Kong\",\"Dominican Republic\",\"Bosnia and Herzegovina\",\"Turkey\",\"Malaysia\",\"Belarus\",\"Greece\",\"Mongolia\",\"North Macedonia\",\"Nigeria\",\"Kyrgyzstan\",\"Turkmenistan\",\"Algeria\",\"Morocco\",\"Azerbaijan\",\"Lebanon\",\"Indonesia\",\"China\",\"Vietnam\",\"Bhutan\",\"Cameroon\",\"Bulgaria\",\"Ghana\",\"Ivory Coast\",\"Nepal\",\"Jordan\",\"Benin\",\"Congo (Brazzaville)\",\"Gabon\",\"Laos\",\"South Africa\",\"Albania\",\"Venezuela\",\"Cambodia\",\"Palestinian Territories\",\"Senegal\",\"Somalia\",\"Namibia\",\"Niger\",\"Burkina Faso\",\"Armenia\",\"Iran\",\"Guinea\",\"Georgia\",\"Gambia\",\"Kenya\",\"Mauritania\",\"Mozambique\",\"Tunisia\",\"Bangladesh\",\"Iraq\",\"Congo (Kinshasa)\",\"Mali\",\"Sierra Leone\",\"Sri Lanka\",\"Myanmar\",\"Chad\",\"Ukraine\",\"Ethiopia\",\"Swaziland\",\"Uganda\",\"Egypt\",\"Zambia\",\"Togo\",\"India\",\"Liberia\",\"Comoros\",\"Madagascar\",\"Lesotho\",\"Burundi\",\"Zimbabwe\",\"Haiti\",\"Botswana\",\"Syria\",\"Malawi\",\"Yemen\",\"Rwanda\",\"Tanzania\",\"Afghanistan\",\"Central African Republic\",\"South Sudan\"],\"name\":\"\",\"z\":[7.769,7.6,7.554,7.494,7.488,7.48,7.343,7.307,7.278,7.246,7.228,7.167,7.139,7.09,7.054,7.021,6.985,6.923,6.892,6.852,6.825,6.726,6.595,6.592,6.446,6.444,6.436,6.375,6.374,6.354,6.321,6.3,6.293,6.262,6.253,6.223,6.199,6.198,6.192,6.182,6.174,6.149,6.125,6.118,6.105,6.1,6.086,6.07,6.046,6.028,6.021,6.008,5.94,5.895,5.893,5.89,5.888,5.886,5.86,5.809,5.779,5.758,5.743,5.718,5.697,5.693,5.653,5.648,5.631,5.603,5.529,5.525,5.523,5.467,5.432,5.43,5.425,5.386,5.373,5.339,5.323,5.287,5.285,5.274,5.265,5.261,5.247,5.211,5.208,5.208,5.197,5.192,5.191,5.175,5.082,5.044,5.011,4.996,4.944,4.913,4.906,4.883,4.812,4.799,4.796,4.722,4.719,4.707,4.7,4.696,4.681,4.668,4.639,4.628,4.587,4.559,4.548,4.534,4.519,4.516,4.509,4.49,4.466,4.461,4.456,4.437,4.418,4.39,4.374,4.366,4.36,4.35,4.332,4.286,4.212,4.189,4.166,4.107,4.085,4.015,3.975,3.973,3.933,3.802,3.775,3.663,3.597,3.488,3.462,3.41,3.38,3.334,3.231,3.203,3.083,2.853],\"type\":\"choropleth\"}],                        {\"template\":{\"data\":{\"bar\":[{\"error_x\":{\"color\":\"#2a3f5f\"},\"error_y\":{\"color\":\"#2a3f5f\"},\"marker\":{\"line\":{\"color\":\"#E5ECF6\",\"width\":0.5},\"pattern\":{\"fillmode\":\"overlay\",\"size\":10,\"solidity\":0.2}},\"type\":\"bar\"}],\"barpolar\":[{\"marker\":{\"line\":{\"color\":\"#E5ECF6\",\"width\":0.5},\"pattern\":{\"fillmode\":\"overlay\",\"size\":10,\"solidity\":0.2}},\"type\":\"barpolar\"}],\"carpet\":[{\"aaxis\":{\"endlinecolor\":\"#2a3f5f\",\"gridcolor\":\"white\",\"linecolor\":\"white\",\"minorgridcolor\":\"white\",\"startlinecolor\":\"#2a3f5f\"},\"baxis\":{\"endlinecolor\":\"#2a3f5f\",\"gridcolor\":\"white\",\"linecolor\":\"white\",\"minorgridcolor\":\"white\",\"startlinecolor\":\"#2a3f5f\"},\"type\":\"carpet\"}],\"choropleth\":[{\"colorbar\":{\"outlinewidth\":0,\"ticks\":\"\"},\"type\":\"choropleth\"}],\"contour\":[{\"colorbar\":{\"outlinewidth\":0,\"ticks\":\"\"},\"colorscale\":[[0.0,\"#0d0887\"],[0.1111111111111111,\"#46039f\"],[0.2222222222222222,\"#7201a8\"],[0.3333333333333333,\"#9c179e\"],[0.4444444444444444,\"#bd3786\"],[0.5555555555555556,\"#d8576b\"],[0.6666666666666666,\"#ed7953\"],[0.7777777777777778,\"#fb9f3a\"],[0.8888888888888888,\"#fdca26\"],[1.0,\"#f0f921\"]],\"type\":\"contour\"}],\"contourcarpet\":[{\"colorbar\":{\"outlinewidth\":0,\"ticks\":\"\"},\"type\":\"contourcarpet\"}],\"heatmap\":[{\"colorbar\":{\"outlinewidth\":0,\"ticks\":\"\"},\"colorscale\":[[0.0,\"#0d0887\"],[0.1111111111111111,\"#46039f\"],[0.2222222222222222,\"#7201a8\"],[0.3333333333333333,\"#9c179e\"],[0.4444444444444444,\"#bd3786\"],[0.5555555555555556,\"#d8576b\"],[0.6666666666666666,\"#ed7953\"],[0.7777777777777778,\"#fb9f3a\"],[0.8888888888888888,\"#fdca26\"],[1.0,\"#f0f921\"]],\"type\":\"heatmap\"}],\"heatmapgl\":[{\"colorbar\":{\"outlinewidth\":0,\"ticks\":\"\"},\"colorscale\":[[0.0,\"#0d0887\"],[0.1111111111111111,\"#46039f\"],[0.2222222222222222,\"#7201a8\"],[0.3333333333333333,\"#9c179e\"],[0.4444444444444444,\"#bd3786\"],[0.5555555555555556,\"#d8576b\"],[0.6666666666666666,\"#ed7953\"],[0.7777777777777778,\"#fb9f3a\"],[0.8888888888888888,\"#fdca26\"],[1.0,\"#f0f921\"]],\"type\":\"heatmapgl\"}],\"histogram\":[{\"marker\":{\"pattern\":{\"fillmode\":\"overlay\",\"size\":10,\"solidity\":0.2}},\"type\":\"histogram\"}],\"histogram2d\":[{\"colorbar\":{\"outlinewidth\":0,\"ticks\":\"\"},\"colorscale\":[[0.0,\"#0d0887\"],[0.1111111111111111,\"#46039f\"],[0.2222222222222222,\"#7201a8\"],[0.3333333333333333,\"#9c179e\"],[0.4444444444444444,\"#bd3786\"],[0.5555555555555556,\"#d8576b\"],[0.6666666666666666,\"#ed7953\"],[0.7777777777777778,\"#fb9f3a\"],[0.8888888888888888,\"#fdca26\"],[1.0,\"#f0f921\"]],\"type\":\"histogram2d\"}],\"histogram2dcontour\":[{\"colorbar\":{\"outlinewidth\":0,\"ticks\":\"\"},\"colorscale\":[[0.0,\"#0d0887\"],[0.1111111111111111,\"#46039f\"],[0.2222222222222222,\"#7201a8\"],[0.3333333333333333,\"#9c179e\"],[0.4444444444444444,\"#bd3786\"],[0.5555555555555556,\"#d8576b\"],[0.6666666666666666,\"#ed7953\"],[0.7777777777777778,\"#fb9f3a\"],[0.8888888888888888,\"#fdca26\"],[1.0,\"#f0f921\"]],\"type\":\"histogram2dcontour\"}],\"mesh3d\":[{\"colorbar\":{\"outlinewidth\":0,\"ticks\":\"\"},\"type\":\"mesh3d\"}],\"parcoords\":[{\"line\":{\"colorbar\":{\"outlinewidth\":0,\"ticks\":\"\"}},\"type\":\"parcoords\"}],\"pie\":[{\"automargin\":true,\"type\":\"pie\"}],\"scatter\":[{\"marker\":{\"colorbar\":{\"outlinewidth\":0,\"ticks\":\"\"}},\"type\":\"scatter\"}],\"scatter3d\":[{\"line\":{\"colorbar\":{\"outlinewidth\":0,\"ticks\":\"\"}},\"marker\":{\"colorbar\":{\"outlinewidth\":0,\"ticks\":\"\"}},\"type\":\"scatter3d\"}],\"scattercarpet\":[{\"marker\":{\"colorbar\":{\"outlinewidth\":0,\"ticks\":\"\"}},\"type\":\"scattercarpet\"}],\"scattergeo\":[{\"marker\":{\"colorbar\":{\"outlinewidth\":0,\"ticks\":\"\"}},\"type\":\"scattergeo\"}],\"scattergl\":[{\"marker\":{\"colorbar\":{\"outlinewidth\":0,\"ticks\":\"\"}},\"type\":\"scattergl\"}],\"scattermapbox\":[{\"marker\":{\"colorbar\":{\"outlinewidth\":0,\"ticks\":\"\"}},\"type\":\"scattermapbox\"}],\"scatterpolar\":[{\"marker\":{\"colorbar\":{\"outlinewidth\":0,\"ticks\":\"\"}},\"type\":\"scatterpolar\"}],\"scatterpolargl\":[{\"marker\":{\"colorbar\":{\"outlinewidth\":0,\"ticks\":\"\"}},\"type\":\"scatterpolargl\"}],\"scatterternary\":[{\"marker\":{\"colorbar\":{\"outlinewidth\":0,\"ticks\":\"\"}},\"type\":\"scatterternary\"}],\"surface\":[{\"colorbar\":{\"outlinewidth\":0,\"ticks\":\"\"},\"colorscale\":[[0.0,\"#0d0887\"],[0.1111111111111111,\"#46039f\"],[0.2222222222222222,\"#7201a8\"],[0.3333333333333333,\"#9c179e\"],[0.4444444444444444,\"#bd3786\"],[0.5555555555555556,\"#d8576b\"],[0.6666666666666666,\"#ed7953\"],[0.7777777777777778,\"#fb9f3a\"],[0.8888888888888888,\"#fdca26\"],[1.0,\"#f0f921\"]],\"type\":\"surface\"}],\"table\":[{\"cells\":{\"fill\":{\"color\":\"#EBF0F8\"},\"line\":{\"color\":\"white\"}},\"header\":{\"fill\":{\"color\":\"#C8D4E3\"},\"line\":{\"color\":\"white\"}},\"type\":\"table\"}]},\"layout\":{\"annotationdefaults\":{\"arrowcolor\":\"#2a3f5f\",\"arrowhead\":0,\"arrowwidth\":1},\"autotypenumbers\":\"strict\",\"coloraxis\":{\"colorbar\":{\"outlinewidth\":0,\"ticks\":\"\"}},\"colorscale\":{\"diverging\":[[0,\"#8e0152\"],[0.1,\"#c51b7d\"],[0.2,\"#de77ae\"],[0.3,\"#f1b6da\"],[0.4,\"#fde0ef\"],[0.5,\"#f7f7f7\"],[0.6,\"#e6f5d0\"],[0.7,\"#b8e186\"],[0.8,\"#7fbc41\"],[0.9,\"#4d9221\"],[1,\"#276419\"]],\"sequential\":[[0.0,\"#0d0887\"],[0.1111111111111111,\"#46039f\"],[0.2222222222222222,\"#7201a8\"],[0.3333333333333333,\"#9c179e\"],[0.4444444444444444,\"#bd3786\"],[0.5555555555555556,\"#d8576b\"],[0.6666666666666666,\"#ed7953\"],[0.7777777777777778,\"#fb9f3a\"],[0.8888888888888888,\"#fdca26\"],[1.0,\"#f0f921\"]],\"sequentialminus\":[[0.0,\"#0d0887\"],[0.1111111111111111,\"#46039f\"],[0.2222222222222222,\"#7201a8\"],[0.3333333333333333,\"#9c179e\"],[0.4444444444444444,\"#bd3786\"],[0.5555555555555556,\"#d8576b\"],[0.6666666666666666,\"#ed7953\"],[0.7777777777777778,\"#fb9f3a\"],[0.8888888888888888,\"#fdca26\"],[1.0,\"#f0f921\"]]},\"colorway\":[\"#636efa\",\"#EF553B\",\"#00cc96\",\"#ab63fa\",\"#FFA15A\",\"#19d3f3\",\"#FF6692\",\"#B6E880\",\"#FF97FF\",\"#FECB52\"],\"font\":{\"color\":\"#2a3f5f\"},\"geo\":{\"bgcolor\":\"white\",\"lakecolor\":\"white\",\"landcolor\":\"#E5ECF6\",\"showlakes\":true,\"showland\":true,\"subunitcolor\":\"white\"},\"hoverlabel\":{\"align\":\"left\"},\"hovermode\":\"closest\",\"mapbox\":{\"style\":\"light\"},\"paper_bgcolor\":\"white\",\"plot_bgcolor\":\"#E5ECF6\",\"polar\":{\"angularaxis\":{\"gridcolor\":\"white\",\"linecolor\":\"white\",\"ticks\":\"\"},\"bgcolor\":\"#E5ECF6\",\"radialaxis\":{\"gridcolor\":\"white\",\"linecolor\":\"white\",\"ticks\":\"\"}},\"scene\":{\"xaxis\":{\"backgroundcolor\":\"#E5ECF6\",\"gridcolor\":\"white\",\"gridwidth\":2,\"linecolor\":\"white\",\"showbackground\":true,\"ticks\":\"\",\"zerolinecolor\":\"white\"},\"yaxis\":{\"backgroundcolor\":\"#E5ECF6\",\"gridcolor\":\"white\",\"gridwidth\":2,\"linecolor\":\"white\",\"showbackground\":true,\"ticks\":\"\",\"zerolinecolor\":\"white\"},\"zaxis\":{\"backgroundcolor\":\"#E5ECF6\",\"gridcolor\":\"white\",\"gridwidth\":2,\"linecolor\":\"white\",\"showbackground\":true,\"ticks\":\"\",\"zerolinecolor\":\"white\"}},\"shapedefaults\":{\"line\":{\"color\":\"#2a3f5f\"}},\"ternary\":{\"aaxis\":{\"gridcolor\":\"white\",\"linecolor\":\"white\",\"ticks\":\"\"},\"baxis\":{\"gridcolor\":\"white\",\"linecolor\":\"white\",\"ticks\":\"\"},\"bgcolor\":\"#E5ECF6\",\"caxis\":{\"gridcolor\":\"white\",\"linecolor\":\"white\",\"ticks\":\"\"}},\"title\":{\"x\":0.05},\"xaxis\":{\"automargin\":true,\"gridcolor\":\"white\",\"linecolor\":\"white\",\"ticks\":\"\",\"title\":{\"standoff\":15},\"zerolinecolor\":\"white\",\"zerolinewidth\":2},\"yaxis\":{\"automargin\":true,\"gridcolor\":\"white\",\"linecolor\":\"white\",\"ticks\":\"\",\"title\":{\"standoff\":15},\"zerolinecolor\":\"white\",\"zerolinewidth\":2}}},\"geo\":{\"domain\":{\"x\":[0.0,1.0],\"y\":[0.0,1.0]},\"center\":{}},\"coloraxis\":{\"colorbar\":{\"title\":{\"text\":\"Score\"}},\"colorscale\":[[0.0,\"#0d0887\"],[0.1111111111111111,\"#46039f\"],[0.2222222222222222,\"#7201a8\"],[0.3333333333333333,\"#9c179e\"],[0.4444444444444444,\"#bd3786\"],[0.5555555555555556,\"#d8576b\"],[0.6666666666666666,\"#ed7953\"],[0.7777777777777778,\"#fb9f3a\"],[0.8888888888888888,\"#fdca26\"],[1.0,\"#f0f921\"]]},\"legend\":{\"tracegroupgap\":0},\"margin\":{\"t\":0,\"r\":0,\"l\":0,\"b\":0},\"width\":800,\"height\":400},                        {\"responsive\": true}                    ).then(function(){\n",
              "                            \n",
              "var gd = document.getElementById('92c911ed-89b8-4ca7-9040-a3d4c5dfbbe4');\n",
              "var x = new MutationObserver(function (mutations, observer) {{\n",
              "        var display = window.getComputedStyle(gd).display;\n",
              "        if (!display || display === 'none') {{\n",
              "            console.log([gd, 'removed!']);\n",
              "            Plotly.purge(gd);\n",
              "            observer.disconnect();\n",
              "        }}\n",
              "}});\n",
              "\n",
              "// Listen for the removal of the full notebook cells\n",
              "var notebookContainer = gd.closest('#notebook-container');\n",
              "if (notebookContainer) {{\n",
              "    x.observe(notebookContainer, {childList: true});\n",
              "}}\n",
              "\n",
              "// Listen for the clearing of the current output cell\n",
              "var outputEl = gd.closest('.output');\n",
              "if (outputEl) {{\n",
              "    x.observe(outputEl, {childList: true});\n",
              "}}\n",
              "\n",
              "                        })                };                            </script>        </div>\n",
              "</body>\n",
              "</html>"
            ]
          },
          "metadata": {}
        }
      ]
    }
  ]
}