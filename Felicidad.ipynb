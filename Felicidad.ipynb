{
  "cells": [
    {
      "cell_type": "markdown",
      "metadata": {
        "id": "view-in-github",
        "colab_type": "text"
      },
      "source": [
        "<a href=\"https://colab.research.google.com/github/LCaravaggio/ClaseFelicidad_Maestria/blob/main/Felicidad.ipynb\" target=\"_parent\"><img src=\"https://colab.research.google.com/assets/colab-badge.svg\" alt=\"Open In Colab\"/></a>"
      ]
    },
    {
      "cell_type": "markdown",
      "source": [
        "# Cargar base"
      ],
      "metadata": {
        "id": "HE9zRwbgtRX0"
      }
    },
    {
      "cell_type": "code",
      "execution_count": 1,
      "metadata": {
        "colab": {
          "base_uri": "https://localhost:8080/"
        },
        "id": "SmqUT2lft8wP",
        "outputId": "38ae107b-2b2b-4eb2-d5c1-b8fb5ec3685b"
      },
      "outputs": [
        {
          "output_type": "stream",
          "name": "stdout",
          "text": [
            "Mounted at /content/drive\n"
          ]
        }
      ],
      "source": [
        "from google.colab import drive\n",
        "drive.mount('/content/drive')"
      ]
    },
    {
      "cell_type": "markdown",
      "source": [
        "# EDA"
      ],
      "metadata": {
        "id": "36uEqfoZtVWv"
      }
    },
    {
      "cell_type": "code",
      "execution_count": 3,
      "metadata": {
        "id": "Te8bwLj1d7a4"
      },
      "outputs": [],
      "source": [
        "import pandas as pd\n",
        "import numpy as np"
      ]
    },
    {
      "cell_type": "code",
      "source": [
        "df = pd.read_stata('/content/drive/MyDrive/Latinobarometro_2020_Esp_Stata_v1_0.dta')  "
      ],
      "metadata": {
        "id": "r_0X62AW2-tn"
      },
      "execution_count": 4,
      "outputs": []
    },
    {
      "cell_type": "code",
      "source": [
        "df.head(2)"
      ],
      "metadata": {
        "id": "aWKD5KauJo-n",
        "outputId": "600348f3-2552-4860-f962-0fc4622fa51a",
        "colab": {
          "base_uri": "https://localhost:8080/",
          "height": 362
        }
      },
      "execution_count": 6,
      "outputs": [
        {
          "output_type": "execute_result",
          "data": {
            "text/plain": [
              "  numinves      idenpa numentre                  reg  \\\n",
              "0     2020   Argentina  3200001    AR: Metropolitana   \n",
              "1     2020   Argentina  3200002  AR: Capital Federal   \n",
              "\n",
              "                                       ciudad        tamciud comdist edad  \\\n",
              "0           AR: Buenos Aires-Presidente Peron  No preguntada       2   63   \n",
              "1  AR: Capital Federal-Ciudad de Buenos Aires  No preguntada       1   24   \n",
              "\n",
              "     sexo         codigo  ...                       s28_a         s28_b  \\\n",
              "0   Mujer  No preguntada  ...  Asalariado en emp. privada  No aplicable   \n",
              "1  Hombre  No preguntada  ...                No aplicable  No aplicable   \n",
              "\n",
              "            s29            s30             reeduc_1          reeduc_2  \\\n",
              "0   Profesional  No preguntada   BÃ¡sica incompleta        Analfabeto   \n",
              "1  No aplicable  No preguntada  Superior Incompleta  BÃ¡sica completa   \n",
              "\n",
              "      reedad              perpart                      fampart    wt  \n",
              "0  61 y mÃ¡s  No menciona partido                     Perdidos  2.20  \n",
              "1      16-25             Gobierno  Partidos Social DemÃ³cratas  0.62  \n",
              "\n",
              "[2 rows x 408 columns]"
            ],
            "text/html": [
              "\n",
              "  <div id=\"df-1193f4d4-870f-4c36-8fe4-599466288bd6\">\n",
              "    <div class=\"colab-df-container\">\n",
              "      <div>\n",
              "<style scoped>\n",
              "    .dataframe tbody tr th:only-of-type {\n",
              "        vertical-align: middle;\n",
              "    }\n",
              "\n",
              "    .dataframe tbody tr th {\n",
              "        vertical-align: top;\n",
              "    }\n",
              "\n",
              "    .dataframe thead th {\n",
              "        text-align: right;\n",
              "    }\n",
              "</style>\n",
              "<table border=\"1\" class=\"dataframe\">\n",
              "  <thead>\n",
              "    <tr style=\"text-align: right;\">\n",
              "      <th></th>\n",
              "      <th>numinves</th>\n",
              "      <th>idenpa</th>\n",
              "      <th>numentre</th>\n",
              "      <th>reg</th>\n",
              "      <th>ciudad</th>\n",
              "      <th>tamciud</th>\n",
              "      <th>comdist</th>\n",
              "      <th>edad</th>\n",
              "      <th>sexo</th>\n",
              "      <th>codigo</th>\n",
              "      <th>...</th>\n",
              "      <th>s28_a</th>\n",
              "      <th>s28_b</th>\n",
              "      <th>s29</th>\n",
              "      <th>s30</th>\n",
              "      <th>reeduc_1</th>\n",
              "      <th>reeduc_2</th>\n",
              "      <th>reedad</th>\n",
              "      <th>perpart</th>\n",
              "      <th>fampart</th>\n",
              "      <th>wt</th>\n",
              "    </tr>\n",
              "  </thead>\n",
              "  <tbody>\n",
              "    <tr>\n",
              "      <th>0</th>\n",
              "      <td>2020</td>\n",
              "      <td>Argentina</td>\n",
              "      <td>3200001</td>\n",
              "      <td>AR: Metropolitana</td>\n",
              "      <td>AR: Buenos Aires-Presidente Peron</td>\n",
              "      <td>No preguntada</td>\n",
              "      <td>2</td>\n",
              "      <td>63</td>\n",
              "      <td>Mujer</td>\n",
              "      <td>No preguntada</td>\n",
              "      <td>...</td>\n",
              "      <td>Asalariado en emp. privada</td>\n",
              "      <td>No aplicable</td>\n",
              "      <td>Profesional</td>\n",
              "      <td>No preguntada</td>\n",
              "      <td>BÃ¡sica incompleta</td>\n",
              "      <td>Analfabeto</td>\n",
              "      <td>61 y mÃ¡s</td>\n",
              "      <td>No menciona partido</td>\n",
              "      <td>Perdidos</td>\n",
              "      <td>2.20</td>\n",
              "    </tr>\n",
              "    <tr>\n",
              "      <th>1</th>\n",
              "      <td>2020</td>\n",
              "      <td>Argentina</td>\n",
              "      <td>3200002</td>\n",
              "      <td>AR: Capital Federal</td>\n",
              "      <td>AR: Capital Federal-Ciudad de Buenos Aires</td>\n",
              "      <td>No preguntada</td>\n",
              "      <td>1</td>\n",
              "      <td>24</td>\n",
              "      <td>Hombre</td>\n",
              "      <td>No preguntada</td>\n",
              "      <td>...</td>\n",
              "      <td>No aplicable</td>\n",
              "      <td>No aplicable</td>\n",
              "      <td>No aplicable</td>\n",
              "      <td>No preguntada</td>\n",
              "      <td>Superior Incompleta</td>\n",
              "      <td>BÃ¡sica completa</td>\n",
              "      <td>16-25</td>\n",
              "      <td>Gobierno</td>\n",
              "      <td>Partidos Social DemÃ³cratas</td>\n",
              "      <td>0.62</td>\n",
              "    </tr>\n",
              "  </tbody>\n",
              "</table>\n",
              "<p>2 rows × 408 columns</p>\n",
              "</div>\n",
              "      <button class=\"colab-df-convert\" onclick=\"convertToInteractive('df-1193f4d4-870f-4c36-8fe4-599466288bd6')\"\n",
              "              title=\"Convert this dataframe to an interactive table.\"\n",
              "              style=\"display:none;\">\n",
              "        \n",
              "  <svg xmlns=\"http://www.w3.org/2000/svg\" height=\"24px\"viewBox=\"0 0 24 24\"\n",
              "       width=\"24px\">\n",
              "    <path d=\"M0 0h24v24H0V0z\" fill=\"none\"/>\n",
              "    <path d=\"M18.56 5.44l.94 2.06.94-2.06 2.06-.94-2.06-.94-.94-2.06-.94 2.06-2.06.94zm-11 1L8.5 8.5l.94-2.06 2.06-.94-2.06-.94L8.5 2.5l-.94 2.06-2.06.94zm10 10l.94 2.06.94-2.06 2.06-.94-2.06-.94-.94-2.06-.94 2.06-2.06.94z\"/><path d=\"M17.41 7.96l-1.37-1.37c-.4-.4-.92-.59-1.43-.59-.52 0-1.04.2-1.43.59L10.3 9.45l-7.72 7.72c-.78.78-.78 2.05 0 2.83L4 21.41c.39.39.9.59 1.41.59.51 0 1.02-.2 1.41-.59l7.78-7.78 2.81-2.81c.8-.78.8-2.07 0-2.86zM5.41 20L4 18.59l7.72-7.72 1.47 1.35L5.41 20z\"/>\n",
              "  </svg>\n",
              "      </button>\n",
              "      \n",
              "  <style>\n",
              "    .colab-df-container {\n",
              "      display:flex;\n",
              "      flex-wrap:wrap;\n",
              "      gap: 12px;\n",
              "    }\n",
              "\n",
              "    .colab-df-convert {\n",
              "      background-color: #E8F0FE;\n",
              "      border: none;\n",
              "      border-radius: 50%;\n",
              "      cursor: pointer;\n",
              "      display: none;\n",
              "      fill: #1967D2;\n",
              "      height: 32px;\n",
              "      padding: 0 0 0 0;\n",
              "      width: 32px;\n",
              "    }\n",
              "\n",
              "    .colab-df-convert:hover {\n",
              "      background-color: #E2EBFA;\n",
              "      box-shadow: 0px 1px 2px rgba(60, 64, 67, 0.3), 0px 1px 3px 1px rgba(60, 64, 67, 0.15);\n",
              "      fill: #174EA6;\n",
              "    }\n",
              "\n",
              "    [theme=dark] .colab-df-convert {\n",
              "      background-color: #3B4455;\n",
              "      fill: #D2E3FC;\n",
              "    }\n",
              "\n",
              "    [theme=dark] .colab-df-convert:hover {\n",
              "      background-color: #434B5C;\n",
              "      box-shadow: 0px 1px 3px 1px rgba(0, 0, 0, 0.15);\n",
              "      filter: drop-shadow(0px 1px 2px rgba(0, 0, 0, 0.3));\n",
              "      fill: #FFFFFF;\n",
              "    }\n",
              "  </style>\n",
              "\n",
              "      <script>\n",
              "        const buttonEl =\n",
              "          document.querySelector('#df-1193f4d4-870f-4c36-8fe4-599466288bd6 button.colab-df-convert');\n",
              "        buttonEl.style.display =\n",
              "          google.colab.kernel.accessAllowed ? 'block' : 'none';\n",
              "\n",
              "        async function convertToInteractive(key) {\n",
              "          const element = document.querySelector('#df-1193f4d4-870f-4c36-8fe4-599466288bd6');\n",
              "          const dataTable =\n",
              "            await google.colab.kernel.invokeFunction('convertToInteractive',\n",
              "                                                     [key], {});\n",
              "          if (!dataTable) return;\n",
              "\n",
              "          const docLinkHtml = 'Like what you see? Visit the ' +\n",
              "            '<a target=\"_blank\" href=https://colab.research.google.com/notebooks/data_table.ipynb>data table notebook</a>'\n",
              "            + ' to learn more about interactive tables.';\n",
              "          element.innerHTML = '';\n",
              "          dataTable['output_type'] = 'display_data';\n",
              "          await google.colab.output.renderOutput(dataTable, element);\n",
              "          const docLink = document.createElement('div');\n",
              "          docLink.innerHTML = docLinkHtml;\n",
              "          element.appendChild(docLink);\n",
              "        }\n",
              "      </script>\n",
              "    </div>\n",
              "  </div>\n",
              "  "
            ]
          },
          "metadata": {},
          "execution_count": 6
        }
      ]
    },
    {
      "cell_type": "code",
      "source": [
        "df.shape"
      ],
      "metadata": {
        "id": "fMlQUHBJZ-MX",
        "outputId": "02737c86-2275-4318-c577-bb13bda2479c",
        "colab": {
          "base_uri": "https://localhost:8080/"
        }
      },
      "execution_count": 10,
      "outputs": [
        {
          "output_type": "execute_result",
          "data": {
            "text/plain": [
              "(20204, 408)"
            ]
          },
          "metadata": {},
          "execution_count": 10
        }
      ]
    },
    {
      "cell_type": "code",
      "source": [
        "itr = pd.read_stata('/content/drive/MyDrive/Latinobarometro_2020_Esp_Stata_v1_0.dta', iterator=True)"
      ],
      "metadata": {
        "id": "DmzVMzxFK_hL"
      },
      "execution_count": 11,
      "outputs": []
    },
    {
      "cell_type": "code",
      "source": [
        "itr.variable_labels()"
      ],
      "metadata": {
        "id": "TrASGYnfRGst",
        "outputId": "d6a3a878-69d8-4058-c630-5c1b259aa5d0",
        "colab": {
          "base_uri": "https://localhost:8080/"
        }
      },
      "execution_count": 12,
      "outputs": [
        {
          "output_type": "execute_result",
          "data": {
            "text/plain": [
              "{'numinves': 'NUMINVES NÃºmero de InvestigaciÃ³n',\n",
              " 'idenpa': 'IDENPA IdentificaciÃ³n del PaÃ\\xads',\n",
              " 'numentre': 'NUMENTRE NÃºmero de Entrevista',\n",
              " 'reg': 'REG RegiÃ³n/ Provincia',\n",
              " 'ciudad': 'CIUDAD Ciudad',\n",
              " 'tamciud': 'TAMCIUD TamaÃ±o de hÃ¡bitat',\n",
              " 'comdist': 'COMDIST DenominaciÃ³n muestral: Sector/Municipio/Comuna/Barrio/Distrito',\n",
              " 'edad': 'EDAD Edad',\n",
              " 'sexo': 'SEXO Sexo',\n",
              " 'codigo': 'CODIGO CÃ³digo de encuestador',\n",
              " 'diareal': 'DIAREAL DÃ\\xada de realizaciÃ³n',\n",
              " 'mesreal': 'MESREAL Mes de realizaciÃ³n',\n",
              " 'ini': 'INI Hora de inicio entrevista (HHMM)',\n",
              " 'fin': 'FIN Hora de tÃ©rmino (HHMM)',\n",
              " 'dura': 'DURA DuraciÃ³n de la entrevista (minutos)',\n",
              " 'totrevi': 'TOTREVI Control de Revisitas',\n",
              " 'totcuot': 'TOTCUOT Control de Cuotas',\n",
              " 'totrech': 'TOTRECH NÃºmero total de rechazos',\n",
              " 'totperd': 'TOTPERD NÃºmero total de pÃ©rdidas',\n",
              " 'numcasa': 'NUMCASA NÃºmero de hogares distintos contactados para conseguir esta entrevista',\n",
              " 'codsuper': 'CODSUPER CÃ³digo Supervisor',\n",
              " 'supervvi': 'SUPERVVI SupervisiÃ³n vivienda',\n",
              " 'superven': 'SUPERVEN SupervisiÃ³n entrevista',\n",
              " 'codif': 'CODIF CÃ³digo Codificador',\n",
              " 'digit': 'DIGIT CÃ³digo Digitador',\n",
              " 'p1st': 'P1ST Grado de satisfacciÃ³n con la vida',\n",
              " 'p2st': 'P2ST Imagen del progreso del paÃ\\xads',\n",
              " 'p3stgbs': 'P3STGBS Problema mÃ¡s importante en el paÃ\\xads',\n",
              " 'p4stgbs': 'P4STGBS SituaciÃ³n econÃ³mica actual del paÃ\\xads',\n",
              " 'p5stgbs': 'P5STGBS SituaciÃ³n econÃ³mica del paÃ\\xads respecto al pasado aÃ±o',\n",
              " 'p6st': 'P6ST SituaciÃ³n econÃ³mica futura del paÃ\\xads',\n",
              " 'p7stgbs': 'P7STGBS SituaciÃ³n econÃ³mica futura del entrevistado y su familia',\n",
              " 'p8st_a': 'P8ST.A AutoubicaciÃ³n en escala de pobreza-riqueza: Personal',\n",
              " 'p8st_b': 'P8ST.B AutoubicaciÃ³n en escala de pobreza-riqueza: Padres',\n",
              " 'p8st_c': 'P8ST.C AutoubicaciÃ³n en escala de pobreza-riqueza: Hijos',\n",
              " 'p9stgbs': 'P9STGBS Confianza Interpersonal',\n",
              " 'p10stgbs': 'P10STGBS Apoyo a la democracia',\n",
              " 'P11STGBS_A': 'P11STGBS.A SatisfacciÃ³n con la democracia',\n",
              " 'P11STGBS_B': 'P11STGBS.B SatisfacciÃ³n con el funcionamiento de la economÃ\\xada en (paÃ\\xads)',\n",
              " 'p12st': 'P12ST PaÃ\\xads gobernado por unos cuantos grupos poderosos en su propio beneficio o',\n",
              " 'P13STGBS_A': 'P13STGBS.A Confianza en las Fuerzas Armadas',\n",
              " 'P13STGBS_B': 'P13STGBS.B Confianza en la PolicÃ\\xada / Carabineros',\n",
              " 'p13st_c': 'P13ST.C Confianza en la Iglesia',\n",
              " 'p13st_d': 'P13ST.D Confianza en el Congreso',\n",
              " 'p13st_e': 'P13ST.E Confianza en el Gobierno',\n",
              " 'p13st_f': 'P13ST.F Confianza en el Poder Judicial',\n",
              " 'p13st_g': 'P13ST.G Confianza en los Partidos PolÃ\\xadticos',\n",
              " 'p13st_h': 'P13ST.H Confianza en: La instituciÃ³n Electoral del paÃ\\xads',\n",
              " 'p13st_i': 'P13ST.I Confianza en: El presidente',\n",
              " 'p14gbs': 'P14GBS Â¿CÃ³mo dirÃ\\xada Ud. que es la democracia en su paÃ\\xads?',\n",
              " 'p15st_a': 'P15ST.A Confianza en que las instituciones operan para mejorar nuestra calidad d',\n",
              " 'p15st_b': 'P15ST.B Confianza en que las instituciones operan para mejorar nuestra calidad d',\n",
              " 'p15st_c': 'P15ST.C Confianza en que las instituciones operan para mejorar nuestra calidad d',\n",
              " 'p15st_d': 'P15ST.D Confianza en que las instituciones operan para mejorar nuestra calidad d',\n",
              " 'p15st_e': 'P15ST.E Confianza en que las instituciones operan para mejorar nuestra calidad d',\n",
              " 'p15st_f': 'P15ST.F Confianza en que las instituciones operan para mejorar nuestra calidad d',\n",
              " 'p15st_g': 'P15ST.G Confianza en que las instituciones operan para mejorar nuestra calidad d',\n",
              " 'p15n_h': 'P15N.H Confianza en que las instituciones operan para mejorar nuestra calidad de',\n",
              " 'p15n_i': 'P15N.I Confianza en que las instituciones operan para mejorar nuestra calidad de',\n",
              " 'p15n_j': 'P15N.J Confianza en que las instituciones operan para mejorar nuestra calidad de',\n",
              " 'p15n_k': 'P15N.K Confianza en que las instituciones operan para mejorar nuestra calidad de',\n",
              " 'P16N_A_01': 'P16N.A_01 Reciben menos de lo que deberÃ\\xadan recibir por el esfuerzo que hace: Lo',\n",
              " 'P16N_A_02': 'P16N.A_02 Reciben menos de lo que deberÃ\\xadan recibir por el esfuerzo que hace: Lo',\n",
              " 'P16N_A_03': 'P16N.A_03 Reciben menos de lo que deberÃ\\xadan recibir por el esfuerzo que hace: Lo',\n",
              " 'P16N_A_04': 'P16N.A_04 Reciben menos de lo que deberÃ\\xadan recibir por el esfuerzo que hace: Lo',\n",
              " 'P16N_A_05': 'P16N.A_05 Reciben menos de lo que deberÃ\\xadan recibir por el esfuerzo que hace: La',\n",
              " 'P16N_A_06': 'P16N.A_06 Reciben menos de lo que deberÃ\\xadan recibir por el esfuerzo que hace: Lo',\n",
              " 'P16N_A_07': 'P16N.A_07 Reciben menos de lo que deberÃ\\xadan recibir por el esfuerzo que hace: La',\n",
              " 'P16N_A_08': 'P16N.A_08 Reciben menos de lo que deberÃ\\xadan recibir por el esfuerzo que hace: Lo',\n",
              " 'P16N_A_09': 'P16N.A_09 Reciben menos de lo que deberÃ\\xadan recibir por el esfuerzo que hace: Lo',\n",
              " 'P16N_A_10': 'P16N.A_10 Reciben menos de lo que deberÃ\\xadan recibir por el esfuerzo que hace: Lo',\n",
              " 'P16N_A_11': 'P16N.A_11 Reciben menos de lo que deberÃ\\xadan recibir por el esfuerzo que hace: Lo',\n",
              " 'P16N_A_12': 'P16N.A_12 Reciben menos de lo que deberÃ\\xadan recibir por el esfuerzo que hace: Lo',\n",
              " 'P16N_A_13': 'P16N.A_13 Reciben menos de lo que deberÃ\\xadan recibir por el esfuerzo que hace: El',\n",
              " 'P16N_A_14': 'P16N.A_14 Reciben menos de lo que deberÃ\\xadan recibir por el esfuerzo que hace: Lo',\n",
              " 'P16N_A_15': 'P16N.A_15 Reciben menos de lo que deberÃ\\xadan recibir por el esfuerzo que hace: Na',\n",
              " 'P16N_A_16': 'P16N.A_16 Reciben menos de lo que deberÃ\\xadan recibir por el esfuerzo que hace: No',\n",
              " 'P16N_B_01': 'P16N.B_01 Reciben mÃ¡s de lo que deberÃ\\xadan recibir: Los pobres',\n",
              " 'P16N_B_02': 'P16N.B_02 Reciben mÃ¡s de lo que deberÃ\\xadan recibir: Los ricos',\n",
              " 'P16N_B_03': 'P16N.B_03 Reciben mÃ¡s de lo que deberÃ\\xadan recibir: Los trabajadores, empleados',\n",
              " 'P16N_B_04': 'P16N.B_04 Reciben mÃ¡s de lo que deberÃ\\xadan recibir: Los empresarios',\n",
              " 'P16N_B_05': 'P16N.B_05 Reciben mÃ¡s de lo que deberÃ\\xadan recibir: Las mujeres',\n",
              " 'P16N_B_06': 'P16N.B_06 Reciben mÃ¡s de lo que deberÃ\\xadan recibir: Los hombres',\n",
              " 'P16N_B_07': 'P16N.B_07 Reciben mÃ¡s de lo que deberÃ\\xadan recibir: La tercera edad',\n",
              " 'P16N_B_08': 'P16N.B_08 Reciben mÃ¡s de lo que deberÃ\\xadan recibir: Los pueblos originarios',\n",
              " 'P16N_B_09': 'P16N.B_09 Reciben mÃ¡s de lo que deberÃ\\xadan recibir: Los Inmigrantes',\n",
              " 'P16N_B_10': 'P16N.B_10 Reciben mÃ¡s de lo que deberÃ\\xadan recibir: Los jÃ³venes',\n",
              " 'P16N_B_11': 'P16N.B_11 Reciben mÃ¡s de lo que deberÃ\\xadan recibir: Los parlamentarios',\n",
              " 'P16N_B_12': 'P16N.B_12 Reciben mÃ¡s de lo que deberÃ\\xadan recibir: Los jueces',\n",
              " 'P16N_B_13': 'P16N.B_13 Reciben mÃ¡s de lo que deberÃ\\xadan recibir: El presidente de la RepÃºbli',\n",
              " 'P16N_B_14': 'P16N.B_14 Reciben mÃ¡s de lo que deberÃ\\xadan recibir: Los funcionarios pÃºblicos',\n",
              " 'P16N_B_15': 'P16N.B_15 Reciben mÃ¡s de lo que deberÃ\\xadan recibir: Nadie',\n",
              " 'P16N_B_16': 'P16N.B_16 Reciben mÃ¡s de lo que deberÃ\\xadan recibir: No responde',\n",
              " 'p17stgbs': 'P17STGBS AprobaciÃ³n de la gestion del gobierno que encabeza el presidente (nomb',\n",
              " 'p18st': 'P18ST Escala Izquierda-Derecha',\n",
              " 'p19st_a': 'P19ST.A CÃ³mo de justa es la distribuciÃ³n del ingreso en el paÃ\\xads',\n",
              " 'p19n_b': 'P19N.B CuÃ¡n justo es el acceso a la educaciÃ³n',\n",
              " 'p19n_c': 'P19N.C CuÃ¡n justo es el acceso a la salud',\n",
              " 'p19n_d': 'P19N.D CuÃ¡n justo es el acceso a la justicia',\n",
              " 'p20st_a': 'P20ST.A Democracia puede tener problemas pero es el mejor sistema de gobierno - ',\n",
              " 'p22stm_b': 'P22STM.B No me importarÃ\\xada que un gobierno no democrÃ¡tico llegara al poder si r',\n",
              " 'p20stm_c': 'P20STM.C La democracia permite que se solucionen los problemas que tenemos',\n",
              " 'p20stm_d': 'P20STM.D En caso de dificultades esta bien que el presidente controle los medios',\n",
              " 'p20st_e': 'P20ST.E Es posible erradicar la corrupciÃ³n de la polÃ\\xadtica',\n",
              " 'p20st_f': 'P20ST.F Cierto grado de corrupciÃ³n siempre que se solucionen los problemas del ',\n",
              " 'p20st_g': 'P20ST.G Si no denuncio un acto de corrupciÃ³n que tengo conocimiento me transfor',\n",
              " 'p21stm': 'P21STM ApoyarÃ\\xada Ud un gobierno militar',\n",
              " 'p22st_a': 'P22ST.A Â¿Los ciudadanos nacionales cumplen la ley?',\n",
              " 'p22st_b': 'P22ST.B Â¿Los ciudadanos nacionales exigen sus derechos?',\n",
              " 'p22st_c': 'P22ST.C Â¿Los ciudadanos nacionales son conscientes de sus obligaciones y debere',\n",
              " 'p22st_d': 'P22ST.D Â¿Los ciudadanos nacionales son iguales ante la ley?',\n",
              " 'p23n_01': 'P23N_01 Cree que cumplen con las leyes: Los funcionarios pÃºblicos',\n",
              " 'p23n_02': 'P23N_02 Cree que cumplen con las leyes: Los parlamentarios',\n",
              " 'p23n_03': 'P23N_03 Cree que cumplen con las leyes: Los jueces',\n",
              " 'p23n_04': 'P23N_04 Cree que cumplen con las leyes: Los Empresarios',\n",
              " 'p23n_05': 'P23N_05 Cree que cumplen con las leyes: Los polÃ\\xadticos en general',\n",
              " 'p23n_06': 'P23N_06 Cree que cumplen con las leyes: Los carabineros/policÃ\\xada',\n",
              " 'p23n_07': 'P23N_07 Cree que cumplen con las leyes: Los militares',\n",
              " 'p23n_08': 'P23N_08 Cree que cumplen con las leyes: Los miembros de su familia que Ud conoce',\n",
              " 'p23n_09': 'P23N_09 Cree que cumplen con las leyes: Ninguno/Nadie',\n",
              " 'p23n_10': 'P23N_10 Cree que cumplen con las leyes: No responde',\n",
              " 'p24st_a': 'P24ST.A SimulÃ³ estar enfermo para no ir al trabajo',\n",
              " 'p24st_b': 'P24ST.B Se las arreglÃ³ para pagar menos impuesto del que debÃ\\xada',\n",
              " 'p24st_c': 'P24ST.C Se beneficiÃ³ de un subsidio estatal que no le correspondÃ\\xada',\n",
              " 'p25n': 'P25N IntegraciÃ³n de {PAÃ\\x8dS} con otros paÃ\\xadses de la regiÃ³n ha aumentado/dismin',\n",
              " 'p26n_a': 'P26N.A A favor o en contra de la integraciÃ³n de su paÃ\\xads con los otros paÃ\\xadses ',\n",
              " 'p26n_b': 'P26N.B A favor o en contra de la integraciÃ³n de su paÃ\\xads con otros paÃ\\xadses fuer',\n",
              " 'p27n': 'P27N CuÃ¡l ha sido el impacto del {aquÃ\\xad pacto comercial segÃºn listado} en {PAÃ',\n",
              " 'p28st': 'P28ST Como es inversiÃ³n extranjera para desarrollo econÃ³mico del paÃ\\xads',\n",
              " 'p29st_a': 'P29ST.A Acuerdo con que (PaÃ\\xads) pueda comprar bienes y servicios de cualquier ot',\n",
              " 'p29st_b': 'P29ST.B La libre importaciÃ³n de bienes y servicios favorece al consumidor',\n",
              " 'p29st_c': 'P29ST.C En general, los productos nacionales son de menor calidad que los produc',\n",
              " 'p29st_d': 'P29ST.D Al mismo precio prefiero comprar bienes nacionales que importados',\n",
              " 'p29n_e': 'P29N.E Los robots van a quitarme mi empleo de aquÃ\\xad a 10 aÃ±os o mÃ¡s',\n",
              " 'p29st_f': 'P29ST.F Estoy capacitado para  manejar las nuevas tecnologÃ\\xadas en mi trabajo',\n",
              " 'p29st_g': 'P29ST.G La inteligencia artificial y la robÃ³tica harÃ¡n desaparecer mÃ¡s puesto',\n",
              " 'p30st_a': 'P30ST.A OpiniÃ³n sobre los Estados Unidos',\n",
              " 'p30st_b': 'P30ST.B OpiniÃ³n sobre los Rusia',\n",
              " 'p30st_c': 'P30ST.C OpiniÃ³n sobre los China',\n",
              " 'p30st_d': 'P30ST.D OpiniÃ³n sobre los UniÃ³n Europea',\n",
              " 'p30st_e': 'P30ST.E OpiniÃ³n sobre los Cuba',\n",
              " 'p30n': 'P30N OpiniÃ³n sobre los Venezuela',\n",
              " 'p31st_a': 'P31ST.A CalificaciÃ³n de la relaciÃ³n entre el paÃ\\xads y los Estados Unidos',\n",
              " 'p31st_b': 'P31ST.B CalificaciÃ³n de la relaciÃ³n entre el paÃ\\xads y Rusia',\n",
              " 'p31st_c': 'P31ST.C CalificaciÃ³n de la relaciÃ³n entre el paÃ\\xads y China',\n",
              " 'p31st_d': 'P31ST.D CalificaciÃ³n de la relaciÃ³n entre el paÃ\\xads y la UniÃ³n Europea',\n",
              " 'p31stm_e': 'P31STM.E CalificaciÃ³n de la relaciÃ³n entre el paÃ\\xads y Venezuela',\n",
              " 'p32na': 'P32NA CuÃ¡l es su opiniÃ³n sobre el comercio entre EEUU y {PAÃ\\x8dS}?',\n",
              " 'p32n_b': 'P32N.B Â¿cuÃ¡l es su opiniÃ³n sobre el comercio entre China y {PAÃ\\x8dS}?',\n",
              " 'p33n': 'P33N Â¿CuÃ¡l es la mayor ventaja del comercio con China?',\n",
              " 'p34n': 'P34N Â¿CuÃ¡l es la mayor desventaja del comercio con China?',\n",
              " 'p35n_a': 'P35N.A Â¿DirÃ\\xada Ud que la influencia de EEUU es mas bien positiva, o mÃ¡s bien n',\n",
              " 'p35n_b': 'P35N.B Â¿Y la influencia de CHINA es mÃ¡s bien positiva, o mÃ¡s bien negativa?',\n",
              " 'p36n_a': 'P36N.A Confianza en las Fuerzas Armadas de Estados Unidos',\n",
              " 'p36n_b': 'P36N.B Confianza en las fuerzas Armadas Chinas',\n",
              " 'p36stm_a': 'P36STM.A Conocimiento del FMI Fondo Monetario Internacional',\n",
              " 'p36stm_b': 'P36STM.B Conocimienro del BID (Banco Interamericano de Desarrollo)',\n",
              " 'p36stm_c': 'P36STM.C Conocimiento del  CAF (Banco de Desarrollo de AmÃ©rica Latina)',\n",
              " 'p36stm_d': 'P36STM.D Conocimiento del Banco Mundial',\n",
              " 'P36STMB_A': 'P36STMB.A Confianza en el FMI (Fondo Monetario Internacional)',\n",
              " 'P36STMB_B': 'P36STMB.B Confianza en el BID (Banco Interamericano de Desarrollo)',\n",
              " 'P36STMB_C': 'P36STMB.C Confianza en el CAF (Banco de Desarrollo de AmÃ©rica Latina)',\n",
              " 'P36STMB_D': 'P36STMB.D Confianza en el Banco Mundial',\n",
              " 'p37n_a': 'P37N.A Positivo/Negativo: Recibir inmigrantes de paÃ\\xadses fuera de AmÃ©rica Latin',\n",
              " 'p37n_b': 'P37N.B Positivo/Negativo: Recibir inmigrantes de AmÃ©rica Latina',\n",
              " 'p37n_c': 'P37N.C Positivo/Negativo: Recibir inmigrantes de HaitÃ\\xad',\n",
              " 'p37n_d': 'P37N.D Positivo/Negativo: Recibir inmigrantes de Venezuela',\n",
              " 'p38n': 'P38N Desde su punto de vista y el de su familia, Â¿cree Ud que la llegada de inm',\n",
              " 'p39n_a': 'P39N.A Los inmigrantes son buenos para la economÃ\\xada del paÃ\\xads',\n",
              " 'p39st_b': 'P39ST.B Los inmigrantes vienen a competir por nuestros puestos de trabajo',\n",
              " 'p39n_c': 'P39N.C Los inmigrantes causan un aumento del crimen',\n",
              " 'p39n_d': 'P39N.D Los inmigrantes mejoran nuestra sociedad con ideas y cultura',\n",
              " 'p39n_e': 'P39N.E Los inmigrantes son una carga para el estado',\n",
              " 'p39n_f': 'P39N.F Los inmigrantes le dan al paÃ\\xadsmÃ¡s de lo que reciben',\n",
              " 'p39n_g': 'P39N.G Nuestro paÃ\\xads deberÃ\\xada ayudar a los inmigrantes que sufren persecuciÃ³n p',\n",
              " 'p39n_h': 'P39N.H Los inmigrantes deberÃ\\xadan tener el mismo acceso a la salud, educaciÃ³n y ',\n",
              " 'p40n': 'P40N Â¿QuÃ© deberÃ\\xada hacer el gobierno con los inmigrantes que ingresan de forma',\n",
              " 'p41n': 'P41N Capacidad que ha tenido {paÃ\\xads} para combatir la pandemia',\n",
              " 'p42n': 'P42N Si solo hay una opciÃ³n para combatir la delincuencia: Entregar recursos a ',\n",
              " 'p43n': 'P43N Â¿CuÃ¡n probable es que la autoridad local lo/la escuche si hay algÃºn prob',\n",
              " 'p44n': 'P44N Â¿QuÃ© tan probable es que en el barrio donde usted vive se logre reunir la',\n",
              " 'p45n': 'P45N Â¿CuÃ¡n probable es que Ud realice la denuncia a la policÃ\\xada si Ud es vÃ\\xadct',\n",
              " 'p46stgbs': 'P46STGBS InterÃ©s en la polÃ\\xadtica',\n",
              " 'p47st_a': 'P47ST.A GarantÃ\\xadas: Libertad para participar en polÃ\\xadtica',\n",
              " 'p47st_b': 'P47ST.B GarantÃ\\xadas: Libertad para elegir mi oficio/profesiÃ³n',\n",
              " 'p47st_c': 'P47ST.C GarantÃ\\xadas: ProtecciÃ³n del medioambiente',\n",
              " 'p47st_d': 'P47ST.D GarantÃ\\xadas: ProtecciÃ³n de la propiedad privada',\n",
              " 'p47st_e': 'P47ST.E GarantÃ\\xadas: Justa distribuciÃ³n de la riqueza',\n",
              " 'p47st_f': 'P47ST.F GarantÃ\\xadas: Igualdad entre hombres y mujeres',\n",
              " 'p47st_g': 'P47ST.G GarantÃ\\xadas: Igualdad de oportunidades sin importar el origen de cada cua',\n",
              " 'p47st_h': 'P47ST.H GarantÃ\\xadas: Libertad de expresiÃ³n siempre y en todas partes',\n",
              " 'p47st_i': 'P47ST.I GarantÃ\\xadas: Libertad de profesar cualquier religiÃ³n',\n",
              " 'p47st_j': 'P47ST.J GarantÃ\\xadas: ProtecciÃ³n contra el crimen',\n",
              " 'p47st_k': 'P47ST.K GarantÃ\\xadas: Seguridad social',\n",
              " 'p47st_l': 'P47ST.L GarantÃ\\xadas: Solidaridad con los pobres y los necesitados',\n",
              " 'p47st_m': 'P47ST.M GarantÃ\\xadas: Oportunidades de conseguir trabajo',\n",
              " 'p48st_1': 'P48ST.1 Â¿QuiÃ©n tiene mÃ¡s poder en (paÃ\\xads)? (Primera menciÃ³n)',\n",
              " 'p48st_2': 'P48ST.2 Â¿QuiÃ©n tiene mÃ¡s poder en (paÃ\\xads)? (Segunda menciÃ³n)',\n",
              " 'p48st_3': 'P48ST.3 Â¿QuiÃ©n tiene mÃ¡s poder en (paÃ\\xads)? (Tercera menciÃ³n)',\n",
              " 'p49stgbs': 'P49STGBS Hay algÃºn partido polÃ\\xadtico hacia el cual se siente mÃ¡s cercano',\n",
              " 'P50STGBS_A': 'P50STGBS.A Â¿Por cuÃ¡l partido votarÃ\\xada si este domingo hubiera elecciones?',\n",
              " 'P51STGBS_B': 'P51STGBS.B Voto gobierno-oposiciÃ³n',\n",
              " 'p52st': 'P52ST Â¿Sabe Ud cÃ³mo votan la mayorÃ\\xada de sus amigos?',\n",
              " 'p53n': 'P53N Durante las Ãºltimas semanas Â¿se sintiÃ³ Ud alguna vez solo?',\n",
              " 'p54st_a': 'P54ST.A Frecuencia con que habla de polÃ\\xadtica con los amigos',\n",
              " 'p54st_b': 'P54ST.B Frecuencia que trabaja por temas que le afectan a su comunidad',\n",
              " 'p54st_c': 'P54ST.C Frecuencia con que trata de convencer polÃ\\xadticamente',\n",
              " 'p54st_d': 'P54ST.D Frecuencia con que trabaja para un partido polÃ\\xadtico o candidato',\n",
              " 'p55st_a': 'P55ST.A AcciÃ³n polÃ\\xadtica: Firmar una peticiÃ³n',\n",
              " 'p55st_b': 'P55ST.B AcciÃ³n polÃ\\xadtica: Asistir a manifestaciones autorizadas',\n",
              " 'p55st_c': 'P55ST.C AcciÃ³n polÃ\\xadtica: Participar en saqueos',\n",
              " 'p55st_d': 'P55ST.D AcciÃ³n polÃ\\xadtica: Ocupar terreno, edificios o fÃ¡bricas',\n",
              " 'p55st_e': 'P55ST.E AcciÃ³n polÃ\\xadtica: Participar en protestas no autorizadas',\n",
              " 'p55st_f': 'P55ST.F AcciÃ³n polÃ\\xadtica: Bloquear el trÃ¡fico',\n",
              " 'p56n': 'P56N Mejor forma de actuar para que Ud. y el paÃ\\xads avancen mÃ¡s',\n",
              " 'p57st': 'P57ST Se describirÃ\\xada como parte de un grupo que es discriminado en (paÃ\\xads)',\n",
              " 'p58st': 'P58ST Personas o grupos de personas mÃ¡s discriminadas en (PaÃ\\xads)',\n",
              " 'p59st_a': 'P59ST.A Dispuesto a salir a marchar y protestar por: Aumento de salario y mejore',\n",
              " 'p59st_b': 'P59ST.B Dispuesto a salir a marchar y protestar por: La mejora de la salud y la ',\n",
              " 'p59n_c': 'P59N.C Dispuesto a salir a marchar y protestar por: El cambio climÃ¡tico',\n",
              " 'p59st_d': 'P59ST.D Dispuesto a salir a marchar y protestar por: Para defender derechos demo',\n",
              " 'p59n_e': 'P59N.E Dispuesto a salir a marchar y protestar por: Para luchar contra abusos y ',\n",
              " 'p59n_f': 'P59N.F Dispuesto a salir a marchar y protestar por: Una sociedad con mas igualda',\n",
              " 'p60st': 'P60ST La mayorÃ\\xada de las personas dicen lo que piensan acerca de la polÃ\\xadtica',\n",
              " 'p60n_b': 'P60N.B Si expresa pÃºblicamente sus opiniones acerca de los problemas del paÃ\\xads,',\n",
              " 'p60n_c': 'P60N.C DÃ³nde suele expresar sus opiniones sobre los problemas del paÃ\\xads',\n",
              " 'p61st': 'P61ST Las Redes sociales en la polÃ\\xadtica',\n",
              " 'p62n_a': 'P62N.A Grado de acuerdo con: Las protestas',\n",
              " 'p62st_b': 'P62ST.B Las elecciones ofrecen a los votantes una real opciÃ³n de elegir entre p',\n",
              " 'p62st_c': 'P62ST.C El sistema judicial castiga a los culpables sin importar quienes son',\n",
              " 'p62st_d': 'P62ST.D La economÃ\\xada de mercado es el Ãºnico sistema con el que el {PAÃ\\x8dS} puede',\n",
              " 'p63st_01': 'P63ST_01 Tipo de violencia mÃ¡s frecuente en el lugar donde vive: Bullying/Acoso',\n",
              " 'p63st_02': 'P63ST_02 Tipo de violencia mÃ¡s frecuente en el lugar donde vive: Violencia intr',\n",
              " 'p63st_03': 'P63ST_03 Tipo de violencia mÃ¡s frecuente en el lugar donde vive: Violencia intr',\n",
              " 'p63st_04': 'P63ST_04 Tipo de violencia mÃ¡s frecuente en el lugar donde vive: Violencia en l',\n",
              " 'p63st_05': 'P63ST_05 Tipo de violencia mÃ¡s frecuente en el lugar donde vive: Crimen organiz',\n",
              " 'p63st_06': 'P63ST_06 Tipo de violencia mÃ¡s frecuente en el lugar donde vive: Maras - Pandil',\n",
              " 'p63st_07': 'P63ST_07 Tipo de violencia mÃ¡s frecuente en el lugar donde vive: Violencia de E',\n",
              " 'p63st_08': 'P63ST_08 Tipo de violencia mÃ¡s frecuente en el lugar donde vive: Violencia verb',\n",
              " 'p63st_09': 'P63ST_09 Tipo de violencia mÃ¡s frecuente en el lugar donde vive: No sabe / No r',\n",
              " 'p64st': 'P64ST Usted o su familia han sido vÃ\\xadctimas de un delito en los Ãºltimos doce me',\n",
              " 'p65st': 'P65ST Con quÃ© frecuencia se preocupa de que pueda llegar a ser vÃ\\xadctima de un d',\n",
              " 'p66npn': 'P66NPN Â¿Con quÃ© frecuencia ha dejado Usted de hacer actividades de trabajo o e',\n",
              " 'p67npn_a': 'P67NPN.A Presencia de crimen organizado, grupos armados, grupos narco o pandilla',\n",
              " 'P67NPN_B_01': 'P67NPN.B_01 Roles que juegan estos grupos en su municipio o localidad: Controlan',\n",
              " 'P67NPN_B_02': 'P67NPN.B_02 Roles que juegan estos grupos en su municipio o localidad: Ponen ord',\n",
              " 'P67NPN_B_03': 'P67NPN.B_03 Roles que juegan estos grupos en su municipio o localidad: Usan viol',\n",
              " 'P67NPN_B_04': 'P67NPN.B_04 Roles que juegan estos grupos en su municipio o localidad: Extorsion',\n",
              " 'P67NPN_B_05': 'P67NPN.B_05 Roles que juegan estos grupos en su municipio o localidad: Otro',\n",
              " 'P67NPN_B_06': 'P67NPN.B_06 Roles que juegan estos grupos en su municipio o localidad: No sabe /',\n",
              " 'p68st': 'P68ST Usted o su familia han sabido de algÃºn acto de corrupciÃ³n',\n",
              " 'p69st': 'P69ST VariaciÃ³n del nivel de corrupciÃ³n en (PaÃ\\xads) desde el aÃ±o pasado',\n",
              " 'p70st': 'P70ST Progreso en reducciÃ³n de corrupciÃ³n en las instituciones del Estado (2 a',\n",
              " 'P71STM_01': 'P71STM_01 Grupos de personas que estÃ¡n involucradas en actos de corrupciÃ³n: El',\n",
              " 'P71STM_02': 'P71STM_02 Grupos de personas que estÃ¡n involucradas en actos de corrupciÃ³n: Lo',\n",
              " 'P71STM_03': 'P71STM_03 Grupos de personas que estÃ¡n involucradas en actos de corrupciÃ³n: Lo',\n",
              " 'P71STM_04': 'P71STM_04 Grupos de personas que estÃ¡n involucradas en actos de corrupciÃ³n: Go',\n",
              " 'P71STM_05': 'P71STM_05 Grupos de personas que estÃ¡n involucradas en actos de corrupciÃ³n: La',\n",
              " 'P71STM_06': 'P71STM_06 Grupos de personas que estÃ¡n involucradas en actos de corrupciÃ³n: Fu',\n",
              " 'P71STM_07': 'P71STM_07 Grupos de personas que estÃ¡n involucradas en actos de corrupciÃ³n: Ju',\n",
              " 'P71STM_08': 'P71STM_08 Grupos de personas que estÃ¡n involucradas en actos de corrupciÃ³n: LÃ',\n",
              " 'P71STM_09': 'P71STM_09 Grupos de personas que estÃ¡n involucradas en actos de corrupciÃ³n: Em',\n",
              " 'P71STM_10': 'P71STM_10 Grupos de personas que estÃ¡n involucradas en actos de corrupciÃ³n: Al',\n",
              " 'P71STM_11': 'P71STM_11 Grupos de personas que estÃ¡n involucradas en actos de corrupciÃ³n: No',\n",
              " 'p72npn': 'P72NPN El nivel de desigualdad de su paÃ\\xads es aceptable o inaceptable',\n",
              " 'p73npn_1': 'P73NPN.1 Cuanto dinero le queda: Grupo 1-MÃ¡s pobre',\n",
              " 'p73npn_2': 'P73NPN.2 Cuanto dinero le queda: Grupo 2',\n",
              " 'p73npn_3': 'P73NPN.3 Cuanto dinero le queda: Grupo 3',\n",
              " 'p73npn_4': 'P73NPN.4 Cuanto dinero le queda: Grupo 4',\n",
              " 'p73npn_5': 'P73NPN.5 Cuanto dinero le queda: Grupo 5- MÃ¡s rico',\n",
              " 'p74npn_1': 'P74NPN.1 Cuanto dinero desearÃ\\xada que le quedara: Grupo 1-MÃ¡s pobre',\n",
              " 'p74npn_2': 'P74NPN.2 Cuanto dinero desearÃ\\xada que le quedara: Grupo 2',\n",
              " 'p74npn_3': 'P74NPN.3 Cuanto dinero desearÃ\\xada que le quedara: Grupo 3',\n",
              " 'p74npn_4': 'P74NPN.4 Cuanto dinero desearÃ\\xada que le quedara: Grupo 4',\n",
              " 'p74npn_5': 'P74NPN.5 Cuanto dinero desearÃ\\xada que le quedara: Grupo 5- MÃ¡s rico',\n",
              " 'P75NPN_01': 'P75NPN_01 Peores expresiones de la desigualdad en su paÃ\\xads: En las oportunidades',\n",
              " 'P75NPN_02': 'P75NPN_02 Peores expresiones de la desigualdad en su paÃ\\xads: En el acceso a servi',\n",
              " 'P75NPN_03': 'P75NPN_03 Peores expresiones de la desigualdad en su paÃ\\xads: En el acceso a servi',\n",
              " 'P75NPN_04': 'P75NPN_04 Peores expresiones de la desigualdad en su paÃ\\xads: En el tiempo de tran',\n",
              " 'P75NPN_05': 'P75NPN_05 Peores expresiones de la desigualdad en su paÃ\\xads: La desigualdad ante ',\n",
              " 'P75NPN_06': 'P75NPN_06 Peores expresiones de la desigualdad en su paÃ\\xads: En las oportunidades',\n",
              " 'P75NPN_07': 'P75NPN_07 Peores expresiones de la desigualdad en su paÃ\\xads: Entre hombres y muje',\n",
              " 'P75NPN_08': 'P75NPN_08 Peores expresiones de la desigualdad en su paÃ\\xads: Entre razas / etnias',\n",
              " 'P75NPN_09': 'P75NPN_09 Peores expresiones de la desigualdad en su paÃ\\xads: En el trato entre cl',\n",
              " 'P75NPN_10': 'P75NPN_10 Peores expresiones de la desigualdad en su paÃ\\xads: En el ejercicio de l',\n",
              " 'P75NPN_11': 'P75NPN_11 Peores expresiones de la desigualdad en su paÃ\\xads: En el acceso al pode',\n",
              " 'P75NPN_12': 'P75NPN_12 Peores expresiones de la desigualdad en su paÃ\\xads: La desigualdad ante ',\n",
              " 'P75NPN_13': 'P75NPN_13 Peores expresiones de la desigualdad en su paÃ\\xads: Entre zonas urbanas ',\n",
              " 'P75NPN_14': 'P75NPN_14 Peores expresiones de la desigualdad en su paÃ\\xads: En el ingreso',\n",
              " 'P75NPN_15': 'P75NPN_15 Peores expresiones de la desigualdad en su paÃ\\xads: Entre ricos y pobres',\n",
              " 'P75NPN_16': 'P75NPN_16 Peores expresiones de la desigualdad en su paÃ\\xads: No sabe / No respond',\n",
              " 'p76n_1': 'P76N.1 ValoraciÃ³n de IvÃ¡n Duque',\n",
              " 'p76st_2': 'P76ST.2 ValoraciÃ³n de Luis Lacalle Pou',\n",
              " 'p76n_3': 'P76N.3 ValoraciÃ³n de Alberto FernÃ¡ndez',\n",
              " 'p76n_4': 'P76N.4 ValoraciÃ³n de Jair Bolsonaro',\n",
              " 'p76st_5': 'P76ST.5 ValoraciÃ³n de NicolÃ¡s Maduro',\n",
              " 'p76st_6': 'P76ST.6 ValoraciÃ³n de SebastiÃ¡n PiÃ±era',\n",
              " 'p76st_7': 'P76ST.7 ValoraciÃ³n de Papa Francisco',\n",
              " 'p76n_8': 'P76N.8 ValoraciÃ³n de Xi Jinping',\n",
              " 'p76n_9': 'P76N.9 ValoraciÃ³n de Lenin Moreno',\n",
              " 'p76n_10': 'P76N.10 ValoraciÃ³n de Donald Trump',\n",
              " 'p76n_11': 'P76N.11 ValoraciÃ³n de AndrÃ©s Manuel LÃ³pez Obrador',\n",
              " 'p76n_12': 'P76N.12 ValoraciÃ³n de Daniel Ortega',\n",
              " 'p76n_13': 'P76N.13 ValoraciÃ³n de Juan GuaidÃ³',\n",
              " 'p77n': 'P77N Miedo a contagiarme con el virus',\n",
              " 'p78n': 'P78N Trabajo remoto de entrevistado o su familia durante la pandemia',\n",
              " 'p79n': 'P79N Estudio remoto de algÃºn menor de edad o adulto durante la pandemia',\n",
              " 'p80n': 'P80N Tiempo para que el ingreso de ud y su familia vuelva a ser como el que tenÃ',\n",
              " 'p81n_01': 'P81N_01 CuÃ¡l de las siguientes cosas hace habitualmente para no contagiarse con',\n",
              " 'p81n_02': 'P81N_02 CuÃ¡l de las siguientes cosas hace habitualmente para no contagiarse con',\n",
              " 'p81n_03': 'P81N_03 CuÃ¡l de las siguientes cosas hace habitualmente para no contagiarse con',\n",
              " 'p81n_04': 'P81N_04 CuÃ¡l de las siguientes cosas hace habitualmente para no contagiarse con',\n",
              " 'p81n_05': 'P81N_05 CuÃ¡l de las siguientes cosas hace habitualmente para no contagiarse con',\n",
              " 's1': 'S1 Clase social subjetiva',\n",
              " 's2': 'S2 CuÃ¡n seguido usted o su familia no han tenido suficiente comida para aliment',\n",
              " 's3': 'S3 PreocupaciÃ³n de quedar sin trabajo dentro de los prÃ³ximo doce meses',\n",
              " 's4': 'S4 El salario o sueldo que Ud. percibe y el total del ingreso familiar, Â¿Le per',\n",
              " 's5npn': 'S5NPN Nivel de ingresos del hogar (por tramos)',\n",
              " 's6npn_01': 'S6NPN_01 El gobierno debe ayudar a los mÃ¡s pobres dÃ¡ndoles: Dinero',\n",
              " 's6npn_02': 'S6NPN_02 El gobierno debe ayudar a los mÃ¡s pobres dÃ¡ndoles: Alimentos',\n",
              " 's6npn_03': 'S6NPN_03 El gobierno debe ayudar a los mÃ¡s pobres dÃ¡ndoles: Trabajo',\n",
              " 's6npn_04': 'S6NPN_04 El gobierno debe ayudar a los mÃ¡s pobres dÃ¡ndoles: Vivienda',\n",
              " 's6npn_05': 'S6NPN_05 El gobierno debe ayudar a los mÃ¡s pobres dÃ¡ndoles: Acceso a educaciÃ³',\n",
              " 's6npn_06': 'S6NPN_06 El gobierno debe ayudar a los mÃ¡s pobres dÃ¡ndoles: Acceso a servicios',\n",
              " 's6npn_07': 'S6NPN_07 El gobierno debe ayudar a los mÃ¡s pobres dÃ¡ndoles: Acceso a servicios',\n",
              " 's6npn_08': 'S6NPN_08 El gobierno debe ayudar a los mÃ¡s pobres dÃ¡ndoles: Acceso a servicios',\n",
              " 's6npn_09': 'S6NPN_09 El gobierno debe ayudar a los mÃ¡s pobres dÃ¡ndoles: No sabe / No respo',\n",
              " 's7npn': 'S7NPN DeberÃ\\xada el gobierno dar acceso a los mÃ¡s pobres a estos bienes y servici',\n",
              " 's8npn_a': 'S8NPN.A Â¿Y los hogares, hasta quÃ© tramos de ingreso deberÃ\\xadan recibir estas ay',\n",
              " 's8npn_b': 'S8NPN.B Â¿A partir de cuÃ¡l tramo de ingreso deberÃ\\xadan los hogares de {NACIONALI',\n",
              " 's9npn': 'S9NPN Impuestos que tienen que pagar los ciudadanos de {PAÃ\\x8dS}',\n",
              " 's10': 'S10 Â¿CuÃ¡l es su religiÃ³n?',\n",
              " 's11_a': 'S11.A PrÃ¡ctica religiosa',\n",
              " 's12': 'S12 Raza/Etnia a la que pertenece',\n",
              " 's13': 'S13 Ha pensado vivir en otro paÃ\\xads',\n",
              " 's14': 'S14 Principal ingreso familiar',\n",
              " 's15': 'S15 Edad de finalizaciÃ³n de estudios - Entrevistado',\n",
              " 's16': 'S16 Nivel de estudios del entrevistado',\n",
              " 's17': 'S17 Nivel de estudios alcanzado - Padres',\n",
              " 's18mn_a': 'S18MN.A En los Ãºltimos 12 meses comprÃ³ algÃºn producto/servicio a travÃ©s de c',\n",
              " 'S18N_B_01': 'S18N.B_01 Aplicaciones que utiliza: Uber',\n",
              " 'S18N_B_02': 'S18N.B_02 Aplicaciones que utiliza: Airbnb',\n",
              " 'S18N_B_03': 'S18N.B_03 Aplicaciones que utiliza: Zoom',\n",
              " 'S18N_B_04': 'S18N.B_04 Aplicaciones que utiliza: Skype',\n",
              " 'S18N_B_05': 'S18N.B_05 Aplicaciones que utiliza: Teams',\n",
              " 'S18N_B_06': 'S18N.B_06 Aplicaciones que utiliza: Mercado Libre',\n",
              " 'S18N_B_07': 'S18N.B_07 Aplicaciones que utiliza: Aliexpress',\n",
              " 'S18N_B_08': 'S18N.B_08 Aplicaciones que utiliza: Cabify',\n",
              " 'S18N_B_09': 'S18N.B_09 Aplicaciones que utiliza: Google Hangout',\n",
              " 'S18N_B_10': 'S18N.B_10 Aplicaciones que utiliza: Amazon',\n",
              " 'S18N_B_11': 'S18N.B_11 Aplicaciones que utiliza: Didi',\n",
              " 'S18N_B_12': 'S18N.B_12 Aplicaciones que utiliza: Entrega de comida a domicilio',\n",
              " 'S18N_B_13': 'S18N.B_13 Aplicaciones que utiliza: 99 Taxi',\n",
              " 'S18N_B_14': 'S18N.B_14 Aplicaciones que utiliza: In Driver',\n",
              " 'S18N_B_15': 'S18N.B_15 Aplicaciones que utiliza: Ryte',\n",
              " 'S18N_B_16': 'S18N.B_16 Aplicaciones que utiliza: Uber Eats',\n",
              " 'S18N_B_17': 'S18N.B_17 Aplicaciones que utiliza:Glovo',\n",
              " 'S18N_B_18': 'S18N.B_18 Aplicaciones que utiliza: Rapid',\n",
              " 'S18N_B_19': 'S18N.B_19 Aplicaciones que utiliza: Otro',\n",
              " 'S18N_B_20': 'S18N.B_20 Aplicaciones que utiliza: No usa',\n",
              " 'S18N_B_21': 'S18N.B_21 Aplicaciones que utiliza: No sabe / No responde',\n",
              " 's19m_01': 'S19M_01 Uso redes sociales: Facebook',\n",
              " 's19m_02': 'S19M_02 Uso redes sociales: Snapchat',\n",
              " 's19m_03': 'S19M_03 Uso redes sociales: Youtube',\n",
              " 's19m_04': 'S19M_04 Uso redes sociales: Twitter',\n",
              " 's19m_05': 'S19M_05 Uso redes sociales: Whatsapp',\n",
              " 's19m_06': 'S19M_06 Uso redes sociales: Instagram',\n",
              " 's19m_07': 'S19M_07 Uso redes sociales: Tik Tok',\n",
              " 's19m_08': 'S19M_08 Uso redes sociales: LinkedIn',\n",
              " 's19m_09': 'S19M_09 Uso redes sociales: Otro',\n",
              " 's19m_10': 'S19M_10 Uso redes sociales: No usa',\n",
              " 's20_a': 'S20.A Lengua materna',\n",
              " 's20_b': 'S20.B Idioma en que fue aplicado este cuestionario',\n",
              " 's21': 'S21 Â¿Es Ud ciudadano {NACIONALIDAD}?',\n",
              " 's22': 'S22 Fecha de nacimiento',\n",
              " 's22_a': 'S22.A S22_A  Â¿CuÃ¡l es su fecha de nacimiento?: DÃ\\x8dA',\n",
              " 's22_b': 'S22.B S22_B  MES',\n",
              " 's22_c': 'S22.C S22_C  AÃ\\x91O',\n",
              " 's23_a': 'S23.A Receptor de ayuda del estado antes de la pandemia',\n",
              " 's23_b': 'S23.B Ha recibido ayuda del estado durante la pandemia',\n",
              " 's24_a': 'S24.A SituaciÃ³n ocupacional actual',\n",
              " 's24_b': 'S24.B Â¿CuÃ¡l era su situaciÃ³n ocupacional anteriormente?',\n",
              " 's25': 'S25 Actividad de la empresa o negocio en la que realiza/realizaba su trabajo',\n",
              " 's26_a': 'S26.A Bienes que posee: Una vivienda donde los padres tienen una habitaciÃ³n dis',\n",
              " 's26_b': 'S26.B Bienes que posee: Casa propia',\n",
              " 's26_c': 'S26.C Bienes que posee: Computador/a',\n",
              " 's26_d': 'S26.D Bienes que posee: Lavarropas/Lavadora',\n",
              " 's26_e': 'S26.E Bienes que posee: TelÃ©fono de red fija',\n",
              " 's26_f': 'S26.F Bienes que posee: TelÃ©fono celular/mÃ³vil/smartphone',\n",
              " 's26_g': 'S26.G Bienes que posee: Auto',\n",
              " 's26_h': 'S26.H Bienes que posee: Agua caliente de caÃ±erÃ\\xada',\n",
              " 's26_i': 'S26.I Bienes que posee: Alcantarillado/Cloacas',\n",
              " 's26_j': 'S26.J Bienes que posee: Al menos una comida caliente al dÃ\\xada',\n",
              " 's26_k': 'S26.K Bienes que posee: Agua potable',\n",
              " 's26_l': 'S26.L Bienes que posee: Smartphone',\n",
              " 'm_nc': 'M.NC ConexiÃ³n a Internet en el hogar',\n",
              " 'n_ni': 'N.NI CalefacciÃ³n/aire acondicionado',\n",
              " 's27': 'S27 Edad de tÃ©rmino de estudios jefe de familia',\n",
              " 's28_a': 'S28.A SituaciÃ³n ocupacional del Jefe de Familia',\n",
              " 's28_b': 'S28.B SituaciÃ³n ocupacional del jefe de familia anteriormente',\n",
              " 's29': 'S29 Tipo de trabajo que hace el Jefe de familia',\n",
              " 's30': 'S30 ApreciaciÃ³n nivel socioeconÃ³mico (realizado por el encuestador)',\n",
              " 'reeduc_1': 'REEDUC.1 Nivel de estudios alcanzado - Entrevistado (recodificado)',\n",
              " 'reeduc_2': 'REEDUC.2 Nivel de estudios alcanzado - Padres (recodificado)',\n",
              " 'reedad': 'REEDAD EDAD RECODIFICADA',\n",
              " 'perpart': 'PERPART ParticipaciÃ³n en gobierno u oposiciÃ³n del partido polÃ\\xadtico al que vot',\n",
              " 'fampart': 'FAMPART Familia de partido polÃ\\xadtico',\n",
              " 'wt': 'WT WT  PONDERADOR'}"
            ]
          },
          "metadata": {},
          "execution_count": 12
        }
      ]
    },
    {
      "cell_type": "code",
      "source": [
        "df['p1st'].value_counts()"
      ],
      "metadata": {
        "id": "q2HJ-ndGRbN4",
        "outputId": "14863d7b-2ae9-4392-ba2f-5038688f24c6",
        "colab": {
          "base_uri": "https://localhost:8080/"
        }
      },
      "execution_count": 13,
      "outputs": [
        {
          "output_type": "execute_result",
          "data": {
            "text/plain": [
              "Muy satisfecho          7690\n",
              "Bastante satisfecho     7531\n",
              "No muy satisfecho       3765\n",
              "Para nada satisfecho     965\n",
              "No contesta              253\n",
              "Name: p1st, dtype: int64"
            ]
          },
          "metadata": {},
          "execution_count": 13
        }
      ]
    },
    {
      "cell_type": "code",
      "source": [
        "df['p1st'].unique()"
      ],
      "metadata": {
        "id": "JFmp1ABzXTXe",
        "outputId": "846303f8-59aa-4b33-bf21-86d641bf9afe",
        "colab": {
          "base_uri": "https://localhost:8080/"
        }
      },
      "execution_count": 14,
      "outputs": [
        {
          "output_type": "execute_result",
          "data": {
            "text/plain": [
              "['Muy satisfecho', 'Para nada satisfecho', 'Bastante satisfecho', 'No muy satisfecho', 'No contesta']\n",
              "Categories (5, object): ['No contesta' < 'Muy satisfecho' < 'Bastante satisfecho' <\n",
              "                         'No muy satisfecho' < 'Para nada satisfecho']"
            ]
          },
          "metadata": {},
          "execution_count": 14
        }
      ]
    },
    {
      "cell_type": "code",
      "source": [
        "df['p1st_values']=df['p1st'].replace(df['p1st'].unique(), [10, 3, 7, 5, np.nan], inplace=False)"
      ],
      "metadata": {
        "id": "SKIyWo1iK03H",
        "outputId": "425d400a-880a-4f3e-87fc-3096611c494e",
        "colab": {
          "base_uri": "https://localhost:8080/"
        }
      },
      "execution_count": 16,
      "outputs": [
        {
          "output_type": "stream",
          "name": "stderr",
          "text": [
            "/usr/local/lib/python3.7/dist-packages/ipykernel_launcher.py:1: PerformanceWarning: DataFrame is highly fragmented.  This is usually the result of calling `frame.insert` many times, which has poor performance.  Consider joining all columns at once using pd.concat(axis=1) instead.  To get a de-fragmented frame, use `newframe = frame.copy()`\n",
            "  \"\"\"Entry point for launching an IPython kernel.\n"
          ]
        }
      ]
    },
    {
      "cell_type": "code",
      "source": [
        "df.groupby('idenpa')[['p1st_values']].mean()"
      ],
      "metadata": {
        "id": "Ys_WKsISVrC4",
        "outputId": "f96d5b33-207c-4366-99d1-62c8b0ce337e",
        "colab": {
          "base_uri": "https://localhost:8080/",
          "height": 645
        }
      },
      "execution_count": 17,
      "outputs": [
        {
          "output_type": "execute_result",
          "data": {
            "text/plain": [
              "                  p1st_values\n",
              "idenpa                       \n",
              " Argentina           7.001691\n",
              " Bolivia             6.927119\n",
              " Brasil              6.696488\n",
              " Chile               6.704013\n",
              " Colombia            8.289056\n",
              " Costa Rica          8.142424\n",
              " Rep. Dominicana     8.236977\n",
              " Ecuador             7.620168\n",
              " El Salvador         8.119388\n",
              " Guatemala           8.361224\n",
              " Honduras            7.876782\n",
              " MÃ©xico             7.850584\n",
              " Nicaragua           7.889706\n",
              " PanamÃ¡             8.077236\n",
              " Paraguay            7.126984\n",
              " PerÃº               7.472789\n",
              " Uruguay             7.648785\n",
              " Venezuela           7.131886"
            ],
            "text/html": [
              "\n",
              "  <div id=\"df-59dbfbb8-a456-437b-97d9-d362a362903f\">\n",
              "    <div class=\"colab-df-container\">\n",
              "      <div>\n",
              "<style scoped>\n",
              "    .dataframe tbody tr th:only-of-type {\n",
              "        vertical-align: middle;\n",
              "    }\n",
              "\n",
              "    .dataframe tbody tr th {\n",
              "        vertical-align: top;\n",
              "    }\n",
              "\n",
              "    .dataframe thead th {\n",
              "        text-align: right;\n",
              "    }\n",
              "</style>\n",
              "<table border=\"1\" class=\"dataframe\">\n",
              "  <thead>\n",
              "    <tr style=\"text-align: right;\">\n",
              "      <th></th>\n",
              "      <th>p1st_values</th>\n",
              "    </tr>\n",
              "    <tr>\n",
              "      <th>idenpa</th>\n",
              "      <th></th>\n",
              "    </tr>\n",
              "  </thead>\n",
              "  <tbody>\n",
              "    <tr>\n",
              "      <th>Argentina</th>\n",
              "      <td>7.001691</td>\n",
              "    </tr>\n",
              "    <tr>\n",
              "      <th>Bolivia</th>\n",
              "      <td>6.927119</td>\n",
              "    </tr>\n",
              "    <tr>\n",
              "      <th>Brasil</th>\n",
              "      <td>6.696488</td>\n",
              "    </tr>\n",
              "    <tr>\n",
              "      <th>Chile</th>\n",
              "      <td>6.704013</td>\n",
              "    </tr>\n",
              "    <tr>\n",
              "      <th>Colombia</th>\n",
              "      <td>8.289056</td>\n",
              "    </tr>\n",
              "    <tr>\n",
              "      <th>Costa Rica</th>\n",
              "      <td>8.142424</td>\n",
              "    </tr>\n",
              "    <tr>\n",
              "      <th>Rep. Dominicana</th>\n",
              "      <td>8.236977</td>\n",
              "    </tr>\n",
              "    <tr>\n",
              "      <th>Ecuador</th>\n",
              "      <td>7.620168</td>\n",
              "    </tr>\n",
              "    <tr>\n",
              "      <th>El Salvador</th>\n",
              "      <td>8.119388</td>\n",
              "    </tr>\n",
              "    <tr>\n",
              "      <th>Guatemala</th>\n",
              "      <td>8.361224</td>\n",
              "    </tr>\n",
              "    <tr>\n",
              "      <th>Honduras</th>\n",
              "      <td>7.876782</td>\n",
              "    </tr>\n",
              "    <tr>\n",
              "      <th>MÃ©xico</th>\n",
              "      <td>7.850584</td>\n",
              "    </tr>\n",
              "    <tr>\n",
              "      <th>Nicaragua</th>\n",
              "      <td>7.889706</td>\n",
              "    </tr>\n",
              "    <tr>\n",
              "      <th>PanamÃ¡</th>\n",
              "      <td>8.077236</td>\n",
              "    </tr>\n",
              "    <tr>\n",
              "      <th>Paraguay</th>\n",
              "      <td>7.126984</td>\n",
              "    </tr>\n",
              "    <tr>\n",
              "      <th>PerÃº</th>\n",
              "      <td>7.472789</td>\n",
              "    </tr>\n",
              "    <tr>\n",
              "      <th>Uruguay</th>\n",
              "      <td>7.648785</td>\n",
              "    </tr>\n",
              "    <tr>\n",
              "      <th>Venezuela</th>\n",
              "      <td>7.131886</td>\n",
              "    </tr>\n",
              "  </tbody>\n",
              "</table>\n",
              "</div>\n",
              "      <button class=\"colab-df-convert\" onclick=\"convertToInteractive('df-59dbfbb8-a456-437b-97d9-d362a362903f')\"\n",
              "              title=\"Convert this dataframe to an interactive table.\"\n",
              "              style=\"display:none;\">\n",
              "        \n",
              "  <svg xmlns=\"http://www.w3.org/2000/svg\" height=\"24px\"viewBox=\"0 0 24 24\"\n",
              "       width=\"24px\">\n",
              "    <path d=\"M0 0h24v24H0V0z\" fill=\"none\"/>\n",
              "    <path d=\"M18.56 5.44l.94 2.06.94-2.06 2.06-.94-2.06-.94-.94-2.06-.94 2.06-2.06.94zm-11 1L8.5 8.5l.94-2.06 2.06-.94-2.06-.94L8.5 2.5l-.94 2.06-2.06.94zm10 10l.94 2.06.94-2.06 2.06-.94-2.06-.94-.94-2.06-.94 2.06-2.06.94z\"/><path d=\"M17.41 7.96l-1.37-1.37c-.4-.4-.92-.59-1.43-.59-.52 0-1.04.2-1.43.59L10.3 9.45l-7.72 7.72c-.78.78-.78 2.05 0 2.83L4 21.41c.39.39.9.59 1.41.59.51 0 1.02-.2 1.41-.59l7.78-7.78 2.81-2.81c.8-.78.8-2.07 0-2.86zM5.41 20L4 18.59l7.72-7.72 1.47 1.35L5.41 20z\"/>\n",
              "  </svg>\n",
              "      </button>\n",
              "      \n",
              "  <style>\n",
              "    .colab-df-container {\n",
              "      display:flex;\n",
              "      flex-wrap:wrap;\n",
              "      gap: 12px;\n",
              "    }\n",
              "\n",
              "    .colab-df-convert {\n",
              "      background-color: #E8F0FE;\n",
              "      border: none;\n",
              "      border-radius: 50%;\n",
              "      cursor: pointer;\n",
              "      display: none;\n",
              "      fill: #1967D2;\n",
              "      height: 32px;\n",
              "      padding: 0 0 0 0;\n",
              "      width: 32px;\n",
              "    }\n",
              "\n",
              "    .colab-df-convert:hover {\n",
              "      background-color: #E2EBFA;\n",
              "      box-shadow: 0px 1px 2px rgba(60, 64, 67, 0.3), 0px 1px 3px 1px rgba(60, 64, 67, 0.15);\n",
              "      fill: #174EA6;\n",
              "    }\n",
              "\n",
              "    [theme=dark] .colab-df-convert {\n",
              "      background-color: #3B4455;\n",
              "      fill: #D2E3FC;\n",
              "    }\n",
              "\n",
              "    [theme=dark] .colab-df-convert:hover {\n",
              "      background-color: #434B5C;\n",
              "      box-shadow: 0px 1px 3px 1px rgba(0, 0, 0, 0.15);\n",
              "      filter: drop-shadow(0px 1px 2px rgba(0, 0, 0, 0.3));\n",
              "      fill: #FFFFFF;\n",
              "    }\n",
              "  </style>\n",
              "\n",
              "      <script>\n",
              "        const buttonEl =\n",
              "          document.querySelector('#df-59dbfbb8-a456-437b-97d9-d362a362903f button.colab-df-convert');\n",
              "        buttonEl.style.display =\n",
              "          google.colab.kernel.accessAllowed ? 'block' : 'none';\n",
              "\n",
              "        async function convertToInteractive(key) {\n",
              "          const element = document.querySelector('#df-59dbfbb8-a456-437b-97d9-d362a362903f');\n",
              "          const dataTable =\n",
              "            await google.colab.kernel.invokeFunction('convertToInteractive',\n",
              "                                                     [key], {});\n",
              "          if (!dataTable) return;\n",
              "\n",
              "          const docLinkHtml = 'Like what you see? Visit the ' +\n",
              "            '<a target=\"_blank\" href=https://colab.research.google.com/notebooks/data_table.ipynb>data table notebook</a>'\n",
              "            + ' to learn more about interactive tables.';\n",
              "          element.innerHTML = '';\n",
              "          dataTable['output_type'] = 'display_data';\n",
              "          await google.colab.output.renderOutput(dataTable, element);\n",
              "          const docLink = document.createElement('div');\n",
              "          docLink.innerHTML = docLinkHtml;\n",
              "          element.appendChild(docLink);\n",
              "        }\n",
              "      </script>\n",
              "    </div>\n",
              "  </div>\n",
              "  "
            ]
          },
          "metadata": {},
          "execution_count": 17
        }
      ]
    },
    {
      "cell_type": "code",
      "source": [
        "import matplotlib.pyplot as plt\n",
        "from matplotlib.pyplot import figure\n",
        "\n",
        "figure(figsize=(10,5), dpi=80)\n",
        "\n",
        "df['p1st'].value_counts().plot(kind=\"bar\")\n",
        "plt.title(\"Observaciones\")\n",
        "plt.xlabel(\"Grado de satisfacción con la vida\")\n",
        "plt.xticks(rotation=0)\n",
        "plt.ylabel(\"Cantidad\")\n",
        "plt.show()"
      ],
      "metadata": {
        "id": "o1PMxbgoabk8",
        "outputId": "2ba46eab-dc81-4e99-e2da-2040343510d9",
        "colab": {
          "base_uri": "https://localhost:8080/",
          "height": 383
        }
      },
      "execution_count": 18,
      "outputs": [
        {
          "output_type": "display_data",
          "data": {
            "text/plain": [
              "<Figure size 800x400 with 1 Axes>"
            ],
            "image/png": "[encoded data removed]"
          },
          "metadata": {
            "needs_background": "light"
          }
        }
      ]
    },
    {
      "cell_type": "code",
      "source": [
        "plt.title('Satisfacción con la vida por edad')\n",
        "plt.xlabel('Edad')\n",
        "plt.ylabel('Satisfacción con la vida')\n",
        "plt.plot(df.groupby('edad')[['p1st_values']].mean())\n",
        "plt.show()"
      ],
      "metadata": {
        "id": "76UmkM1LcCHZ",
        "outputId": "790f0efe-d3c7-48f9-c6c1-b020360abdc7",
        "colab": {
          "base_uri": "https://localhost:8080/",
          "height": 295
        }
      },
      "execution_count": null,
      "outputs": [
        {
          "output_type": "display_data",
          "data": {
            "text/plain": [
              "<Figure size 432x288 with 1 Axes>"
            ],
            "image/png": "[encoded data removed]"
          },
          "metadata": {
            "needs_background": "light"
          }
        }
      ]
    },
    {
      "cell_type": "code",
      "source": [
        "df['reeduc_1'].value_counts()"
      ],
      "metadata": {
        "id": "KgtTjKSwlytd",
        "outputId": "2e8b8e5c-3479-4e88-caa1-40339f0756a4",
        "colab": {
          "base_uri": "https://localhost:8080/"
        }
      },
      "execution_count": null,
      "outputs": [
        {
          "output_type": "execute_result",
          "data": {
            "text/plain": [
              "Secundaria, media, tÃ©cnica completa      5677\n",
              "BÃ¡sica completa                          3497\n",
              "Superior completa                         2928\n",
              "Secundaria, media, tÃ©cnica incompleta    2613\n",
              "BÃ¡sica incompleta                        2189\n",
              "Superior Incompleta                       1842\n",
              "Analfabeto                                1455\n",
              "Sin dato                                     3\n",
              "Name: reeduc_1, dtype: int64"
            ]
          },
          "metadata": {},
          "execution_count": 79
        }
      ]
    },
    {
      "cell_type": "code",
      "source": [
        "df['reeduc_1'].unique()"
      ],
      "metadata": {
        "id": "zN0heOvYpETh",
        "outputId": "6c01391f-d1e9-4a2d-ec32-f3bc23eb7ce7",
        "colab": {
          "base_uri": "https://localhost:8080/"
        }
      },
      "execution_count": 19,
      "outputs": [
        {
          "output_type": "execute_result",
          "data": {
            "text/plain": [
              "['BÃ¡sica incompleta', 'Superior Incompleta', 'BÃ¡sica completa', 'Superior completa', 'Secundaria, media, tÃ©cnica incompleta', 'Secundaria, media, tÃ©cnica completa', 'Analfabeto', 'Sin dato']\n",
              "Categories (8, object): ['Sin dato' < 'Analfabeto' < 'BÃ¡sica incompleta' < 'BÃ¡sica completa' <\n",
              "                         'Secundaria, media, tÃ©cnica incompleta' < 'Secundaria, media, tÃ©cnica completa' <\n",
              "                         'Superior Incompleta' < 'Superior completa']"
            ]
          },
          "metadata": {},
          "execution_count": 19
        }
      ]
    },
    {
      "cell_type": "code",
      "source": [
        "df['reeduc_1_values']=df['reeduc_1'].replace(df['reeduc_1'].unique(), [5, 15, 7, 20, 16, 18, 2, np.nan], inplace=False)"
      ],
      "metadata": {
        "id": "FwSTGw6JowII",
        "outputId": "5fdb59a7-11d1-45de-d5f5-83b4c59c82c9",
        "colab": {
          "base_uri": "https://localhost:8080/"
        }
      },
      "execution_count": 24,
      "outputs": [
        {
          "output_type": "stream",
          "name": "stderr",
          "text": [
            "/usr/local/lib/python3.7/dist-packages/ipykernel_launcher.py:1: PerformanceWarning: DataFrame is highly fragmented.  This is usually the result of calling `frame.insert` many times, which has poor performance.  Consider joining all columns at once using pd.concat(axis=1) instead.  To get a de-fragmented frame, use `newframe = frame.copy()`\n",
            "  \"\"\"Entry point for launching an IPython kernel.\n"
          ]
        }
      ]
    },
    {
      "cell_type": "markdown",
      "source": [
        "# Regresión lineal"
      ],
      "metadata": {
        "id": "Fikoz3TVtZ0a"
      }
    },
    {
      "cell_type": "code",
      "source": [
        "df=df.dropna()"
      ],
      "metadata": {
        "id": "lvaXiUrjs36N"
      },
      "execution_count": 26,
      "outputs": []
    },
    {
      "cell_type": "code",
      "source": [
        "df.shape"
      ],
      "metadata": {
        "id": "uK0X1a7r0TBv",
        "outputId": "47feee9e-af6d-4034-aaa2-9ed4a5cae837",
        "colab": {
          "base_uri": "https://localhost:8080/"
        }
      },
      "execution_count": 27,
      "outputs": [
        {
          "output_type": "execute_result",
          "data": {
            "text/plain": [
              "(19948, 410)"
            ]
          },
          "metadata": {},
          "execution_count": 27
        }
      ]
    },
    {
      "cell_type": "code",
      "source": [
        "from sklearn import linear_model\n",
        "\n",
        "X = df['reeduc_1_values'].values.reshape(-1,1)\n",
        "y = df['p1st_values'].values\n",
        "lr = linear_model.LinearRegression()\n",
        "lr.fit(X, y)\n",
        "Yest = lr.predict(X)"
      ],
      "metadata": {
        "id": "eqIWHW3-poPv"
      },
      "execution_count": 28,
      "outputs": []
    },
    {
      "cell_type": "code",
      "source": [
        "print('DATOS DEL MODELO REGRESIÓN LINEAL SIMPLE')\n",
        "print()\n",
        "print('Valor de la pendiente o coeficiente \"a\":')\n",
        "print(lr.coef_)\n",
        "print('Valor de la intersección o coeficiente \"b\":')\n",
        "print(lr.intercept_)\n",
        "print()\n",
        "print('La ecuación del modelo es igual a:')\n",
        "print('y = ',lr.intercept_, '+ ', lr.coef_, 'x ', )\n",
        "print()\n",
        "print('R2 del modelo:')\n",
        "print(lr.score(X, y))"
      ],
      "metadata": {
        "id": "3Y1q4nAZtBOc",
        "outputId": "9689210b-0421-4d62-9be7-e5f06a133e91",
        "colab": {
          "base_uri": "https://localhost:8080/"
        }
      },
      "execution_count": 31,
      "outputs": [
        {
          "output_type": "stream",
          "name": "stdout",
          "text": [
            "DATOS DEL MODELO REGRESIÓN LINEAL SIMPLE\n",
            "\n",
            "Valor de la pendiente o coeficiente \"a\":\n",
            "[0.01350802]\n",
            "Valor de la intersección o coeficiente \"b\":\n",
            "7.4047017929613705\n",
            "\n",
            "La ecuación del modelo es igual a:\n",
            "y =  7.4047017929613705 +  [0.01350802] x \n",
            "\n",
            "R2 del modelo:\n",
            "0.0014557458059991646\n"
          ]
        }
      ]
    },
    {
      "cell_type": "code",
      "source": [
        "import statsmodels.formula.api as smf"
      ],
      "metadata": {
        "id": "9sJNraj1tcNV"
      },
      "execution_count": 32,
      "outputs": []
    },
    {
      "cell_type": "code",
      "source": [
        "datos=pd.DataFrame(data=np.column_stack((X,y)),columns=['X','y'])\n",
        "\n",
        "formula = 'y ~ X'\n",
        "\n",
        "lm = smf.ols(formula=formula, data=datos).fit()\n",
        "print(lm.params)\n",
        "\n",
        "lm.rsquared"
      ],
      "metadata": {
        "id": "cENZp_YdtjU2",
        "outputId": "90fd89dd-c2d2-4c9b-e915-42d5106abfed",
        "colab": {
          "base_uri": "https://localhost:8080/"
        }
      },
      "execution_count": 33,
      "outputs": [
        {
          "output_type": "stream",
          "name": "stdout",
          "text": [
            "Intercept    7.404702\n",
            "X            0.013508\n",
            "dtype: float64\n"
          ]
        },
        {
          "output_type": "execute_result",
          "data": {
            "text/plain": [
              "0.001455745806001163"
            ]
          },
          "metadata": {},
          "execution_count": 33
        }
      ]
    },
    {
      "cell_type": "code",
      "source": [
        "lm.summary()"
      ],
      "metadata": {
        "id": "SIOB08FZuFW3",
        "outputId": "68137057-4619-43f2-e3d5-d3a754eabf02",
        "colab": {
          "base_uri": "https://localhost:8080/",
          "height": 452
        }
      },
      "execution_count": 34,
      "outputs": [
        {
          "output_type": "execute_result",
          "data": {
            "text/plain": [
              "<class 'statsmodels.iolib.summary.Summary'>\n",
              "\"\"\"\n",
              "                            OLS Regression Results                            \n",
              "==============================================================================\n",
              "Dep. Variable:                      y   R-squared:                       0.001\n",
              "Model:                            OLS   Adj. R-squared:                  0.001\n",
              "Method:                 Least Squares   F-statistic:                     29.08\n",
              "Date:                Wed, 30 Nov 2022   Prob (F-statistic):           7.03e-08\n",
              "Time:                        00:04:36   Log-Likelihood:                -43630.\n",
              "No. Observations:               19948   AIC:                         8.726e+04\n",
              "Df Residuals:                   19946   BIC:                         8.728e+04\n",
              "Df Model:                           1                                         \n",
              "Covariance Type:            nonrobust                                         \n",
              "==============================================================================\n",
              "                 coef    std err          t      P>|t|      [0.025      0.975]\n",
              "------------------------------------------------------------------------------\n",
              "Intercept      7.4047      0.037    201.394      0.000       7.333       7.477\n",
              "X              0.0135      0.003      5.392      0.000       0.009       0.018\n",
              "==============================================================================\n",
              "Omnibus:                     5433.078   Durbin-Watson:                   1.735\n",
              "Prob(Omnibus):                  0.000   Jarque-Bera (JB):             1079.067\n",
              "Skew:                          -0.249   Prob(JB):                    4.82e-235\n",
              "Kurtosis:                       1.975   Cond. No.                         35.5\n",
              "==============================================================================\n",
              "\n",
              "Notes:\n",
              "[1] Standard Errors assume that the covariance matrix of the errors is correctly specified.\n",
              "\"\"\""
            ],
            "text/html": [
              "<table class=\"simpletable\">\n",
              "<caption>OLS Regression Results</caption>\n",
              "<tr>\n",
              "  <th>Dep. Variable:</th>            <td>y</td>        <th>  R-squared:         </th> <td>   0.001</td> \n",
              "</tr>\n",
              "<tr>\n",
              "  <th>Model:</th>                   <td>OLS</td>       <th>  Adj. R-squared:    </th> <td>   0.001</td> \n",
              "</tr>\n",
              "<tr>\n",
              "  <th>Method:</th>             <td>Least Squares</td>  <th>  F-statistic:       </th> <td>   29.08</td> \n",
              "</tr>\n",
              "<tr>\n",
              "  <th>Date:</th>             <td>Wed, 30 Nov 2022</td> <th>  Prob (F-statistic):</th> <td>7.03e-08</td> \n",
              "</tr>\n",
              "<tr>\n",
              "  <th>Time:</th>                 <td>00:04:36</td>     <th>  Log-Likelihood:    </th> <td> -43630.</td> \n",
              "</tr>\n",
              "<tr>\n",
              "  <th>No. Observations:</th>      <td> 19948</td>      <th>  AIC:               </th> <td>8.726e+04</td>\n",
              "</tr>\n",
              "<tr>\n",
              "  <th>Df Residuals:</th>          <td> 19946</td>      <th>  BIC:               </th> <td>8.728e+04</td>\n",
              "</tr>\n",
              "<tr>\n",
              "  <th>Df Model:</th>              <td>     1</td>      <th>                     </th>     <td> </td>    \n",
              "</tr>\n",
              "<tr>\n",
              "  <th>Covariance Type:</th>      <td>nonrobust</td>    <th>                     </th>     <td> </td>    \n",
              "</tr>\n",
              "</table>\n",
              "<table class=\"simpletable\">\n",
              "<tr>\n",
              "      <td></td>         <th>coef</th>     <th>std err</th>      <th>t</th>      <th>P>|t|</th>  <th>[0.025</th>    <th>0.975]</th>  \n",
              "</tr>\n",
              "<tr>\n",
              "  <th>Intercept</th> <td>    7.4047</td> <td>    0.037</td> <td>  201.394</td> <td> 0.000</td> <td>    7.333</td> <td>    7.477</td>\n",
              "</tr>\n",
              "<tr>\n",
              "  <th>X</th>         <td>    0.0135</td> <td>    0.003</td> <td>    5.392</td> <td> 0.000</td> <td>    0.009</td> <td>    0.018</td>\n",
              "</tr>\n",
              "</table>\n",
              "<table class=\"simpletable\">\n",
              "<tr>\n",
              "  <th>Omnibus:</th>       <td>5433.078</td> <th>  Durbin-Watson:     </th> <td>   1.735</td> \n",
              "</tr>\n",
              "<tr>\n",
              "  <th>Prob(Omnibus):</th>  <td> 0.000</td>  <th>  Jarque-Bera (JB):  </th> <td>1079.067</td> \n",
              "</tr>\n",
              "<tr>\n",
              "  <th>Skew:</th>           <td>-0.249</td>  <th>  Prob(JB):          </th> <td>4.82e-235</td>\n",
              "</tr>\n",
              "<tr>\n",
              "  <th>Kurtosis:</th>       <td> 1.975</td>  <th>  Cond. No.          </th> <td>    35.5</td> \n",
              "</tr>\n",
              "</table><br/><br/>Notes:<br/>[1] Standard Errors assume that the covariance matrix of the errors is correctly specified."
            ]
          },
          "metadata": {},
          "execution_count": 34
        }
      ]
    }
  ],
  "metadata": {
    "colab": {
      "provenance": [],
      "authorship_tag": "ABX9TyMIDwxqhe664SH6sPTWT4lP",
      "include_colab_link": true
    },
    "kernelspec": {
      "display_name": "Python 3",
      "name": "python3"
    },
    "language_info": {
      "name": "python"
    }
  },
  "nbformat": 4,
  "nbformat_minor": 0
}